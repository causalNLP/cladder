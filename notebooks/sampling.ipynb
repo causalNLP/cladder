{
 "cells": [
  {
   "cell_type": "code",
   "execution_count": 6,
   "metadata": {
    "collapsed": true
   },
   "outputs": [],
   "source": [
    "import numpy as np\n",
    "np.set_printoptions(precision=3, suppress=True, linewidth=120);"
   ]
  },
  {
   "cell_type": "code",
   "execution_count": 1,
   "outputs": [],
   "source": [],
   "metadata": {
    "collapsed": false
   }
  },
  {
   "cell_type": "code",
   "execution_count": 3,
   "outputs": [],
   "source": [
    "diffs = 0.3, -0.1"
   ],
   "metadata": {
    "collapsed": false
   }
  },
  {
   "cell_type": "code",
   "execution_count": 4,
   "outputs": [],
   "source": [
    "assert sum(map(abs,diffs)) <= 1, f'specified gaps are exceed total range: {sum(map(abs,diffs))} > 1'"
   ],
   "metadata": {
    "collapsed": false
   }
  },
  {
   "cell_type": "code",
   "execution_count": 10,
   "outputs": [
    {
     "data": {
      "text/plain": "array([  0.1       ,   0.56234133,   3.16227766,  17.7827941 ,\n       100.        ])"
     },
     "execution_count": 10,
     "metadata": {},
     "output_type": "execute_result"
    }
   ],
   "source": [
    "np.logspace(-1, 2, 5)"
   ],
   "metadata": {
    "collapsed": false
   }
  },
  {
   "cell_type": "code",
   "execution_count": 16,
   "outputs": [
    {
     "data": {
      "text/plain": "(2, 2)"
     },
     "execution_count": 16,
     "metadata": {},
     "output_type": "execute_result"
    }
   ],
   "source": [
    "lims = np.zeros([2]*len(diffs))\n",
    "lims.shape"
   ],
   "metadata": {
    "collapsed": false
   }
  },
  {
   "cell_type": "code",
   "execution_count": 17,
   "outputs": [],
   "source": [
    "all = [slice(None)]*len(diffs)\n",
    "for i, diff in enumerate(diffs):\n",
    "\tsel = all.copy()\n",
    "\tsel[i] = 1\n",
    "\tlims[tuple(sel)] += diff\n",
    "lims -= lims.min()"
   ],
   "metadata": {
    "collapsed": false
   }
  },
  {
   "cell_type": "code",
   "execution_count": 21,
   "outputs": [
    {
     "data": {
      "text/plain": "0.5752624887573791"
     },
     "execution_count": 21,
     "metadata": {},
     "output_type": "execute_result"
    }
   ],
   "source": [
    "mxlim = lims.max()\n",
    "# bias = np.random.uniform(0, 1-lims.max())\n",
    "temp = np.random.uniform(0, 1, lims.shape)"
   ],
   "metadata": {
    "collapsed": false
   }
  },
  {
   "cell_type": "code",
   "execution_count": 23,
   "outputs": [
    {
     "data": {
      "text/plain": "0.916290731874155"
     },
     "execution_count": 23,
     "metadata": {},
     "output_type": "execute_result"
    }
   ],
   "source": [
    "mx_temp = -np.log(mxlim)\n",
    "mx_temp"
   ],
   "metadata": {
    "collapsed": false
   }
  },
  {
   "cell_type": "code",
   "execution_count": 253,
   "outputs": [
    {
     "data": {
      "text/plain": "array([[0.1, 0. ],\n       [0.4, 0.3]])"
     },
     "execution_count": 253,
     "metadata": {},
     "output_type": "execute_result"
    }
   ],
   "source": [
    "lims# * np.exp(mx_temp)"
   ],
   "metadata": {
    "collapsed": false
   }
  },
  {
   "cell_type": "code",
   "execution_count": 395,
   "outputs": [],
   "source": [
    "def sample_numbers(N, gaps):\n",
    "    # Ensure that sum of gaps is at most 1\n",
    "    if sum(gaps) > 1:\n",
    "        raise ValueError(\"Sum of gaps exceeds 1.\")\n",
    "\n",
    "    # Calculate the remaining space after accounting for the gaps\n",
    "    remaining_space = 1 - sum(gaps)\n",
    "\n",
    "    # Uniformly sample N points from the remaining space\n",
    "    points = np.random.uniform(0, remaining_space, size=N)\n",
    "\n",
    "    # Sort the points in ascending order\n",
    "    points.sort()\n",
    "\n",
    "    # Add each gap to the corresponding point\n",
    "    for i in range(1, N):\n",
    "        points[i] += sum(gaps[:i])\n",
    "\n",
    "    return points\n",
    "\n",
    "\n",
    "def sample_numbers(N, gaps):\n",
    "    # Ensure that sum of gaps is at most 1\n",
    "    if sum(gaps) > 1:\n",
    "        raise ValueError(\"Sum of gaps exceeds 1.\")\n",
    "\n",
    "    # Calculate the remaining space after accounting for the gaps\n",
    "    remaining_space = 1 - sum(gaps)\n",
    "    # print(remaining_space)\n",
    "\n",
    "    # Sample arbitrary \"spaces\" to be added to each gap\n",
    "    spaces = np.random.uniform(0, 1, size=N-1)\n",
    "    spaces[0] *= np.sqrt(N-1)\n",
    "    spaces[-1] *= np.sqrt(N-1)\n",
    "\n",
    "    # Normalize the spaces so that they sum up to the remaining_space\n",
    "    spaces = spaces / spaces.sum() * remaining_space\n",
    "\n",
    "\n",
    "    numbers = spaces.cumsum() + gaps.cumsum()\n",
    "\n",
    "    # # Generate the numbers by cumulatively adding the gaps and spaces\n",
    "    # numbers = np.zeros(N)\n",
    "    # for i in range(1, N):\n",
    "    #     numbers[i] = numbers[i-1] + gaps[i-1] + spaces[i-1]\n",
    "\n",
    "    return numbers\n"
   ],
   "metadata": {
    "collapsed": false
   }
  },
  {
   "cell_type": "code",
   "execution_count": 443,
   "outputs": [
    {
     "name": "stdout",
     "output_type": "stream",
     "text": [
      "[0.027 0.236 0.564 0.744 1.   ]\n",
      "[0.209 0.327 0.18  0.256]\n"
     ]
    }
   ],
   "source": [
    "gaps = np.asarray([0, 0.1, 0.2, 0.1, 0])  # example gaps\n",
    "N = len(gaps) + 1\n",
    "points = sample_numbers(N, gaps)\n",
    "# print(points)\n",
    "# print(points[1:] - points[:-1])\n",
    "probs = points#[:-1]\n",
    "print(probs)\n",
    "print(probs[1:] - probs[:-1])"
   ],
   "metadata": {
    "collapsed": false
   }
  },
  {
   "cell_type": "code",
   "execution_count": 626,
   "outputs": [],
   "source": [
    "\n",
    "def sample_gapped_numbers(gaps, bias=None):\n",
    "    gaps = np.asarray(gaps)\n",
    "    squeeze = False\n",
    "    if gaps.ndim == 1:\n",
    "        squeeze = True\n",
    "        gaps = gaps.reshape(1, -1)\n",
    "    gaps = gaps.T\n",
    "    D, B = gaps.shape\n",
    "\n",
    "    if bias is None:\n",
    "        bias = D\n",
    "\n",
    "    lims = np.zeros((D+2, B))\n",
    "    lims[1:-1] = gaps\n",
    "\n",
    "    coverage = gaps.sum(0,keepdims=True)\n",
    "    if np.any(coverage > 1):\n",
    "        raise ValueError(\"Sum of gaps exceeds 1.\")\n",
    "\n",
    "    remaining = 1 - coverage\n",
    "\n",
    "    spaces = np.random.uniform(0, 1, size=(D+2, B))\n",
    "    spaces[0] *= bias\n",
    "    spaces[-1] *= bias\n",
    "\n",
    "    spaces = spaces / spaces.sum(0, keepdims=True) * remaining\n",
    "\n",
    "    numbers = spaces.cumsum(0) + lims.cumsum(0)\n",
    "\n",
    "    samples = numbers[:-1].T\n",
    "    if squeeze:\n",
    "        samples = samples.squeeze()\n",
    "    return samples"
   ],
   "metadata": {
    "collapsed": false
   }
  },
  {
   "cell_type": "code",
   "execution_count": 875,
   "outputs": [
    {
     "name": "stdout",
     "output_type": "stream",
     "text": [
      "[[0.253 0.323 0.105 0.277 0.234]\n",
      " [0.382 0.488 0.212 0.415 0.367]\n",
      " [0.587 0.723 0.542 0.616 0.616]\n",
      " [0.68  0.745 0.562 0.624 0.656]\n",
      " [0.687 0.764 0.616 0.641 0.66 ]\n",
      " [0.797 0.825 0.698 0.681 0.71 ]\n",
      " [0.925 0.932 0.838 0.819 0.857]]\n",
      "[[0.129 0.165 0.106 0.139 0.133]\n",
      " [0.205 0.235 0.33  0.2   0.249]\n",
      " [0.093 0.022 0.02  0.008 0.04 ]\n",
      " [0.008 0.019 0.054 0.017 0.005]\n",
      " [0.11  0.061 0.083 0.04  0.05 ]\n",
      " [0.128 0.107 0.14  0.139 0.147]]\n",
      "[0.672 0.609 0.733 0.543 0.623]\n"
     ]
    }
   ],
   "source": [
    "gaps = np.asarray([0.1, 0.2, 0., 0., 0., 0.1])  # example gaps\n",
    "probs = sample_gapped_numbers(np.tile(gaps, (5,1))).T\n",
    "print(probs)\n",
    "print(probs[1:] - probs[:-1])\n",
    "print((probs[-1]-probs[0]))"
   ],
   "metadata": {
    "collapsed": false
   }
  },
  {
   "cell_type": "code",
   "execution_count": 886,
   "outputs": [
    {
     "data": {
      "text/plain": "array([False, False,  True,  True,  True, False])"
     },
     "execution_count": 886,
     "metadata": {},
     "output_type": "execute_result"
    }
   ],
   "source": [
    "gsel = np.isclose(gaps,0)\n",
    "gsel"
   ],
   "metadata": {
    "collapsed": false
   }
  },
  {
   "cell_type": "code",
   "execution_count": 887,
   "outputs": [
    {
     "data": {
      "text/plain": "array([False, False,  True,  True,  True,  True, False])"
     },
     "execution_count": 887,
     "metadata": {},
     "output_type": "execute_result"
    }
   ],
   "source": [
    "N = 7\n",
    "\n",
    "sel = np.zeros(N, dtype=bool)\n",
    "sel[1:] = gsel\n",
    "sel[:-1] += gsel\n",
    "sel"
   ],
   "metadata": {
    "collapsed": false
   }
  },
  {
   "cell_type": "code",
   "execution_count": 881,
   "outputs": [
    {
     "data": {
      "text/plain": "array([0.253, 0.382, 0.587, 0.68 , 0.687, 0.797, 0.925])"
     },
     "execution_count": 881,
     "metadata": {},
     "output_type": "execute_result"
    }
   ],
   "source": [
    "probs.T[0]"
   ],
   "metadata": {
    "collapsed": false
   }
  },
  {
   "cell_type": "code",
   "execution_count": 890,
   "outputs": [
    {
     "name": "stdout",
     "output_type": "stream",
     "text": [
      "[2]\n",
      "[4]\n"
     ]
    }
   ],
   "source": [
    "import numpy as np\n",
    "\n",
    "def find_blobs(arr):\n",
    "    # Ensure that the array is a numpy array\n",
    "    if type(arr) != np.ndarray:\n",
    "        arr = np.array(arr)\n",
    "\n",
    "    # Add zero at the start and at the end to handle edge blobs\n",
    "    arr = np.concatenate(([0], arr, [0]))\n",
    "\n",
    "    # Compute the differences between consecutive elements\n",
    "    diffs = np.diff(arr)\n",
    "\n",
    "    # Find the indices where blobs start (1) and end (-1)\n",
    "    starts = np.where(diffs == 1)[0]\n",
    "    ends = np.where(diffs == -1)[0]\n",
    "\n",
    "    # Compute the sizes of the blobs\n",
    "    sizes = ends - starts\n",
    "\n",
    "    return starts.tolist(), sizes.tolist()\n",
    "\n",
    "# arr = np.array(sel)#.astype(bool)\n",
    "blob_sizes, blob_indices = find_blobs(sel)\n",
    "print(blob_sizes)\n",
    "print(blob_indices)"
   ],
   "metadata": {
    "collapsed": false
   }
  },
  {
   "cell_type": "code",
   "execution_count": 1,
   "outputs": [],
   "source": [
    "import numpy as np"
   ],
   "metadata": {
    "collapsed": false
   }
  },
  {
   "cell_type": "code",
   "execution_count": 2,
   "outputs": [],
   "source": [
    "\n",
    "def sample_gapped_numbers(gaps, bias=None):\n",
    "    gaps = np.asarray(gaps)\n",
    "    squeeze = False\n",
    "    if gaps.ndim == 1:\n",
    "        squeeze = True\n",
    "        gaps = gaps.reshape(1, -1)\n",
    "    gaps = gaps.T\n",
    "    D, B = gaps.shape\n",
    "\n",
    "    if bias is None:\n",
    "        bias = D\n",
    "\n",
    "    lims = np.zeros((D+2, B))\n",
    "    lims[1:-1] = gaps\n",
    "\n",
    "    coverage = gaps.sum(0,keepdims=True)\n",
    "    if np.any(coverage > 1):\n",
    "        raise ValueError(\"Sum of gaps exceeds 1.\")\n",
    "\n",
    "    remaining = 1 - coverage\n",
    "\n",
    "    spaces = np.random.uniform(0, 1, size=(D+2, B))\n",
    "    spaces[0] *= bias\n",
    "    spaces[-1] *= bias\n",
    "\n",
    "    spaces = spaces / spaces.sum(0, keepdims=True) * remaining\n",
    "\n",
    "    numbers = spaces.cumsum(0) + lims.cumsum(0)\n",
    "\n",
    "    samples = numbers[:-1].T\n",
    "    if squeeze:\n",
    "        samples = samples.squeeze()\n",
    "    return samples\n",
    "\n",
    "def find_blobs(arr):\n",
    "    # Ensure that the array is a numpy array\n",
    "    if type(arr) != np.ndarray:\n",
    "        arr = np.array(arr)\n",
    "\n",
    "    # Add zero at the start and at the end to handle edge blobs\n",
    "    arr = np.concatenate(([0], arr, [0]))\n",
    "\n",
    "    # Compute the differences between consecutive elements\n",
    "    diffs = np.diff(arr)\n",
    "\n",
    "    # Find the indices where blobs start (1) and end (-1)\n",
    "    starts = np.where(diffs == 1)[0]\n",
    "    ends = np.where(diffs == -1)[0]\n",
    "\n",
    "    # Compute the sizes of the blobs\n",
    "    sizes = ends - starts\n",
    "\n",
    "    return starts.tolist(), sizes.tolist()\n"
   ],
   "metadata": {
    "collapsed": false
   }
  },
  {
   "cell_type": "code",
   "execution_count": 22,
   "outputs": [],
   "source": [
    "diffs = 0., 0."
   ],
   "metadata": {
    "collapsed": false
   }
  },
  {
   "cell_type": "code",
   "execution_count": 23,
   "outputs": [
    {
     "data": {
      "text/plain": "array([[0., 0.],\n       [0., 0.]])"
     },
     "execution_count": 23,
     "metadata": {},
     "output_type": "execute_result"
    }
   ],
   "source": [
    "lims = np.zeros([2]*len(diffs))\n",
    "lims.shape\n",
    "all = [slice(None)]*len(diffs)\n",
    "for i, diff in enumerate(diffs):\n",
    "\tsel = all.copy()\n",
    "\tsel[i] = 1\n",
    "\tlims[tuple(sel)] += diff\n",
    "lims -= lims.min()\n",
    "lims"
   ],
   "metadata": {
    "collapsed": false
   }
  },
  {
   "cell_type": "code",
   "execution_count": 35,
   "outputs": [
    {
     "data": {
      "text/plain": "array([[0.379, 0.099],\n       [0.556, 0.897]])"
     },
     "execution_count": 35,
     "metadata": {},
     "output_type": "execute_result"
    }
   ],
   "source": [
    "order = np.argsort(lims.reshape(-1))\n",
    "line = lims.reshape(-1)[order]\n",
    "gaps = line[1:] - line[:-1]\n",
    "samples = sample_gapped_numbers(gaps)\n",
    "gsel = np.isclose(gaps,0)\n",
    "sel = np.zeros(len(gaps)+1, dtype=bool)\n",
    "sel[1:] = gsel\n",
    "sel[:-1] += gsel\n",
    "blob_indices, blob_sizes = find_blobs(sel)\n",
    "for i, n in zip(blob_indices, blob_sizes):\n",
    "    prev, new = np.arange(n)+i, np.random.permutation(n)+i\n",
    "    samples[new] = samples[prev]\n",
    "probs = samples[np.argsort(order)].reshape(lims.shape)\n",
    "probs"
   ],
   "metadata": {
    "collapsed": false
   }
  },
  {
   "cell_type": "code",
   "execution_count": null,
   "outputs": [],
   "source": [],
   "metadata": {
    "collapsed": false
   }
  },
  {
   "cell_type": "code",
   "execution_count": null,
   "outputs": [],
   "source": [],
   "metadata": {
    "collapsed": false
   }
  },
  {
   "cell_type": "code",
   "execution_count": null,
   "outputs": [],
   "source": [],
   "metadata": {
    "collapsed": false
   }
  }
 ],
 "metadata": {
  "kernelspec": {
   "display_name": "Python 3",
   "language": "python",
   "name": "python3"
  },
  "language_info": {
   "codemirror_mode": {
    "name": "ipython",
    "version": 2
   },
   "file_extension": ".py",
   "mimetype": "text/x-python",
   "name": "python",
   "nbconvert_exporter": "python",
   "pygments_lexer": "ipython2",
   "version": "2.7.6"
  }
 },
 "nbformat": 4,
 "nbformat_minor": 0
}
