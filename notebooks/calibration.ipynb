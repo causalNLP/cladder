{
 "cells": [
  {
   "cell_type": "code",
   "execution_count": 1,
   "metadata": {
    "collapsed": true
   },
   "outputs": [],
   "source": [
    "\n",
    "from tqdm.notebook import tqdm\n",
    "import numpy as np\n",
    "import seaborn as sns\n",
    "sns.set_theme(style=\"darkgrid\")\n",
    "from matplotlib import pyplot as plt\n",
    "\n",
    "from causalbenchmark.graphs import create_graph, BayesNet, hparam, node\n",
    "# from causalbenchmark.graphs.builders import RelativeSpawner, RelativeBuilder, RelativeSCMEnsemble\n",
    "from causalbenchmark.graphs.builders import MechanismCorrelationBuilder\n",
    "\n",
    "from causalbenchmark.test._test_util import example_labels\n",
    "np.set_printoptions(precision=3, suppress=True)"
   ]
  },
  {
   "cell_type": "code",
   "execution_count": 2,
   "outputs": [
    {
     "name": "stdout",
     "output_type": "stream",
     "text": [
      "p(Z) p(X | Z) p(Y | X, Z)\n"
     ]
    }
   ],
   "source": [
    "story_id = 'example-confounding'\n",
    "\n",
    "scm = create_graph(story_id)\n",
    "print(scm)"
   ],
   "metadata": {
    "collapsed": false
   }
  },
  {
   "cell_type": "code",
   "execution_count": 3,
   "outputs": [],
   "source": [
    "def plot_distribution(data, **kwargs):\n",
    "\t# sns.histplot(data)\n",
    "\tsns.kdeplot(data)\n",
    "\n",
    "\tplt.xlabel('Value')\n",
    "\tplt.ylabel('Density')\n",
    "\tplt.xlim(-1, 1)\n",
    "\n",
    "\t# Show the plot\n",
    "\t# plt.show()\n",
    "\tprint(f'Mean: {ates.mean():.2f} [{ates.min():.2f}, {ates.max():.2f}]')\n"
   ],
   "metadata": {
    "collapsed": false
   }
  },
  {
   "cell_type": "code",
   "execution_count": 4,
   "outputs": [],
   "source": [
    "metric = lambda ensemble: [val['Y'] for val in tqdm(ensemble.ate_samples('X'), total=N)]\n",
    "# metric = lambda ensemble: [val['Y'] for val in tqdm(ensemble.ett('X'), total=N)]"
   ],
   "metadata": {
    "collapsed": false
   }
  },
  {
   "cell_type": "code",
   "execution_count": 5,
   "outputs": [],
   "source": [
    "story_id = 'example-confounding'\n",
    "\n",
    "builder = MechanismCorrelationBuilder(seed=100)\n",
    "\n",
    "specs = np.array(list(builder.spawn_specs(story_id)))"
   ],
   "metadata": {
    "collapsed": false
   }
  },
  {
   "cell_type": "code",
   "execution_count": 9,
   "outputs": [
    {
     "data": {
      "text/plain": "{'Z': 0, 'X': {'Z': -1}, 'Y': {'X': -1, 'Z': 0}}"
     },
     "execution_count": 9,
     "metadata": {},
     "output_type": "execute_result"
    }
   ],
   "source": [
    "spec = np.random.choice(specs)\n",
    "spec = {'Z': 0, 'X': {'Z': -1}, 'Y': {'X': -1, 'Z': 0}}\n",
    "# spec = {'Z': 0, 'X': {'Z': -1}, 'Y': {'X': 0, 'Z': -1}}\n",
    "# spec = {'Z': 0, 'X': {'Z': 0}, 'Y': {'X': 1, 'Z': 0}}\n",
    "# spec = {'Z': 1, 'X': {'Z': 0}, 'Y': {'X': 1, 'Z': 0}}\n",
    "spec"
   ],
   "metadata": {
    "collapsed": false
   }
  },
  {
   "cell_type": "code",
   "execution_count": 10,
   "outputs": [
    {
     "name": "stdout",
     "output_type": "stream",
     "text": [
      "<causalbenchmark.graphs.ensembles.SCMEnsemble object at 0x000002A16B61F5E0>\n"
     ]
    }
   ],
   "source": [
    "N = 100\n",
    "\n",
    "ensemble = builder.generate_scm(graph_id=story_id, spec=spec, size=N)\n",
    "print(ensemble)"
   ],
   "metadata": {
    "collapsed": false
   }
  },
  {
   "cell_type": "code",
   "execution_count": 11,
   "outputs": [
    {
     "data": {
      "text/plain": "  0%|          | 0/100 [00:00<?, ?it/s]",
      "application/vnd.jupyter.widget-view+json": {
       "version_major": 2,
       "version_minor": 0,
       "model_id": "21a3c18abe5c4fd98d9f2103f30df084"
      },
      "application/json": {
       "n": 0,
       "total": 100,
       "elapsed": 0.005510807037353516,
       "ncols": null,
       "nrows": null,
       "prefix": "",
       "ascii": false,
       "unit": "it",
       "unit_scale": false,
       "rate": null,
       "bar_format": null,
       "postfix": null,
       "unit_divisor": 1000,
       "initial": 0,
       "colour": null
      }
     },
     "metadata": {},
     "output_type": "display_data"
    },
    {
     "name": "stdout",
     "output_type": "stream",
     "text": [
      "Mean: -0.47 [-0.83, -0.26]\n"
     ]
    },
    {
     "data": {
      "text/plain": "(-0.832712335023192, -0.2559990678860825)"
     },
     "execution_count": 11,
     "metadata": {},
     "output_type": "execute_result"
    },
    {
     "data": {
      "text/plain": "<Figure size 640x480 with 1 Axes>",
      "image/png": "[encoded data removed]"
     },
     "metadata": {},
     "output_type": "display_data"
    }
   ],
   "source": [
    "ates = np.array(metric(ensemble))\n",
    "bounds = ensemble.ate_bounds('Y', 'X')\n",
    "plot_distribution(ates)\n",
    "bounds"
   ],
   "metadata": {
    "collapsed": false
   }
  },
  {
   "cell_type": "code",
   "execution_count": 18,
   "outputs": [
    {
     "data": {
      "text/plain": "<causalbenchmark.graphs.constrained.ConstrainedSCM at 0x2a16c10c700>"
     },
     "execution_count": 18,
     "metadata": {},
     "output_type": "execute_result"
    }
   ],
   "source": [
    "solver =  builder.generate_constrained_scm(graph_id=story_id, spec=spec)\n",
    "\n",
    "solver"
   ],
   "metadata": {
    "collapsed": false
   }
  },
  {
   "cell_type": "code",
   "execution_count": 19,
   "outputs": [
    {
     "name": "stderr",
     "output_type": "stream",
     "text": [
      "C:\\Users\\anwan\\miniconda3\\lib\\site-packages\\scipy\\optimize\\_constraints.py:458: OptimizeWarning: Constraint option `keep_feasible` is ignored by this method.\n",
      "  warn(\"Constraint option `keep_feasible` is ignored by this \"\n"
     ]
    },
    {
     "data": {
      "text/plain": "(-0.9979999999999996, -0.2509999999999998)"
     },
     "execution_count": 19,
     "metadata": {},
     "output_type": "execute_result"
    }
   ],
   "source": [
    "solver.ate_bounds('Y', 'X')"
   ],
   "metadata": {
    "collapsed": false
   }
  },
  {
   "cell_type": "code",
   "execution_count": null,
   "outputs": [],
   "source": [],
   "metadata": {
    "collapsed": false
   }
  },
  {
   "cell_type": "code",
   "execution_count": null,
   "outputs": [],
   "source": [],
   "metadata": {
    "collapsed": false
   }
  },
  {
   "cell_type": "code",
   "execution_count": null,
   "outputs": [],
   "source": [],
   "metadata": {
    "collapsed": false
   }
  },
  {
   "cell_type": "code",
   "execution_count": 19,
   "outputs": [],
   "source": [
    "# Import packages.\n",
    "import cvxpy as cp\n",
    "import numpy as np\n",
    "from scipy import optimize as opt\n",
    "from scipy.optimize import LinearConstraint"
   ],
   "metadata": {
    "collapsed": false
   }
  },
  {
   "cell_type": "code",
   "execution_count": 100,
   "outputs": [],
   "source": [
    "eps = 0.001\n",
    "\n",
    "n = 7\n",
    "\n",
    "# x = cp.Variable(n)\n",
    "Q = np.zeros((n, n))\n",
    "Q[0, 3] = 1\n",
    "Q[0, 4] = -1\n",
    "Q[0, 5] = -1\n",
    "Q[0, 6] = 1\n",
    "\n",
    "Q = (Q + Q.T) / 2\n",
    "\n",
    "q = np.zeros(n)\n",
    "q[5] = 1\n",
    "q[6] = -1\n",
    "\n",
    "mx = np.ones(n)\n",
    "mn = np.zeros(n)\n",
    "\n",
    "m = 4\n",
    "\n",
    "A = np.zeros((m, n))\n",
    "\n",
    "A[0, 0] = -1\n",
    "A[1, 2] = 1\n",
    "A[1, 1] = -1\n",
    "A[2, 4] = 1\n",
    "A[2, 3] = -1\n",
    "A[3, 6] = 1\n",
    "A[3, 5] = -1\n",
    "a\n",
    "b = np.zeros(m)\n",
    "b[0] = -0.2\n",
    "b[1:] = eps\n",
    "\n",
    "def objective(x):\n",
    "\treturn x.T @ Q @ x + q.T @ x\n",
    "def neg_objective(x):\n",
    "\treturn -objective(x)\n",
    "\n",
    "\n",
    "constraints = [LinearConstraint(np.eye(n), mn+eps, mx-eps),\n",
    "\t\t\t   LinearConstraint(A, b, np.inf * np.ones(m))]\n",
    "\n",
    "x0 = np.ones(n)*0.5\n",
    "# x0 = np.random.uniform(0, 1, n)\n",
    "# x0 = np.array([0.1, 0.2, 0.3, 0.4, 0.5, 0.6, 0.7])\n",
    "\n",
    "method = None #'slsqp'"
   ],
   "metadata": {
    "collapsed": false
   }
  },
  {
   "cell_type": "code",
   "execution_count": 101,
   "outputs": [
    {
     "name": "stdout",
     "output_type": "stream",
     "text": [
      "True -0.998\n",
      "[0.2   0.499 0.5   0.001 0.999 0.001 0.999]\n",
      "True -0.0010000000000000633\n",
      "[0.2   0.5   0.5   0.5   0.5   0.499 0.501]\n"
     ]
    }
   ],
   "source": [
    "\n",
    "sol = opt.minimize(objective, x0, constraints=constraints, method=method)\n",
    "print(sol.success, sol.fun)\n",
    "print(sol.x)\n",
    "\n",
    "nsol = opt.minimize(neg_objective, x0, constraints=constraints, method=method)\n",
    "print(nsol.success, -nsol.fun)\n",
    "print(nsol.x)"
   ],
   "metadata": {
    "collapsed": false
   }
  },
  {
   "cell_type": "code",
   "execution_count": 7,
   "outputs": [
    {
     "ename": "NameError",
     "evalue": "name 'spec' is not defined",
     "output_type": "error",
     "traceback": [
      "\u001B[0;31m---------------------------------------------------------------------------\u001B[0m",
      "\u001B[0;31mNameError\u001B[0m                                 Traceback (most recent call last)",
      "\u001B[0;32m/tmp/ipykernel_24739/1718620554.py\u001B[0m in \u001B[0;36m<module>\u001B[0;34m\u001B[0m\n\u001B[0;32m----> 1\u001B[0;31m \u001B[0mspec\u001B[0m\u001B[0;34m\u001B[0m\u001B[0;34m\u001B[0m\u001B[0m\n\u001B[0m",
      "\u001B[0;31mNameError\u001B[0m: name 'spec' is not defined"
     ]
    }
   ],
   "source": [
    "spec"
   ],
   "metadata": {
    "collapsed": false
   }
  },
  {
   "cell_type": "code",
   "execution_count": 8,
   "outputs": [],
   "source": [
    "def g(n=10):\n",
    "\tyield from range(n)"
   ],
   "metadata": {
    "collapsed": false
   }
  },
  {
   "cell_type": "code",
   "execution_count": 9,
   "outputs": [
    {
     "data": {
      "text/plain": "True"
     },
     "execution_count": 9,
     "metadata": {},
     "output_type": "execute_result"
    }
   ],
   "source": [
    "5 in g()"
   ],
   "metadata": {
    "collapsed": false
   }
  },
  {
   "cell_type": "code",
   "execution_count": null,
   "outputs": [],
   "source": [],
   "metadata": {
    "collapsed": false
   }
  },
  {
   "cell_type": "code",
   "execution_count": 11,
   "outputs": [
    {
     "data": {
      "text/plain": "  0%|          | 0/48 [00:00<?, ?it/s]",
      "application/vnd.jupyter.widget-view+json": {
       "version_major": 2,
       "version_minor": 0,
       "model_id": "b3b4fb98c29140729d70742fe82467a0"
      }
     },
     "metadata": {},
     "output_type": "display_data"
    },
    {
     "data": {
      "text/plain": "(48, 100)"
     },
     "execution_count": 11,
     "metadata": {},
     "output_type": "execute_result"
    }
   ],
   "source": [
    "N = 100\n",
    "\n",
    "world = []\n",
    "\n",
    "for spec in tqdm(specs):\n",
    "\tbuilder = RelativeBuilder(seed=100)\n",
    "\n",
    "\tensemble = RelativeSCMEnsemble(story_id=story_id, spec=spec, builder=builder, num_samples=N)\n",
    "\n",
    "\tdata = [val['Y'] for val in ensemble.ate('X')]\n",
    "\tworld.append(data)\n",
    "\n",
    "world = np.array(world)\n",
    "world.shape"
   ],
   "metadata": {
    "collapsed": false
   }
  },
  {
   "cell_type": "code",
   "execution_count": 12,
   "outputs": [
    {
     "data": {
      "text/plain": "0.75"
     },
     "execution_count": 12,
     "metadata": {},
     "output_type": "execute_result"
    }
   ],
   "source": [
    "good = np.sign(world.min(1)) * np.sign(world.max(1)) > 0\n",
    "good.mean()"
   ],
   "metadata": {
    "collapsed": false
   }
  },
  {
   "cell_type": "code",
   "execution_count": 13,
   "outputs": [
    {
     "data": {
      "text/plain": "array([{'Z': 0, 'X': {'Z': -1}, 'Y': {'X': 0, 'Z': -1}},\n       {'Z': 0, 'X': {'Z': -1}, 'Y': {'X': 0, 'Z': 1}},\n       {'Z': 0, 'X': {'Z': 1}, 'Y': {'X': 0, 'Z': -1}},\n       {'Z': 0, 'X': {'Z': 1}, 'Y': {'X': 0, 'Z': 1}},\n       {'Z': 1, 'X': {'Z': -1}, 'Y': {'X': 0, 'Z': -1}},\n       {'Z': 1, 'X': {'Z': -1}, 'Y': {'X': 0, 'Z': 1}},\n       {'Z': 1, 'X': {'Z': 1}, 'Y': {'X': 0, 'Z': -1}},\n       {'Z': 1, 'X': {'Z': 1}, 'Y': {'X': 0, 'Z': 1}},\n       {'Z': 2, 'X': {'Z': -1}, 'Y': {'X': 0, 'Z': -1}},\n       {'Z': 2, 'X': {'Z': -1}, 'Y': {'X': 0, 'Z': 1}},\n       {'Z': 2, 'X': {'Z': 1}, 'Y': {'X': 0, 'Z': -1}},\n       {'Z': 2, 'X': {'Z': 1}, 'Y': {'X': 0, 'Z': 1}}], dtype=object)"
     },
     "execution_count": 13,
     "metadata": {},
     "output_type": "execute_result"
    }
   ],
   "source": [
    "specs[~good.astype(bool)]"
   ],
   "metadata": {
    "collapsed": false
   }
  },
  {
   "cell_type": "code",
   "execution_count": 14,
   "outputs": [
    {
     "name": "stdout",
     "output_type": "stream",
     "text": [
      "{'Z': 2, 'X': {'Z': 1}, 'Y': {'X': 1, 'Z': 1}}\n",
      "Mean: -0.47 [-0.84, -0.26]\n"
     ]
    },
    {
     "data": {
      "text/plain": "<Figure size 432x288 with 1 Axes>",
      "image/png": "[encoded data removed]"
     },
     "metadata": {},
     "output_type": "display_data"
    }
   ],
   "source": [
    "idx = np.random.choice(len(world))\n",
    "print(spec)\n",
    "\n",
    "plot_distribution(world[idx])"
   ],
   "metadata": {
    "collapsed": false
   }
  },
  {
   "cell_type": "code",
   "execution_count": 15,
   "outputs": [
    {
     "data": {
      "text/plain": "'The chance of Z=1 is high compared to Z=0. The chance of X=1 increases when Z=1 compared to Z=0. The chance of Y=1 increases when X=1 compared to X=0. The chance of Y=1 increases when Z=1 compared to Z=0.'"
     },
     "execution_count": 15,
     "metadata": {},
     "output_type": "execute_result"
    }
   ],
   "source": [
    "ensemble.details(example_labels)"
   ],
   "metadata": {
    "collapsed": false
   }
  },
  {
   "cell_type": "code",
   "execution_count": null,
   "outputs": [],
   "source": [],
   "metadata": {
    "collapsed": false
   }
  },
  {
   "cell_type": "code",
   "execution_count": null,
   "outputs": [],
   "source": [],
   "metadata": {
    "collapsed": false
   }
  }
 ],
 "metadata": {
  "kernelspec": {
   "display_name": "Python 3",
   "language": "python",
   "name": "python3"
  },
  "language_info": {
   "codemirror_mode": {
    "name": "ipython",
    "version": 2
   },
   "file_extension": ".py",
   "mimetype": "text/x-python",
   "name": "python",
   "nbconvert_exporter": "python",
   "pygments_lexer": "ipython2",
   "version": "2.7.6"
  }
 },
 "nbformat": 4,
 "nbformat_minor": 0
}
