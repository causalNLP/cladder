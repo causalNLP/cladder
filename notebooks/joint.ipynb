{
 "cells": [
  {
   "cell_type": "code",
   "execution_count": 1,
   "metadata": {
    "collapsed": true,
    "ExecuteTime": {
     "end_time": "2023-06-19T17:36:00.863700342Z",
     "start_time": "2023-06-19T17:35:59.407699927Z"
    }
   },
   "outputs": [],
   "source": [
    "import numpy as np"
   ]
  },
  {
   "cell_type": "code",
   "execution_count": 3,
   "outputs": [],
   "source": [
    "seed = 101\n",
    "gen = np.random.RandomState(seed)"
   ],
   "metadata": {
    "collapsed": false,
    "ExecuteTime": {
     "end_time": "2023-06-08T21:31:41.808368038Z",
     "start_time": "2023-06-08T21:31:40.472744714Z"
    }
   }
  },
  {
   "cell_type": "code",
   "execution_count": 2,
   "outputs": [],
   "source": [],
   "metadata": {
    "collapsed": false,
    "ExecuteTime": {
     "end_time": "2023-06-19T17:36:53.234933445Z",
     "start_time": "2023-06-19T17:36:53.232660408Z"
    }
   }
  },
  {
   "cell_type": "code",
   "execution_count": null,
   "outputs": [],
   "source": [],
   "metadata": {
    "collapsed": false
   }
  },
  {
   "cell_type": "code",
   "execution_count": 19,
   "outputs": [
    {
     "data": {
      "text/plain": "1.4594946636667465"
     },
     "execution_count": 19,
     "metadata": {},
     "output_type": "execute_result"
    }
   ],
   "source": [],
   "metadata": {
    "collapsed": false,
    "ExecuteTime": {
     "end_time": "2023-06-08T21:32:28.216809148Z",
     "start_time": "2023-06-08T21:32:28.211964083Z"
    }
   }
  },
  {
   "cell_type": "code",
   "execution_count": 21,
   "outputs": [
    {
     "data": {
      "text/plain": "1.0"
     },
     "execution_count": 21,
     "metadata": {},
     "output_type": "execute_result"
    }
   ],
   "source": [
    "np.array([]).astype(float).prod()"
   ],
   "metadata": {
    "collapsed": false,
    "ExecuteTime": {
     "end_time": "2023-06-12T12:55:30.459380345Z",
     "start_time": "2023-06-12T12:55:30.451473043Z"
    }
   }
  },
  {
   "cell_type": "code",
   "execution_count": 34,
   "outputs": [],
   "source": [
    "from tabulate import tabulate\n",
    "import numpy as np\n",
    "from scipy import optimize as opt"
   ],
   "metadata": {
    "collapsed": false,
    "ExecuteTime": {
     "end_time": "2023-06-15T14:31:06.713341369Z",
     "start_time": "2023-06-15T14:31:06.703924124Z"
    }
   }
  },
  {
   "cell_type": "code",
   "execution_count": 35,
   "outputs": [],
   "source": [
    "\n",
    "def ate(x):\n",
    "\tc = x[0]\n",
    "\ty00, y10, y01, y11 = x[1:]\n",
    "\treturn c * (y11 - y01) + (1 - c) * (y10 - y00)\n",
    "\n",
    "\n",
    "def ate_lim(b, *, mx=False):\n",
    "\tlb, ub = b.reshape(2, -1)\n",
    "\n",
    "\tA = np.eye(len(lb))\n",
    "\n",
    "\tx0 = (ub - lb) / 2 + lb\n",
    "\n",
    "\tbound_constraint = opt.LinearConstraint(A, lb, ub, keep_feasible=True)\n",
    "\n",
    "\tif mx:\n",
    "\t\tsol = opt.minimize(lambda x: -ate(x), x0, constraints=[bound_constraint])\n",
    "\t\tbest = -sol.fun\n",
    "\telse:\n",
    "\t\tsol = opt.minimize(ate, x0, constraints=[bound_constraint])\n",
    "\t\tbest = sol.fun\n",
    "\n",
    "\treturn best\n"
   ],
   "metadata": {
    "collapsed": false,
    "ExecuteTime": {
     "end_time": "2023-06-15T14:31:07.739404893Z",
     "start_time": "2023-06-15T14:31:07.732158306Z"
    }
   }
  },
  {
   "cell_type": "code",
   "execution_count": 31,
   "outputs": [
    {
     "name": "stdout",
     "output_type": "stream",
     "text": [
      "      V1    Y|X=0,V1=0    Y|X=1,V1=0    Y|X=0,V1=1    Y|X=1,V1=1\n",
      "--------  ------------  ------------  ------------  ------------\n",
      "0.603761      0.719104      0.410896      0.336775      0.593225\n",
      "0.623761      0.739104      0.430896      0.356775      0.613225\n",
      "     V1    Y|X=0,V1=0    Y|X=1,V1=0    Y|X=0,V1=1    Y|X=1,V1=1\n",
      "-------  ------------  ------------  ------------  ------------\n",
      "0.56576      0.738577      0.391423      0.365544      0.564456\n",
      "0.58576      0.758577      0.411423      0.385544      0.584456\n"
     ]
    }
   ],
   "source": [
    "\n",
    "bound_keys = ['V1', 'Y|X=0,V1=0', 'Y|X=1,V1=0', 'Y|X=0,V1=1', 'Y|X=1,V1=1']\n",
    "result = [0.6037611143627823, 0.7191040317469358, 0.4108959426685874, 0.3367749057333138, 0.5932250465964617, 0.6237611143627824, 0.7391040317469358, 0.43089594266858744, 0.35677490573331383, 0.6132250465964617, 0.5657600718296564, 0.7385770009465376, 0.3914229594905485, 0.36554397842205016, 0.5644559673929129, 0.5857600718296564, 0.7585770009465376, 0.4114229594905485, 0.3855439784220502, 0.584455967392913]\n",
    "result = np.array(result)\n",
    "\n",
    "b1, b2 = result.reshape(2, 2, -1)\n",
    "\n",
    "bounds1 = {k: v for k, v in zip(bound_keys, b1.T.tolist())}\n",
    "bounds2 = {k: v for k, v in zip(bound_keys, b2.T.tolist())}\n",
    "\n",
    "print(tabulate(bounds1, headers=bound_keys))\n",
    "\n",
    "print(tabulate(bounds2, headers=bound_keys))"
   ],
   "metadata": {
    "collapsed": false,
    "ExecuteTime": {
     "end_time": "2023-06-15T14:30:35.199969892Z",
     "start_time": "2023-06-15T14:30:35.197545963Z"
    }
   }
  },
  {
   "cell_type": "code",
   "execution_count": 37,
   "outputs": [
    {
     "name": "stderr",
     "output_type": "stream",
     "text": [
      "/is/ei/fleeb/miniconda3/lib/python3.8/site-packages/scipy/optimize/_constraints.py:459: OptimizeWarning: Constraint option `keep_feasible` is ignored by this method.\n",
      "  warn(\"Constraint option `keep_feasible` is ignored by this \"\n",
      "/is/ei/fleeb/miniconda3/lib/python3.8/site-packages/scipy/optimize/_constraints.py:459: OptimizeWarning: Constraint option `keep_feasible` is ignored by this method.\n",
      "  warn(\"Constraint option `keep_feasible` is ignored by this \"\n"
     ]
    },
    {
     "data": {
      "text/plain": "(0.06400375766407539, 0.012710593065246023)"
     },
     "execution_count": 37,
     "metadata": {},
     "output_type": "execute_result"
    }
   ],
   "source": [
    "ate_lim(b1, mx=True), ate_lim(b1)"
   ],
   "metadata": {
    "collapsed": false,
    "ExecuteTime": {
     "end_time": "2023-06-15T14:31:28.258718496Z",
     "start_time": "2023-06-15T14:31:28.244603870Z"
    }
   }
  },
  {
   "cell_type": "code",
   "execution_count": 40,
   "outputs": [
    {
     "name": "stderr",
     "output_type": "stream",
     "text": [
      "/is/ei/fleeb/miniconda3/lib/python3.8/site-packages/scipy/optimize/_constraints.py:459: OptimizeWarning: Constraint option `keep_feasible` is ignored by this method.\n",
      "  warn(\"Constraint option `keep_feasible` is ignored by this \"\n",
      "/is/ei/fleeb/miniconda3/lib/python3.8/site-packages/scipy/optimize/_constraints.py:459: OptimizeWarning: Constraint option `keep_feasible` is ignored by this method.\n",
      "  warn(\"Constraint option `keep_feasible` is ignored by this \"\n"
     ]
    },
    {
     "data": {
      "text/plain": "(-0.007290364249421449, -0.05821168485795754)"
     },
     "execution_count": 40,
     "metadata": {},
     "output_type": "execute_result"
    }
   ],
   "source": [
    "ate_lim(b2, mx=True), ate_lim(b2)"
   ],
   "metadata": {
    "collapsed": false,
    "ExecuteTime": {
     "end_time": "2023-06-15T14:31:46.842515798Z",
     "start_time": "2023-06-15T14:31:46.827120601Z"
    }
   }
  },
  {
   "cell_type": "code",
   "execution_count": 39,
   "outputs": [],
   "source": [],
   "metadata": {
    "collapsed": false,
    "ExecuteTime": {
     "end_time": "2023-06-15T14:31:44.384437601Z",
     "start_time": "2023-06-15T14:31:44.353496236Z"
    }
   }
  },
  {
   "cell_type": "code",
   "execution_count": 39,
   "outputs": [],
   "source": [],
   "metadata": {
    "collapsed": false,
    "ExecuteTime": {
     "end_time": "2023-06-15T14:31:44.554007675Z",
     "start_time": "2023-06-15T14:31:44.509457577Z"
    }
   }
  },
  {
   "cell_type": "code",
   "execution_count": 39,
   "outputs": [],
   "source": [],
   "metadata": {
    "collapsed": false,
    "ExecuteTime": {
     "end_time": "2023-06-15T14:31:44.702513355Z",
     "start_time": "2023-06-15T14:31:44.672709093Z"
    }
   }
  },
  {
   "cell_type": "code",
   "execution_count": null,
   "outputs": [],
   "source": [],
   "metadata": {
    "collapsed": false
   }
  }
 ],
 "metadata": {
  "kernelspec": {
   "display_name": "Python 3",
   "language": "python",
   "name": "python3"
  },
  "language_info": {
   "codemirror_mode": {
    "name": "ipython",
    "version": 2
   },
   "file_extension": ".py",
   "mimetype": "text/x-python",
   "name": "python",
   "nbconvert_exporter": "python",
   "pygments_lexer": "ipython2",
   "version": "2.7.6"
  }
 },
 "nbformat": 4,
 "nbformat_minor": 0
}
