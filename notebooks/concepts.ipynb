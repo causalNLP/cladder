{
 "cells": [
  {
   "cell_type": "code",
   "execution_count": 63,
   "metadata": {
    "collapsed": true,
    "ExecuteTime": {
     "end_time": "2023-06-06T16:03:25.309140664Z",
     "start_time": "2023-06-06T16:03:25.306799601Z"
    }
   },
   "outputs": [],
   "source": [
    "from pathlib import Path\n",
    "from tqdm.notebook import tqdm\n",
    "import random\n",
    "from tabulate import tabulate\n",
    "from collections import Counter"
   ]
  },
  {
   "cell_type": "code",
   "execution_count": 2,
   "outputs": [],
   "source": [
    "datapath = Path('../extra/conceptnet-assertions-5.7.0.csv')\n",
    "assert datapath.exists()"
   ],
   "metadata": {
    "collapsed": false,
    "ExecuteTime": {
     "end_time": "2023-06-06T15:39:03.175330878Z",
     "start_time": "2023-06-06T15:39:03.170371405Z"
    }
   }
  },
  {
   "cell_type": "code",
   "execution_count": 8,
   "outputs": [
    {
     "name": "stdout",
     "output_type": "stream",
     "text": [
      "/a/[/r/Antonym/,/c/ab/агыруа/n/,/c/ab/аҧсуа/]\t/r/Antonym\t/c/ab/агыруа/n\t/c/ab/аҧсуа\t{\"dataset\": \"/d/wiktionary/en\", \"license\": \"cc:by-sa/4.0\", \"sources\": [{\"contributor\": \"/s/resource/wiktionary/en\", \"process\": \"/s/process/wikiparsec/2\"}], \"weight\": 1.0}\n",
      "\n",
      "/a/[/r/Antonym/,/c/adx/thəχ_kwo/a/,/c/adx/ʂap_wə/]\t/r/Antonym\t/c/adx/thəχ_kwo/a\t/c/adx/ʂap_wə\t{\"dataset\": \"/d/wiktionary/fr\", \"license\": \"cc:by-sa/4.0\", \"sources\": [{\"contributor\": \"/s/resource/wiktionary/fr\", \"process\": \"/s/process/wikiparsec/2\"}], \"weight\": 1.0}\n",
      "\n",
      "/a/[/r/Antonym/,/c/adx/tok_po/a/,/c/adx/ʂa_wə/]\t/r/Antonym\t/c/adx/tok_po/a\t/c/adx/ʂa_wə\t{\"dataset\": \"/d/wiktionary/fr\", \"license\": \"cc:by-sa/4.0\", \"sources\": [{\"contributor\": \"/s/resource/wiktionary/fr\", \"process\": \"/s/process/wikiparsec/2\"}], \"weight\": 1.0}\n",
      "\n"
     ]
    }
   ],
   "source": [
    "with open(datapath, 'r') as f:\n",
    "\tfor i in range(3):\n",
    "\t\tprint(f.readline())"
   ],
   "metadata": {
    "collapsed": false,
    "ExecuteTime": {
     "end_time": "2023-06-06T15:44:27.267955367Z",
     "start_time": "2023-06-06T15:44:27.257254284Z"
    }
   }
  },
  {
   "cell_type": "code",
   "execution_count": 6,
   "outputs": [
    {
     "name": "stderr",
     "output_type": "stream",
     "text": [
      "/tmp/ipykernel_8495/4246356908.py:1: DeprecationWarning: 'U' mode is deprecated\n",
      "  with open(datapath, \"rbU\") as f:\n"
     ]
    },
    {
     "data": {
      "text/plain": "0it [00:00, ?it/s]",
      "application/vnd.jupyter.widget-view+json": {
       "version_major": 2,
       "version_minor": 0,
       "model_id": "981ec155194f4457bbf9d357531077ef"
      }
     },
     "metadata": {},
     "output_type": "display_data"
    }
   ],
   "source": [
    "# with open(datapath, \"rbU\") as f:\n",
    "#     num_lines = sum(1 for _ in tqdm(f)) # 34074917"
   ],
   "metadata": {
    "collapsed": false,
    "ExecuteTime": {
     "end_time": "2023-06-06T15:42:35.162275321Z",
     "start_time": "2023-06-06T15:41:00.276239490Z"
    }
   }
  },
  {
   "cell_type": "code",
   "execution_count": 10,
   "outputs": [],
   "source": [
    "f = open(datapath, 'r')"
   ],
   "metadata": {
    "collapsed": false,
    "ExecuteTime": {
     "end_time": "2023-06-06T15:50:04.486232087Z",
     "start_time": "2023-06-06T15:50:04.474476017Z"
    }
   }
  },
  {
   "cell_type": "code",
   "execution_count": 11,
   "outputs": [
    {
     "data": {
      "text/plain": "  0%|          | 0/34074917 [00:00<?, ?it/s]",
      "application/vnd.jupyter.widget-view+json": {
       "version_major": 2,
       "version_minor": 0,
       "model_id": "d25ce8af41964a2baa1fa4b2cf5b28ee"
      }
     },
     "metadata": {},
     "output_type": "display_data"
    }
   ],
   "source": [
    "itr = tqdm(f, total=34074917)"
   ],
   "metadata": {
    "collapsed": false,
    "ExecuteTime": {
     "end_time": "2023-06-06T15:50:04.798005046Z",
     "start_time": "2023-06-06T15:50:04.791654707Z"
    }
   }
  },
  {
   "cell_type": "code",
   "execution_count": 46,
   "outputs": [
    {
     "data": {
      "text/plain": "  0%|          | 0/34074917 [00:00<?, ?it/s]",
      "application/vnd.jupyter.widget-view+json": {
       "version_major": 2,
       "version_minor": 0,
       "model_id": "06ffdccadd58481fb4aa0f0cfe793eac"
      }
     },
     "metadata": {},
     "output_type": "display_data"
    }
   ],
   "source": [
    "rows = []\n",
    "with open(datapath, 'r') as f:\n",
    "\titr = tqdm(f, total=34074917)\n",
    "\tfor line in itr:\n",
    "\t\tterms = line.split('\\t')\n",
    "\t\tif terms[1] == '/r/Causes' and terms[2].startswith('/c/en/') and terms[3].startswith('/c/en/'):\n",
    "\t\t\trows.append([terms[1], terms[2], terms[3], terms[-1].split(' ')[-1][:-2]])\n",
    "\t\t# if len(rows) > 10:\n",
    "\t\t# \tbreak\n",
    "\t\t# itr.set_description(f'rows={len(rows)}')"
   ],
   "metadata": {
    "collapsed": false,
    "ExecuteTime": {
     "end_time": "2023-06-06T15:59:57.732318203Z",
     "start_time": "2023-06-06T15:59:27.174554390Z"
    }
   }
  },
  {
   "cell_type": "code",
   "execution_count": 47,
   "outputs": [
    {
     "data": {
      "text/plain": "16801"
     },
     "execution_count": 47,
     "metadata": {},
     "output_type": "execute_result"
    }
   ],
   "source": [
    "len(rows)"
   ],
   "metadata": {
    "collapsed": false,
    "ExecuteTime": {
     "end_time": "2023-06-06T15:59:57.778158810Z",
     "start_time": "2023-06-06T15:59:57.733723708Z"
    }
   }
  },
  {
   "cell_type": "code",
   "execution_count": 49,
   "outputs": [
    {
     "data": {
      "text/plain": "['/r/Causes', '/c/en/zombie', '/c/en/fear', '1.0']"
     },
     "execution_count": 49,
     "metadata": {},
     "output_type": "execute_result"
    }
   ],
   "source": [
    "rows[-1]"
   ],
   "metadata": {
    "collapsed": false,
    "ExecuteTime": {
     "end_time": "2023-06-06T16:00:05.213454963Z",
     "start_time": "2023-06-06T16:00:05.209992557Z"
    }
   }
  },
  {
   "cell_type": "code",
   "execution_count": 75,
   "outputs": [
    {
     "name": "stdout",
     "output_type": "stream",
     "text": [
      "relation    term1                         term2                                           weight\n",
      "----------  ----------------------------  --------------------------------------------  --------\n",
      "/r/Causes   /c/en/setting_cup_on_table    /c/en/picks_up                                       2\n",
      "/r/Causes   /c/en/starting_flame_or_fire  /c/en/heat_and_light                                 1\n",
      "/r/Causes   /c/en/playing_sports          /c/en/have_fun_playing_sports                        1\n",
      "/r/Causes   /c/en/taking_bath             /c/en/get_yourself_clean                             1\n",
      "/r/Causes   /c/en/sleeping                /c/en/breathing_problems_to_surface                  1\n",
      "/r/Causes   /c/en/skiing                  /c/en/being_tired                                    1\n",
      "/r/Causes   /c/en/reading_newspaper       /c/en/being_more_informed_about_world_events         1\n",
      "/r/Causes   /c/en/going_public            /c/en/embarassment                                   1\n",
      "/r/Causes   /c/en/climbing                /c/en/see_for_miles_around                           1\n",
      "/r/Causes   /c/en/passing_sentence        /c/en/person_to_go_to_jail                           1\n"
     ]
    }
   ],
   "source": [
    "print(tabulate(random.choices(rows, k=10), headers=['relation', 'term1', 'term2', 'weight']))"
   ],
   "metadata": {
    "collapsed": false,
    "ExecuteTime": {
     "end_time": "2023-06-06T16:05:36.091776847Z",
     "start_time": "2023-06-06T16:05:36.087817288Z"
    }
   }
  },
  {
   "cell_type": "code",
   "execution_count": 64,
   "outputs": [
    {
     "data": {
      "text/plain": "Counter({'4.472': 69,\n         '1.0': 14562,\n         '2.828': 432,\n         '2.0': 1355,\n         '3.464': 193,\n         '7.483': 2,\n         '4.0': 90,\n         '4.899': 28,\n         '6.325': 5,\n         '5.657': 15,\n         '6.633': 5,\n         '9.592': 1,\n         '9.381': 1,\n         '5.292': 16,\n         '8.944': 2,\n         '6.0': 12,\n         '8.718': 2,\n         '6.928': 2,\n         '7.746': 4,\n         '7.211': 2,\n         '8.0': 2,\n         '12.961': 1})"
     },
     "execution_count": 64,
     "metadata": {},
     "output_type": "execute_result"
    }
   ],
   "source": [
    "Counter([row[-1] for row in rows])"
   ],
   "metadata": {
    "collapsed": false,
    "ExecuteTime": {
     "end_time": "2023-06-06T16:03:27.220524908Z",
     "start_time": "2023-06-06T16:03:27.214084923Z"
    }
   }
  },
  {
   "cell_type": "code",
   "execution_count": 88,
   "outputs": [
    {
     "data": {
      "text/plain": "12832"
     },
     "execution_count": 88,
     "metadata": {},
     "output_type": "execute_result"
    }
   ],
   "source": [
    "vocab = set(word for row in rows for word in row[1:3])\n",
    "len(vocab)"
   ],
   "metadata": {
    "collapsed": false,
    "ExecuteTime": {
     "end_time": "2023-06-06T16:18:25.684159581Z",
     "start_time": "2023-06-06T16:18:25.673781155Z"
    }
   }
  },
  {
   "cell_type": "code",
   "execution_count": 90,
   "outputs": [
    {
     "data": {
      "text/plain": "  0%|          | 0/34074917 [00:00<?, ?it/s]",
      "application/vnd.jupyter.widget-view+json": {
       "version_major": 2,
       "version_minor": 0,
       "model_id": "610f81e59827470cb971de8d184f57ee"
      }
     },
     "metadata": {},
     "output_type": "display_data"
    },
    {
     "data": {
      "text/plain": "32513"
     },
     "execution_count": 90,
     "metadata": {},
     "output_type": "execute_result"
    }
   ],
   "source": [
    "def filter_line(line):\n",
    "\tterms = line.split('\\t')\n",
    "\tif not terms[2].startswith('/c/en/') or not terms[3].startswith('/c/en/'):\n",
    "\t\treturn False\n",
    "\treturn True\n",
    "\n",
    "\n",
    "def process_line(line):\n",
    "\tterms = line.split('\\t')\n",
    "\trel = terms[1]\n",
    "\tt1 = terms[2]\n",
    "\tt2 = terms[3]\n",
    "\twt = terms[-1].split(' ')[-1][:-2]\n",
    "\treturn rel, t1, t2, wt\n",
    "\n",
    "\n",
    "def select_line(rel, t1, t2, wt):\n",
    "\t# if t1 == '/c/en/setting_cup_on_table':\n",
    "\t# \treturn True\n",
    "\tif t1 in vocab and t2 in vocab:\n",
    "\t\treturn True\n",
    "\treturn False\n",
    "\n",
    "\n",
    "selected = []\n",
    "with open(datapath, 'r') as f:\n",
    "\titr = tqdm(f, total=34074917)\n",
    "\tfor line in itr:\n",
    "\t\tif not filter_line(line):\n",
    "\t\t\tcontinue\n",
    "\t\trel, t1, t2, wt = process_line(line)\n",
    "\t\tif select_line(rel, t1, t2, wt):\n",
    "\t\t\tselected.append([rel, t1, t2, wt])\n",
    "len(selected)"
   ],
   "metadata": {
    "collapsed": false,
    "ExecuteTime": {
     "end_time": "2023-06-06T16:19:43.039723022Z",
     "start_time": "2023-06-06T16:19:05.397103932Z"
    }
   }
  },
  {
   "cell_type": "code",
   "execution_count": 93,
   "outputs": [
    {
     "name": "stdout",
     "output_type": "stream",
     "text": [
      "relation        term1                                term2                           weight\n",
      "--------------  -----------------------------------  ----------------------------  --------\n",
      "/r/UsedFor      /c/en/tickling                       /c/en/showing_affection            1\n",
      "/r/Causes       /c/en/committing_perjury             /c/en/would_lose_credibility       1\n",
      "/r/UsedFor      /c/en/tickling                       /c/en/flirting                     2\n",
      "/r/DerivedFrom  /c/en/playing                        /c/en/play                         1\n",
      "/r/UsedFor      /c/en/becoming_scuba_diver           /c/en/pleasure                     1\n",
      "/r/Causes       /c/en/eating_apple                   /c/en/less_hunger                  1\n",
      "/r/Causes       /c/en/enjoying_company_of_friends    /c/en/very_happy                   1\n",
      "/r/HasSubevent  /c/en/creating_to_help_other_people  /c/en/make_money                   1\n",
      "/r/UsedFor      /c/en/eating_dinner                  /c/en/not_being_hungry             1\n",
      "/r/RelatedTo    /c/en/atheism                        /c/en/religion                     0.5\n"
     ]
    }
   ],
   "source": [
    "print(tabulate(random.choices(selected, k=10), headers=['relation', 'term1', 'term2', 'weight']))"
   ],
   "metadata": {
    "collapsed": false,
    "ExecuteTime": {
     "end_time": "2023-06-06T16:20:33.476190091Z",
     "start_time": "2023-06-06T16:20:33.472465643Z"
    }
   }
  },
  {
   "cell_type": "code",
   "execution_count": 96,
   "outputs": [
    {
     "data": {
      "text/plain": "{'/r/Antonym',\n '/r/AtLocation',\n '/r/CapableOf',\n '/r/Causes',\n '/r/CausesDesire',\n '/r/CreatedBy',\n '/r/DefinedAs',\n '/r/DerivedFrom',\n '/r/Desires',\n '/r/DistinctFrom',\n '/r/Entails',\n '/r/EtymologicallyRelatedTo',\n '/r/HasA',\n '/r/HasContext',\n '/r/HasFirstSubevent',\n '/r/HasLastSubevent',\n '/r/HasPrerequisite',\n '/r/HasProperty',\n '/r/HasSubevent',\n '/r/IsA',\n '/r/LocatedNear',\n '/r/MadeOf',\n '/r/MannerOf',\n '/r/MotivatedByGoal',\n '/r/NotCapableOf',\n '/r/NotDesires',\n '/r/NotHasProperty',\n '/r/PartOf',\n '/r/ReceivesAction',\n '/r/RelatedTo',\n '/r/Synonym',\n '/r/UsedFor',\n '/r/dbpedia/genre',\n '/r/dbpedia/occupation'}"
     },
     "execution_count": 96,
     "metadata": {},
     "output_type": "execute_result"
    }
   ],
   "source": [
    "set([row[0] for row in selected])"
   ],
   "metadata": {
    "collapsed": false,
    "ExecuteTime": {
     "end_time": "2023-06-06T16:25:41.253084681Z",
     "start_time": "2023-06-06T16:25:41.242210527Z"
    }
   }
  },
  {
   "cell_type": "code",
   "execution_count": 95,
   "outputs": [
    {
     "name": "stdout",
     "output_type": "stream",
     "text": [
      "relation    term1               term2                  weight\n",
      "----------  ------------------  -------------------  --------\n",
      "/r/Antonym  /c/en/accept        /c/en/reject            0.603\n",
      "/r/Antonym  /c/en/advance       /c/en/late              0.193\n",
      "/r/Antonym  /c/en/adventure     /c/en/boring            0.153\n",
      "/r/Antonym  /c/en/affair        /c/en/marriage          0.175\n",
      "/r/Antonym  /c/en/affair        /c/en/relationship      0.106\n",
      "/r/Antonym  /c/en/agony         /c/en/bliss             0.128\n",
      "/r/Antonym  /c/en/agony         /c/en/defeat            0.107\n",
      "/r/Antonym  /c/en/anger         /c/en/calm              0.134\n",
      "/r/Antonym  /c/en/anger         /c/en/happiness         0.102\n",
      "/r/Antonym  /c/en/answer        /c/en/problem           0.271\n",
      "/r/Antonym  /c/en/answer        /c/en/wrong             0.148\n",
      "/r/Antonym  /c/en/bad           /c/en/good              1.083\n",
      "/r/Antonym  /c/en/betrayal      /c/en/trust             0.315\n",
      "/r/Antonym  /c/en/bill          /c/en/paycheck          0.153\n",
      "/r/Antonym  /c/en/birth         /c/en/death             0.432\n",
      "/r/Antonym  /c/en/birthday      /c/en/birth             0.159\n",
      "/r/Antonym  /c/en/birthday      /c/en/date              0.282\n",
      "/r/Antonym  /c/en/birthday      /c/en/dead              0.148\n",
      "/r/Antonym  /c/en/birthday      /c/en/death             1.627\n",
      "/r/Antonym  /c/en/birthday      /c/en/die               0.106\n",
      "/r/Antonym  /c/en/birthday      /c/en/funeral           0.465\n",
      "/r/Antonym  /c/en/birthday      /c/en/happy             0.132\n",
      "/r/Antonym  /c/en/birthday      /c/en/time              0.143\n",
      "/r/Antonym  /c/en/blue          /c/en/happy             0.204\n",
      "/r/Antonym  /c/en/boredom       /c/en/fun               0.194\n",
      "/r/Antonym  /c/en/bread         /c/en/water             0.198\n",
      "/r/Antonym  /c/en/burial        /c/en/birth             0.208\n",
      "/r/Antonym  /c/en/burn          /c/en/water             0.211\n",
      "/r/Antonym  /c/en/busy          /c/en/doing_nothing     0.227\n",
      "/r/Antonym  /c/en/buy           /c/en/money             0.173\n",
      "/r/Antonym  /c/en/buy           /c/en/save_money        0.173\n",
      "/r/Antonym  /c/en/cake          /c/en/bread             0.299\n",
      "/r/Antonym  /c/en/call          /c/en/answer            0.344\n",
      "/r/Antonym  /c/en/call          /c/en/response          0.112\n",
      "/r/Antonym  /c/en/call          /c/en/text              0.229\n",
      "/r/Antonym  /c/en/calm          /c/en/anger             0.173\n",
      "/r/Antonym  /c/en/calm          /c/en/angry             0.361\n",
      "/r/Antonym  /c/en/calm          /c/en/anxious           0.152\n",
      "/r/Antonym  /c/en/calm          /c/en/chaos             0.165\n",
      "/r/Antonym  /c/en/calm          /c/en/panic             0.168\n",
      "/r/Antonym  /c/en/change        /c/en/money             0.152\n",
      "/r/Antonym  /c/en/change        /c/en/permanent         0.17\n",
      "/r/Antonym  /c/en/change        /c/en/static            0.267\n",
      "/r/Antonym  /c/en/cold          /c/en/heat              0.173\n",
      "/r/Antonym  /c/en/comfort       /c/en/distress          0.173\n",
      "/r/Antonym  /c/en/complete      /c/en/done              0.138\n",
      "/r/Antonym  /c/en/concern       /c/en/carelessness      0.147\n",
      "/r/Antonym  /c/en/conflict      /c/en/peace             0.148\n",
      "/r/Antonym  /c/en/could         /c/en/not               0.472\n",
      "/r/Antonym  /c/en/crime         /c/en/justice           0.134\n",
      "/r/Antonym  /c/en/cry           /c/en/happy             0.602\n",
      "/r/Antonym  /c/en/cry           /c/en/laugh             1.511\n",
      "/r/Antonym  /c/en/cry           /c/en/laughing          0.284\n",
      "/r/Antonym  /c/en/cry           /c/en/smile             0.526\n",
      "/r/Antonym  /c/en/cry           /c/en/talk              0.166\n",
      "/r/Antonym  /c/en/darkness      /c/en/light             0.284\n",
      "/r/Antonym  /c/en/dead          /c/en/life              0.321\n",
      "/r/Antonym  /c/en/dead          /c/en/live              0.256\n",
      "/r/Antonym  /c/en/dead          /c/en/living            0.822\n",
      "/r/Antonym  /c/en/death         /c/en/life              0.436\n",
      "/r/Antonym  /c/en/debt          /c/en/profit            0.236\n",
      "/r/Antonym  /c/en/debt          /c/en/wealth            0.214\n",
      "/r/Antonym  /c/en/defeat        /c/en/lose              0.15\n",
      "/r/Antonym  /c/en/defeat        /c/en/victory           1.371\n",
      "/r/Antonym  /c/en/defeat        /c/en/win               0.832\n",
      "/r/Antonym  /c/en/defeat        /c/en/wining            0.154\n",
      "/r/Antonym  /c/en/defeat        /c/en/winning           0.33\n",
      "/r/Antonym  /c/en/denial        /c/en/acceptance        0.153\n",
      "/r/Antonym  /c/en/depression    /c/en/happiness         0.442\n",
      "/r/Antonym  /c/en/depression    /c/en/happy             0.237\n",
      "/r/Antonym  /c/en/die           /c/en/birth             0.122\n",
      "/r/Antonym  /c/en/die           /c/en/life              0.26\n",
      "/r/Antonym  /c/en/die           /c/en/live              2.5\n",
      "/r/Antonym  /c/en/disease       /c/en/health            0.618\n",
      "/r/Antonym  /c/en/disease       /c/en/healthy           0.472\n",
      "/r/Antonym  /c/en/dream         /c/en/nightmare         1.403\n",
      "/r/Antonym  /c/en/dream         /c/en/waking            0.141\n",
      "/r/Antonym  /c/en/drink         /c/en/coffee            0.113\n",
      "/r/Antonym  /c/en/drink         /c/en/eat               2.175\n",
      "/r/Antonym  /c/en/drink         /c/en/eating            0.226\n",
      "/r/Antonym  /c/en/drink         /c/en/food              1.227\n",
      "/r/Antonym  /c/en/drink         /c/en/thirst            0.394\n",
      "/r/Antonym  /c/en/drop          /c/en/flood             0.168\n",
      "/r/Antonym  /c/en/drop          /c/en/rise              0.554\n",
      "/r/Antonym  /c/en/duck          /c/en/jump              0.132\n",
      "/r/Antonym  /c/en/duck          /c/en/stand_up          0.166\n",
      "/r/Antonym  /c/en/ease          /c/en/difficulty        0.269\n",
      "/r/Antonym  /c/en/eat           /c/en/drink             0.54\n",
      "/r/Antonym  /c/en/eat           /c/en/drinking          0.206\n",
      "/r/Antonym  /c/en/eat           /c/en/swallow           0.132\n",
      "/r/Antonym  /c/en/eat           /c/en/throwing          0.209\n",
      "/r/Antonym  /c/en/eat           /c/en/throwing_up       0.209\n",
      "/r/Antonym  /c/en/energy        /c/en/entropy           0.155\n",
      "/r/Antonym  /c/en/energy        /c/en/fatigue           0.147\n",
      "/r/Antonym  /c/en/energy        /c/en/tired             0.334\n",
      "/r/Antonym  /c/en/enjoy         /c/en/dislike           0.457\n",
      "/r/Antonym  /c/en/enjoy         /c/en/hate              0.334\n",
      "/r/Antonym  /c/en/error         /c/en/correct           0.242\n",
      "/r/Antonym  /c/en/evil          /c/en/good              1.344\n",
      "/r/Antonym  /c/en/exercise      /c/en/rest              0.613\n",
      "/r/Antonym  /c/en/expansion     /c/en/shrink            0.151\n",
      "/r/Antonym  /c/en/expense       /c/en/income            0.429\n",
      "/r/Antonym  /c/en/fail          /c/en/pass              1.7\n",
      "/r/Antonym  /c/en/fail          /c/en/pass_exam         0.165\n",
      "/r/Antonym  /c/en/fail          /c/en/success           0.569\n",
      "/r/Antonym  /c/en/fail          /c/en/win               0.324\n",
      "/r/Antonym  /c/en/failing       /c/en/winning           0.35\n",
      "/r/Antonym  /c/en/failure       /c/en/success           0.326\n",
      "/r/Antonym  /c/en/faith         /c/en/despair           0.154\n",
      "/r/Antonym  /c/en/faith         /c/en/disbelief         0.247\n",
      "/r/Antonym  /c/en/faith         /c/en/knowledge         0.108\n",
      "/r/Antonym  /c/en/fall          /c/en/flying            0.214\n",
      "/r/Antonym  /c/en/fall          /c/en/get_up            0.264\n",
      "/r/Antonym  /c/en/fall          /c/en/rise              0.605\n",
      "/r/Antonym  /c/en/fall          /c/en/stand_up          0.102\n",
      "/r/Antonym  /c/en/fear          /c/en/calm              0.198\n",
      "/r/Antonym  /c/en/fear          /c/en/calmness          0.106\n",
      "/r/Antonym  /c/en/fight         /c/en/hugging           0.138\n",
      "/r/Antonym  /c/en/fight         /c/en/peace             0.474\n",
      "/r/Antonym  /c/en/find          /c/en/lose              1.371\n",
      "/r/Antonym  /c/en/fire          /c/en/ashes             0.168\n",
      "/r/Antonym  /c/en/fire          /c/en/cold              0.133\n",
      "/r/Antonym  /c/en/fire          /c/en/water             1.303\n",
      "/r/Antonym  /c/en/fire          /c/en/wet               0.265\n",
      "/r/Antonym  /c/en/flood         /c/en/drought           0.116\n",
      "/r/Antonym  /c/en/food          /c/en/drink             0.132\n",
      "/r/Antonym  /c/en/freedom       /c/en/jail              0.102\n",
      "/r/Antonym  /c/en/get           /c/en/lose              0.234\n",
      "/r/Antonym  /c/en/god           /c/en/evil              0.233\n",
      "/r/Antonym  /c/en/good          /c/en/bad               1.433\n",
      "/r/Antonym  /c/en/good          /c/en/evil              0.323\n",
      "/r/Antonym  /c/en/graduation    /c/en/failing           0.201\n",
      "/r/Antonym  /c/en/gravity       /c/en/floating          0.141\n",
      "/r/Antonym  /c/en/grow          /c/en/getting           0.143\n",
      "/r/Antonym  /c/en/grow          /c/en/shrink            1.138\n",
      "/r/Antonym  /c/en/growth        /c/en/shrink            0.15\n",
      "/r/Antonym  /c/en/hail          /c/en/rain              0.122\n",
      "/r/Antonym  /c/en/happy         /c/en/sad               1.343\n",
      "/r/Antonym  /c/en/happy         /c/en/sadness           0.141\n",
      "/r/Antonym  /c/en/hate          /c/en/love              0.426\n",
      "/r/Antonym  /c/en/hatred        /c/en/love              0.533\n",
      "/r/Antonym  /c/en/hatred        /c/en/loving            0.242\n",
      "/r/Antonym  /c/en/health        /c/en/death             0.121\n",
      "/r/Antonym  /c/en/health        /c/en/disease           0.243\n",
      "/r/Antonym  /c/en/health        /c/en/fat               0.173\n",
      "/r/Antonym  /c/en/health        /c/en/illness           0.565\n",
      "/r/Antonym  /c/en/health        /c/en/sickness          0.835\n",
      "/r/Antonym  /c/en/hear          /c/en/talk              0.113\n",
      "/r/Antonym  /c/en/heat          /c/en/cold              2.364\n",
      "/r/Antonym  /c/en/help          /c/en/giving            0.103\n",
      "/r/Antonym  /c/en/help          /c/en/hurt              0.119\n",
      "/r/Antonym  /c/en/help          /c/en/hurting           0.162\n",
      "/r/Antonym  /c/en/help          /c/en/leave             0.103\n",
      "/r/Antonym  /c/en/help          /c/en/trouble           0.103\n",
      "/r/Antonym  /c/en/hope          /c/en/apathy            0.179\n",
      "/r/Antonym  /c/en/hope          /c/en/despair           0.768\n",
      "/r/Antonym  /c/en/hope          /c/en/fear              0.168\n",
      "/r/Antonym  /c/en/horror        /c/en/calm              0.147\n",
      "/r/Antonym  /c/en/ignorance     /c/en/knowledge         0.207\n",
      "/r/Antonym  /c/en/intelligence  /c/en/stupidity         0.411\n",
      "/r/Antonym  /c/en/interest      /c/en/boring            0.219\n",
      "/r/Antonym  /c/en/irritation    /c/en/calm              0.112\n",
      "/r/Antonym  /c/en/irritation    /c/en/soothing          0.252\n",
      "/r/Antonym  /c/en/job           /c/en/unemployment      0.23\n",
      "/r/Antonym  /c/en/joy           /c/en/bad               0.177\n",
      "/r/Antonym  /c/en/joy           /c/en/grief             0.193\n",
      "/r/Antonym  /c/en/joy           /c/en/misery            0.285\n",
      "/r/Antonym  /c/en/joy           /c/en/sad               0.299\n",
      "/r/Antonym  /c/en/joy           /c/en/sadness           0.715\n",
      "/r/Antonym  /c/en/joy           /c/en/sorrow            0.448\n",
      "/r/Antonym  /c/en/joy           /c/en/time              0.177\n",
      "/r/Antonym  /c/en/kill          /c/en/birth             0.19\n",
      "/r/Antonym  /c/en/kill          /c/en/live              0.614\n",
      "/r/Antonym  /c/en/late          /c/en/on_time           0.557\n",
      "/r/Antonym  /c/en/late          /c/en/time              0.759\n",
      "/r/Antonym  /c/en/laugh         /c/en/cry               1.003\n",
      "/r/Antonym  /c/en/laugh         /c/en/crying            0.158\n",
      "/r/Antonym  /c/en/laughter      /c/en/crying            0.225\n",
      "/r/Antonym  /c/en/learn         /c/en/teach             0.586\n",
      "/r/Antonym  /c/en/learning      /c/en/teaching          0.16\n",
      "/r/Antonym  /c/en/letter        /c/en/number            1.163\n",
      "/r/Antonym  /c/en/lie           /c/en/truth             2.759\n",
      "/r/Antonym  /c/en/life          /c/en/dead              0.168\n",
      "/r/Antonym  /c/en/life          /c/en/death             1.618\n",
      "/r/Antonym  /c/en/light         /c/en/darkness          0.408\n",
      "/r/Antonym  /c/en/lightning     /c/en/thunder           0.138\n",
      "/r/Antonym  /c/en/like          /c/en/hate              0.809\n",
      "/r/Antonym  /c/en/listen        /c/en/become            0.174\n",
      "/r/Antonym  /c/en/listen        /c/en/hear              0.126\n",
      "/r/Antonym  /c/en/listen        /c/en/speaking          0.146\n",
      "/r/Antonym  /c/en/listen        /c/en/talk              0.451\n",
      "/r/Antonym  /c/en/listen        /c/en/talking           0.246\n",
      "/r/Antonym  /c/en/live          /c/en/being_dead        0.29\n",
      "/r/Antonym  /c/en/live          /c/en/dead              1.347\n",
      "/r/Antonym  /c/en/live          /c/en/death             0.317\n",
      "/r/Antonym  /c/en/live          /c/en/die               1.261\n",
      "/r/Antonym  /c/en/lose          /c/en/find              0.638\n",
      "/r/Antonym  /c/en/lose          /c/en/win               2.202\n",
      "/r/Antonym  /c/en/loss          /c/en/win               0.224\n",
      "/r/Antonym  /c/en/love          /c/en/hate              1.287\n",
      "/r/Antonym  /c/en/love          /c/en/war               0.224\n",
      "/r/Antonym  /c/en/marriage      /c/en/divorce           0.432\n",
      "/r/Antonym  /c/en/misery        /c/en/enjoyment         0.102\n",
      "/r/Antonym  /c/en/mistake       /c/en/answer            0.17\n",
      "/r/Antonym  /c/en/mistake       /c/en/correct           0.873\n",
      "/r/Antonym  /c/en/mistake       /c/en/success           0.17\n",
      "/r/Antonym  /c/en/money         /c/en/debt              0.116\n",
      "/r/Antonym  /c/en/morning       /c/en/late              0.213\n",
      "/r/Antonym  /c/en/morning       /c/en/time              0.232\n",
      "/r/Antonym  /c/en/move          /c/en/sit               0.382\n",
      "/r/Antonym  /c/en/move          /c/en/static            0.106\n",
      "/r/Antonym  /c/en/move          /c/en/stop              0.524\n",
      "/r/Antonym  /c/en/murder        /c/en/birth             0.144\n",
      "/r/Antonym  /c/en/murder        /c/en/killing           0.143\n",
      "/r/Antonym  /c/en/music         /c/en/noise             0.706\n",
      "/r/Antonym  /c/en/music         /c/en/silence           0.626\n",
      "/r/Antonym  /c/en/necessary     /c/en/needed            0.316\n",
      "/r/Antonym  /c/en/noise         /c/en/music             0.119\n",
      "/r/Antonym  /c/en/noise         /c/en/silence           0.957\n",
      "/r/Antonym  /c/en/offer         /c/en/acceptance        0.17\n",
      "/r/Antonym  /c/en/order         /c/en/chaos             0.832\n",
      "/r/Antonym  /c/en/organization  /c/en/chaos             0.573\n",
      "/r/Antonym  /c/en/organization  /c/en/mess              0.367\n",
      "/r/Antonym  /c/en/over          /c/en/under             1.77\n",
      "/r/Antonym  /c/en/pain          /c/en/comfort           0.109\n",
      "/r/Antonym  /c/en/pain          /c/en/enjoyment         0.159\n",
      "/r/Antonym  /c/en/pain          /c/en/feel_good         0.29\n",
      "/r/Antonym  /c/en/pain          /c/en/feeling           0.558\n",
      "/r/Antonym  /c/en/pain          /c/en/feeling_good      0.305\n",
      "/r/Antonym  /c/en/pain          /c/en/good              1.024\n",
      "/r/Antonym  /c/en/pain          /c/en/good_feeling      0.253\n",
      "/r/Antonym  /c/en/pain          /c/en/joy               0.358\n",
      "/r/Antonym  /c/en/pain          /c/en/pleasure          1.067\n",
      "/r/Antonym  /c/en/pain          /c/en/relief            0.29\n",
      "/r/Antonym  /c/en/party         /c/en/boredom           0.11\n",
      "/r/Antonym  /c/en/party         /c/en/funeral           0.216\n",
      "/r/Antonym  /c/en/party         /c/en/meeting           0.163\n",
      "/r/Antonym  /c/en/party         /c/en/sleep             0.169\n",
      "/r/Antonym  /c/en/party         /c/en/studying          0.11\n",
      "/r/Antonym  /c/en/party         /c/en/work              0.145\n",
      "/r/Antonym  /c/en/pass          /c/en/fail              0.598\n",
      "/r/Antonym  /c/en/passion       /c/en/apathy            0.15\n",
      "/r/Antonym  /c/en/peace         /c/en/fighting          0.152\n",
      "/r/Antonym  /c/en/peace         /c/en/hostility         0.245\n",
      "/r/Antonym  /c/en/peace         /c/en/war               2.503\n",
      "/r/Antonym  /c/en/perjury       /c/en/testifying        0.121\n",
      "/r/Antonym  /c/en/play          /c/en/boring            0.146\n",
      "/r/Antonym  /c/en/play          /c/en/doing_nothing     0.106\n",
      "/r/Antonym  /c/en/play          /c/en/fun               0.11\n",
      "/r/Antonym  /c/en/play          /c/en/relax             0.156\n",
      "/r/Antonym  /c/en/play          /c/en/rest              0.654\n",
      "/r/Antonym  /c/en/play          /c/en/serious           0.101\n",
      "/r/Antonym  /c/en/play          /c/en/study             0.148\n",
      "/r/Antonym  /c/en/play          /c/en/work              2.44\n",
      "/r/Antonym  /c/en/playing       /c/en/working           0.324\n",
      "/r/Antonym  /c/en/pleasure      /c/en/pain              0.356\n",
      "/r/Antonym  /c/en/poison        /c/en/sweet             0.211\n",
      "/r/Antonym  /c/en/poverty       /c/en/wealth            0.234\n",
      "/r/Antonym  /c/en/pride         /c/en/humility          0.203\n",
      "/r/Antonym  /c/en/problem       /c/en/answer            0.371\n",
      "/r/Antonym  /c/en/problem       /c/en/solution          1.086\n",
      "/r/Antonym  /c/en/profit        /c/en/debt              0.243\n",
      "/r/Antonym  /c/en/profit        /c/en/expense           0.158\n",
      "/r/Antonym  /c/en/profit        /c/en/lose              0.548\n",
      "/r/Antonym  /c/en/profit        /c/en/lose_money        0.25\n",
      "/r/Antonym  /c/en/profit        /c/en/losing            0.167\n",
      "/r/Antonym  /c/en/profit        /c/en/losing_money      0.167\n",
      "/r/Antonym  /c/en/profit        /c/en/loss              2.236\n",
      "/r/Antonym  /c/en/profit        /c/en/money             0.659\n",
      "/r/Antonym  /c/en/profit        /c/en/money_loss        0.242\n",
      "/r/Antonym  /c/en/progress      /c/en/fail              0.112\n",
      "/r/Antonym  /c/en/progress      /c/en/failing           0.15\n",
      "/r/Antonym  /c/en/progress      /c/en/stop              0.103\n",
      "/r/Antonym  /c/en/prosperity    /c/en/poverty           0.129\n",
      "/r/Antonym  /c/en/punishment    /c/en/praise            0.333\n",
      "/r/Antonym  /c/en/punishment    /c/en/reward            2.011\n",
      "/r/Antonym  /c/en/punishment    /c/en/rewarding         0.189\n",
      "/r/Antonym  /c/en/rain          /c/en/drought           0.105\n",
      "/r/Antonym  /c/en/rain          /c/en/shine             0.238\n",
      "/r/Antonym  /c/en/rain          /c/en/snow              0.226\n",
      "/r/Antonym  /c/en/rain          /c/en/sun               0.122\n",
      "/r/Antonym  /c/en/reading       /c/en/listening         0.201\n",
      "/r/Antonym  /c/en/reading       /c/en/watching          0.701\n",
      "/r/Antonym  /c/en/reading       /c/en/watching_tv       0.39\n",
      "/r/Antonym  /c/en/reading       /c/en/writing           0.109\n",
      "/r/Antonym  /c/en/record        /c/en/music             0.177\n",
      "/r/Antonym  /c/en/record        /c/en/play              0.568\n",
      "/r/Antonym  /c/en/regret        /c/en/joy               0.296\n",
      "/r/Antonym  /c/en/regret        /c/en/pride             0.276\n",
      "/r/Antonym  /c/en/regret        /c/en/satisfaction      0.106\n",
      "/r/Antonym  /c/en/relaxation    /c/en/stress            0.233\n",
      "/r/Antonym  /c/en/religion      /c/en/atheism           0.237\n",
      "/r/Antonym  /c/en/reply         /c/en/answer            0.659\n",
      "/r/Antonym  /c/en/reply         /c/en/silence           0.197\n",
      "/r/Antonym  /c/en/resentment    /c/en/approval          0.176\n",
      "/r/Antonym  /c/en/respect       /c/en/feeling           0.222\n",
      "/r/Antonym  /c/en/respect       /c/en/insult            0.178\n",
      "/r/Antonym  /c/en/rest          /c/en/action            0.29\n",
      "/r/Antonym  /c/en/rest          /c/en/busy              0.31\n",
      "/r/Antonym  /c/en/rest          /c/en/energy            0.173\n",
      "/r/Antonym  /c/en/rest          /c/en/exercise          0.251\n",
      "/r/Antonym  /c/en/rest          /c/en/moving            0.103\n",
      "/r/Antonym  /c/en/rest          /c/en/play              0.2\n",
      "/r/Antonym  /c/en/rest          /c/en/sleeping          0.103\n",
      "/r/Antonym  /c/en/rest          /c/en/tired             0.226\n",
      "/r/Antonym  /c/en/rest          /c/en/work              1.181\n",
      "/r/Antonym  /c/en/rest          /c/en/working           0.142\n",
      "/r/Antonym  /c/en/reward        /c/en/penalty           0.515\n",
      "/r/Antonym  /c/en/reward        /c/en/punishment        1.191\n",
      "/r/Antonym  /c/en/rise          /c/en/fall              1.172\n",
      "/r/Antonym  /c/en/rise          /c/en/sun               0.178\n",
      "/r/Antonym  /c/en/robbery       /c/en/giving            0.211\n",
      "/r/Antonym  /c/en/run           /c/en/stop              0.195\n",
      "/r/Antonym  /c/en/run           /c/en/walking           0.301\n",
      "/r/Antonym  /c/en/running       /c/en/stopping          0.22\n",
      "/r/Antonym  /c/en/running       /c/en/walking           0.101\n",
      "/r/Antonym  /c/en/rush          /c/en/calm              0.102\n",
      "/r/Antonym  /c/en/rush          /c/en/delay             0.103\n",
      "/r/Antonym  /c/en/rush          /c/en/leisure           0.155\n",
      "/r/Antonym  /c/en/rush          /c/en/slow_down         0.27\n",
      "/r/Antonym  /c/en/rush          /c/en/time              0.224\n",
      "/r/Antonym  /c/en/shock         /c/en/calm              0.272\n",
      "/r/Antonym  /c/en/sickness      /c/en/health            0.411\n",
      "/r/Antonym  /c/en/sickness      /c/en/healthy           0.19\n",
      "/r/Antonym  /c/en/silence       /c/en/loud_noise        0.255\n",
      "/r/Antonym  /c/en/silence       /c/en/loud_noises       0.194\n",
      "/r/Antonym  /c/en/silence       /c/en/noise             0.905\n",
      "/r/Antonym  /c/en/sin           /c/en/good              0.129\n",
      "/r/Antonym  /c/en/sing          /c/en/talk              0.216\n",
      "/r/Antonym  /c/en/sit           /c/en/getting           0.153\n",
      "/r/Antonym  /c/en/sit           /c/en/getting_up        0.153\n",
      "/r/Antonym  /c/en/sleep         /c/en/wake_up           0.316\n",
      "/r/Antonym  /c/en/sleep         /c/en/waking            0.149\n",
      "/r/Antonym  /c/en/slip          /c/en/balance           0.173\n",
      "/r/Antonym  /c/en/slip          /c/en/friction          0.103\n",
      "/r/Antonym  /c/en/smell         /c/en/hear              0.161\n",
      "/r/Antonym  /c/en/smile         /c/en/cry               0.395\n",
      "/r/Antonym  /c/en/smoke         /c/en/clean             0.353\n",
      "/r/Antonym  /c/en/smoke         /c/en/clean_air         0.353\n",
      "/r/Antonym  /c/en/smoke         /c/en/fire              0.246\n",
      "/r/Antonym  /c/en/snow          /c/en/rain              0.532\n",
      "/r/Antonym  /c/en/snow          /c/en/sun               0.247\n",
      "/r/Antonym  /c/en/soap          /c/en/clean             0.256\n",
      "/r/Antonym  /c/en/soap          /c/en/water             0.141\n",
      "/r/Antonym  /c/en/solution      /c/en/problem           0.289\n",
      "/r/Antonym  /c/en/sorrow        /c/en/happy             0.166\n",
      "/r/Antonym  /c/en/sorrow        /c/en/joy               0.104\n",
      "/r/Antonym  /c/en/sound         /c/en/light             0.271\n",
      "/r/Antonym  /c/en/sound         /c/en/silence           1.575\n",
      "/r/Antonym  /c/en/stain         /c/en/clean             0.175\n",
      "/r/Antonym  /c/en/steam         /c/en/cold              0.424\n",
      "/r/Antonym  /c/en/steam         /c/en/water             0.306\n",
      "/r/Antonym  /c/en/story         /c/en/truth             0.202\n",
      "/r/Antonym  /c/en/success       /c/en/fail              0.22\n",
      "/r/Antonym  /c/en/success       /c/en/failure           0.358\n",
      "/r/Antonym  /c/en/sugar         /c/en/pepper            0.113\n",
      "/r/Antonym  /c/en/surprise      /c/en/boring            0.102\n",
      "/r/Antonym  /c/en/surprise      /c/en/knowing           0.241\n",
      "/r/Antonym  /c/en/talk          /c/en/listen            0.322\n",
      "/r/Antonym  /c/en/talk          /c/en/listening         0.189\n",
      "/r/Antonym  /c/en/talk          /c/en/silence           0.37\n",
      "/r/Antonym  /c/en/talk          /c/en/sit               0.175\n",
      "/r/Antonym  /c/en/thrill        /c/en/boring            0.106\n",
      "/r/Antonym  /c/en/thunder       /c/en/lightning         1.714\n",
      "/r/Antonym  /c/en/thunder       /c/en/silence           0.156\n",
      "/r/Antonym  /c/en/trouble       /c/en/calm              0.23\n",
      "/r/Antonym  /c/en/trouble       /c/en/good              0.385\n",
      "/r/Antonym  /c/en/truth         /c/en/lie               0.581\n",
      "/r/Antonym  /c/en/under         /c/en/over              2.47\n",
      "/r/Antonym  /c/en/unhappiness   /c/en/happy             0.156\n",
      "/r/Antonym  /c/en/victory       /c/en/loss              0.179\n",
      "/r/Antonym  /c/en/walking       /c/en/running           0.381\n",
      "/r/Antonym  /c/en/war           /c/en/peace             1.951\n",
      "/r/Antonym  /c/en/warmth        /c/en/cold              0.23\n",
      "/r/Antonym  /c/en/water         /c/en/fire              0.694\n",
      "/r/Antonym  /c/en/water         /c/en/food              0.103\n",
      "/r/Antonym  /c/en/wealth        /c/en/poverty           0.227\n",
      "/r/Antonym  /c/en/win           /c/en/lose              0.774\n",
      "/r/Antonym  /c/en/wind          /c/en/calm              0.478\n",
      "/r/Antonym  /c/en/wind          /c/en/fire              0.14\n",
      "/r/Antonym  /c/en/work          /c/en/being_lazy        0.227\n",
      "/r/Antonym  /c/en/work          /c/en/laziness          0.378\n",
      "/r/Antonym  /c/en/work          /c/en/leisure           0.457\n",
      "/r/Antonym  /c/en/work          /c/en/play              2.358\n",
      "/r/Antonym  /c/en/work          /c/en/recreation        0.112\n",
      "/r/Antonym  /c/en/work          /c/en/relax             0.412\n",
      "/r/Antonym  /c/en/work          /c/en/relaxation        0.115\n",
      "/r/Antonym  /c/en/work          /c/en/rest              0.749\n",
      "/r/Antonym  /c/en/work          /c/en/unemployment      0.294\n",
      "/r/Antonym  /c/en/working       /c/en/playing           0.143\n",
      "/r/Antonym  /c/en/writing       /c/en/speaking          0.505\n",
      "/r/Antonym  /c/en/writing       /c/en/talking           0.384\n",
      "/r/Antonym  /c/en/writing       /c/en/typing            0.638\n"
     ]
    }
   ],
   "source": [
    "print(tabulate([row for row in selected\n",
    "                if row[0] in {'/r/Antonym'}\n",
    "                ], headers=['relation', 'term1', 'term2', 'weight']))"
   ],
   "metadata": {
    "collapsed": false,
    "ExecuteTime": {
     "end_time": "2023-06-06T16:24:46.129331053Z",
     "start_time": "2023-06-06T16:24:46.056546048Z"
    }
   }
  },
  {
   "cell_type": "code",
   "execution_count": 99,
   "outputs": [
    {
     "data": {
      "text/plain": "2351"
     },
     "execution_count": 99,
     "metadata": {},
     "output_type": "execute_result"
    }
   ],
   "source": [
    "graph = {}\n",
    "for row in selected:\n",
    "\tgraph.setdefault(row[1], []).append(row)\n",
    "len(graph)"
   ],
   "metadata": {
    "collapsed": false,
    "ExecuteTime": {
     "end_time": "2023-06-06T16:29:29.150098435Z",
     "start_time": "2023-06-06T16:29:29.138735787Z"
    }
   }
  },
  {
   "cell_type": "code",
   "execution_count": 105,
   "outputs": [],
   "source": [
    "import numpy as np\n",
    "import matplotlib.pyplot as plt\n",
    "import seaborn as sns\n",
    "sns.set(style=\"ticks\", context=\"talk\")\n",
    "plt.style.use(\"dark_background\")"
   ],
   "metadata": {
    "collapsed": false,
    "ExecuteTime": {
     "end_time": "2023-06-06T16:32:21.476841744Z",
     "start_time": "2023-06-06T16:32:21.473053677Z"
    }
   }
  },
  {
   "cell_type": "code",
   "execution_count": 117,
   "outputs": [
    {
     "data": {
      "text/plain": "<Figure size 360x360 with 1 Axes>",
      "image/png": "[encoded data removed]"
     },
     "metadata": {},
     "output_type": "display_data"
    }
   ],
   "source": [
    "sns.displot([len(v) for k, v in graph.items()], kde=True, rug=True);"
   ],
   "metadata": {
    "collapsed": false,
    "ExecuteTime": {
     "end_time": "2023-06-06T16:37:11.156897511Z",
     "start_time": "2023-06-06T16:37:10.985143608Z"
    }
   }
  },
  {
   "cell_type": "code",
   "execution_count": 128,
   "outputs": [],
   "source": [
    "def gen_edges(start):\n",
    "\tedges = {}\n",
    "\tfor edge in graph[start]:\n",
    "\t\tedges.setdefault(edge[0], []).append(edge)\n",
    "\treturn edges"
   ],
   "metadata": {
    "collapsed": false,
    "ExecuteTime": {
     "end_time": "2023-06-06T16:42:58.139607286Z",
     "start_time": "2023-06-06T16:42:58.135685093Z"
    }
   }
  },
  {
   "cell_type": "code",
   "execution_count": 133,
   "outputs": [
    {
     "name": "stdout",
     "output_type": "stream",
     "text": [
      "/c/en/stopping_standing_in\n",
      "relation            term2                          weight\n",
      "------------------  ---------------------------  --------\n",
      "/r/Causes           /c/en/drip_across_rug               1\n",
      "/r/Causes           /c/en/foul_odor                     1\n",
      "/r/Causes           /c/en/gets_dry                      1\n",
      "/r/Causes           /c/en/getting_hit_by_car            1\n",
      "/r/Causes           /c/en/getting_out_of                1\n",
      "/r/Causes           /c/en/jump                          1\n",
      "/r/Causes           /c/en/jumping_out                   1\n",
      "/r/Causes           /c/en/laying_in                     1\n",
      "/r/Causes           /c/en/move_away_from                1\n",
      "/r/Causes           /c/en/move_out                      1\n",
      "/r/Causes           /c/en/movement                      1\n",
      "/r/Causes           /c/en/shoes_to_get_wet              1\n",
      "/r/Causes           /c/en/stopping_being_wet_by         1\n",
      "/r/Causes           /c/en/walking_out_of                1\n",
      "/r/HasPrerequisite  /c/en/moving                        1\n",
      "/r/HasSubevent      /c/en/move                          1\n",
      "/r/HasSubevent      /c/en/moving                        1\n",
      "/r/UsedFor          /c/en/common_sense                  1\n",
      "/r/UsedFor          /c/en/getting_out_of                1\n"
     ]
    }
   ],
   "source": [
    "start = random.choice(list(graph.keys()))\n",
    "\n",
    "print(start)\n",
    "\n",
    "print(tabulate([[row[0], row[2], row[3]] for row in graph[start]], headers=['relation', 'term2', 'weight']))\n",
    "\n",
    "\n",
    "# edges = gen_edges(start)\n",
    "# options = [[rel, '\\n'.join(row[2] for row in rows)] for rel, rows in edges.items()]\n",
    "# print(tabulate(options, headers=['relation', 'term2']))"
   ],
   "metadata": {
    "collapsed": false,
    "ExecuteTime": {
     "end_time": "2023-06-06T16:44:49.179464554Z",
     "start_time": "2023-06-06T16:44:49.171633351Z"
    }
   }
  },
  {
   "cell_type": "code",
   "execution_count": 136,
   "outputs": [],
   "source": [
    "import sys"
   ],
   "metadata": {
    "collapsed": false,
    "ExecuteTime": {
     "end_time": "2023-06-06T16:48:05.014688512Z",
     "start_time": "2023-06-06T16:48:05.008979467Z"
    }
   }
  },
  {
   "cell_type": "code",
   "execution_count": 167,
   "outputs": [
    {
     "name": "stdout",
     "output_type": "stream",
     "text": [
      "term1           relation        term2            weight\n",
      "--------------  --------------  -------------  --------\n",
      "/c/en/calmness  /r/DerivedFrom  /c/en/calm        1\n",
      "/c/en/calm      /r/RelatedTo    /c/en/emotion     0.667\n",
      "/c/en/emotion   /r/RelatedTo    /c/en/sad         0.102\n",
      "/c/en/sad       /r/HasSubevent  /c/en/cry         2.828\n",
      "/c/en/cry       /r/RelatedTo    /c/en/display     0.112\n"
     ]
    }
   ],
   "source": [
    "fuel = 5\n",
    "\n",
    "links = []\n",
    "\n",
    "start = random.choice(list(graph.keys()))\n",
    "current = start\n",
    "for _ in range(fuel+1):\n",
    "\tif current in graph:\n",
    "\t\tlinks.append(random.choice(graph[current]))\n",
    "\t\tcurrent = links[-1][2]\n",
    "\n",
    "print(tabulate([[row[1], row[0], row[2], row[3]] for row in links], headers=['term1', 'relation', 'term2', 'weight']))"
   ],
   "metadata": {
    "collapsed": false,
    "ExecuteTime": {
     "end_time": "2023-06-06T17:31:09.599664189Z",
     "start_time": "2023-06-06T17:31:09.588630019Z"
    }
   }
  },
  {
   "cell_type": "code",
   "execution_count": 166,
   "outputs": [
    {
     "data": {
      "text/plain": "[['/r/Causes', '/c/en/getting', '/c/en/aquisition', '1.0'],\n ['/r/Causes', '/c/en/getting', '/c/en/being_happy', '1.0'],\n ['/r/Causes', '/c/en/getting', '/c/en/death', '1.0'],\n ['/r/Causes', '/c/en/getting', '/c/en/disappointment', '1.0'],\n ['/r/Causes', '/c/en/getting', '/c/en/feeling_indebted', '1.0'],\n ['/r/Causes', '/c/en/getting', '/c/en/get', '1.0'],\n ['/r/Causes', '/c/en/getting', '/c/en/gratitude', '1.0'],\n ['/r/Causes', '/c/en/getting', '/c/en/have_new_thing', '1.0'],\n ['/r/Causes', '/c/en/getting', '/c/en/having', '2.0'],\n ['/r/Causes', '/c/en/getting', '/c/en/having_in_hand', '1.0'],\n ['/r/Causes', '/c/en/getting', '/c/en/having_to_take_care_of', '1.0'],\n ['/r/Causes', '/c/en/getting', '/c/en/headaches', '1.0'],\n ['/r/Causes', '/c/en/getting', '/c/en/illness', '1.0'],\n ['/r/Causes', '/c/en/getting', '/c/en/joy', '1.0'],\n ['/r/Causes', '/c/en/getting', '/c/en/let_down', '1.0'],\n ['/r/Causes', '/c/en/getting', '/c/en/losing', '1.0'],\n ['/r/Causes', '/c/en/getting', '/c/en/making_sure_actually_need', '1.0'],\n ['/r/Causes', '/c/en/getting', '/c/en/new_realization', '1.0'],\n ['/r/Causes', '/c/en/getting', '/c/en/not_want_anymore', '1.0'],\n ['/r/Causes', '/c/en/getting', '/c/en/ownership', '1.0'],\n ['/r/Causes', '/c/en/getting', '/c/en/receiving', '1.0'],\n ['/r/Causes', '/c/en/getting', '/c/en/satisfaction', '2.828'],\n ['/r/Causes', '/c/en/getting', '/c/en/saying_thankyou', '1.0'],\n ['/r/Causes', '/c/en/getting', '/c/en/then_have', '1.0'],\n ['/r/Causes', '/c/en/getting', '/c/en/wanting_more', '1.0'],\n ['/r/HasPrerequisite', '/c/en/getting', '/c/en/action', '1.0'],\n ['/r/HasPrerequisite', '/c/en/getting', '/c/en/energy', '1.0'],\n ['/r/HasPrerequisite', '/c/en/getting', '/c/en/giving', '2.0'],\n ['/r/HasPrerequisite', '/c/en/getting', '/c/en/losing', '1.0'],\n ['/r/HasPrerequisite', '/c/en/getting', '/c/en/money', '1.0'],\n ['/r/HasPrerequisite', '/c/en/getting', '/c/en/work', '1.0'],\n ['/r/HasSubevent', '/c/en/getting', '/c/en/being_sick', '1.0'],\n ['/r/HasSubevent', '/c/en/getting', '/c/en/enjoy', '1.0'],\n ['/r/HasSubevent', '/c/en/getting', '/c/en/envy', '1.0'],\n ['/r/HasSubevent', '/c/en/getting', '/c/en/get_up', '1.0'],\n ['/r/HasSubevent', '/c/en/getting', '/c/en/going_to_store', '2.0'],\n ['/r/HasSubevent', '/c/en/getting', '/c/en/have_sex', '1.0'],\n ['/r/HasSubevent', '/c/en/getting', '/c/en/having', '1.0'],\n ['/r/HasSubevent', '/c/en/getting', '/c/en/say_thank', '2.0'],\n ['/r/HasSubevent', '/c/en/getting', '/c/en/smile', '2.0'],\n ['/r/HasSubevent', '/c/en/getting', '/c/en/spend_money', '1.0'],\n ['/r/UsedFor', '/c/en/getting', '/c/en/having', '1.0']]"
     },
     "execution_count": 166,
     "metadata": {},
     "output_type": "execute_result"
    }
   ],
   "source": [
    "graph['/c/en/getting']"
   ],
   "metadata": {
    "collapsed": false,
    "ExecuteTime": {
     "end_time": "2023-06-06T17:28:33.413254202Z",
     "start_time": "2023-06-06T17:28:33.410398909Z"
    }
   }
  },
  {
   "cell_type": "code",
   "execution_count": null,
   "outputs": [],
   "source": [],
   "metadata": {
    "collapsed": false
   }
  },
  {
   "cell_type": "code",
   "execution_count": null,
   "outputs": [],
   "source": [],
   "metadata": {
    "collapsed": false
   }
  }
 ],
 "metadata": {
  "kernelspec": {
   "display_name": "Python 3",
   "language": "python",
   "name": "python3"
  },
  "language_info": {
   "codemirror_mode": {
    "name": "ipython",
    "version": 2
   },
   "file_extension": ".py",
   "mimetype": "text/x-python",
   "name": "python",
   "nbconvert_exporter": "python",
   "pygments_lexer": "ipython2",
   "version": "2.7.6"
  }
 },
 "nbformat": 4,
 "nbformat_minor": 0
}
