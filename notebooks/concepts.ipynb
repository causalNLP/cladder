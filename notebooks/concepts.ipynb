{
 "cells": [
  {
   "cell_type": "code",
   "execution_count": 206,
   "metadata": {
    "collapsed": true,
    "ExecuteTime": {
     "end_time": "2023-06-06T22:24:27.095773400Z",
     "start_time": "2023-06-06T22:24:27.021769700Z"
    }
   },
   "outputs": [],
   "source": [
    "from pathlib import Path\n",
    "from tqdm.notebook import tqdm\n",
    "import random\n",
    "from tabulate import tabulate\n",
    "from omnibelt import load_json, save_json\n",
    "from collections import Counter"
   ]
  },
  {
   "cell_type": "code",
   "execution_count": 217,
   "outputs": [],
   "source": [
    "# dataroot = Path('../extra')\n",
    "dataroot = Path(r'C:\\Users\\anwan\\Documents\\workspace\\local_data\\concept_net')"
   ],
   "metadata": {
    "collapsed": false,
    "ExecuteTime": {
     "end_time": "2023-06-06T22:36:03.011707300Z",
     "start_time": "2023-06-06T22:36:02.985708900Z"
    }
   }
  },
  {
   "cell_type": "code",
   "execution_count": 218,
   "outputs": [],
   "source": [
    "# datapath = dataroot / 'conceptnet-assertions-5.7.0.csv'\n",
    "datapath = dataroot / 'assertions.csv'\n",
    "# assert datapath.exists()"
   ],
   "metadata": {
    "collapsed": false,
    "ExecuteTime": {
     "end_time": "2023-06-06T22:36:04.521544400Z",
     "start_time": "2023-06-06T22:36:04.503544500Z"
    }
   }
  },
  {
   "cell_type": "code",
   "execution_count": 216,
   "outputs": [],
   "source": [
    "# count = 0\n",
    "# with open(datapath, 'r', encoding=\"utf8\") as fread:\n",
    "# \twith open(dataroot / 'en.csv', 'w', encoding=\"utf8\") as fwrite:\n",
    "# \t\tfor line in tqdm(fread, total=34074917):\n",
    "# \t\t\tterms = line.split('\\t')\n",
    "# \t\t\tif terms[2].startswith('/c/en/') and terms[3].startswith('/c/en/'):\n",
    "# \t\t\t\tfwrite.write('\\t'.join(process_line(line)) + '\\n')\n",
    "# \t\t\t\tcount += 1\n",
    "# count # 3423004"
   ],
   "metadata": {
    "collapsed": false,
    "ExecuteTime": {
     "end_time": "2023-06-06T22:35:25.358738700Z",
     "start_time": "2023-06-06T22:35:25.317160400Z"
    }
   }
  },
  {
   "cell_type": "code",
   "execution_count": null,
   "outputs": [],
   "source": [
    "# with open(datapath, 'r', encoding=\"utf8\") as f:\n",
    "# \tfor i in range(3):\n",
    "# \t\tprint(f.readline())"
   ],
   "metadata": {
    "collapsed": false
   }
  },
  {
   "cell_type": "code",
   "execution_count": null,
   "outputs": [],
   "source": [
    "enpath = dataroot / 'en.csv'\n",
    "assert enpath.exists()"
   ],
   "metadata": {
    "collapsed": false
   }
  },
  {
   "cell_type": "code",
   "execution_count": 220,
   "outputs": [],
   "source": [
    "# with open(datapath, \"rbU\") as f:\n",
    "#     num_lines = sum(1 for _ in tqdm(f)) # 34074917"
   ],
   "metadata": {
    "collapsed": false,
    "ExecuteTime": {
     "end_time": "2023-06-06T22:36:24.622619900Z",
     "start_time": "2023-06-06T22:36:24.605590800Z"
    }
   }
  },
  {
   "cell_type": "code",
   "execution_count": 10,
   "outputs": [],
   "source": [
    "# f = open(datapath, 'r', encoding=\"utf8\")"
   ],
   "metadata": {
    "collapsed": false,
    "ExecuteTime": {
     "end_time": "2023-06-06T15:50:04.486232087Z",
     "start_time": "2023-06-06T15:50:04.474476017Z"
    }
   }
  },
  {
   "cell_type": "code",
   "execution_count": 5,
   "outputs": [],
   "source": [
    "# itr = tqdm(f, total=34074917)"
   ],
   "metadata": {
    "collapsed": false,
    "ExecuteTime": {
     "end_time": "2023-06-06T21:32:04.051555900Z",
     "start_time": "2023-06-06T21:32:04.033519500Z"
    }
   }
  },
  {
   "cell_type": "code",
   "execution_count": 212,
   "outputs": [
    {
     "data": {
      "text/plain": "16801"
     },
     "execution_count": 212,
     "metadata": {},
     "output_type": "execute_result"
    }
   ],
   "source": [
    "# rows = []\n",
    "# with open(datapath, 'r', encoding=\"utf8\") as f:\n",
    "# \titr = tqdm(f, total=34074917)\n",
    "# \tfor line in itr:\n",
    "# \t\tterms = line.split('\\t')\n",
    "# \t\tif terms[1] == '/r/Causes' and terms[2].startswith('/c/en/') and terms[3].startswith('/c/en/'):\n",
    "# \t\t\trows.append([terms[1], terms[2], terms[3], terms[-1].split(' ')[-1][:-2]])\n",
    "# \t\t# if len(rows) > 10:\n",
    "# \t\t# \tbreak\n",
    "# \t\t# itr.set_description(f'rows={len(rows)}')\n",
    "# save_json(rows, dataroot / 'causes.json')\n",
    "rows = load_json(dataroot / 'causes.json')\n",
    "len(rows)"
   ],
   "metadata": {
    "collapsed": false,
    "ExecuteTime": {
     "end_time": "2023-06-06T22:30:31.422004300Z",
     "start_time": "2023-06-06T22:30:31.366002900Z"
    }
   }
  },
  {
   "cell_type": "code",
   "execution_count": 221,
   "outputs": [
    {
     "name": "stdout",
     "output_type": "stream",
     "text": [
      "relation    term1                       term2                              weight\n",
      "----------  --------------------------  -------------------------------  --------\n",
      "/r/Causes   /c/en/writing_term_paper    /c/en/rush_to_get_done                  1\n",
      "/r/Causes   /c/en/chopping_firewood     /c/en/injuries                          1\n",
      "/r/Causes   /c/en/driving_to_work       /c/en/getting_to_work_early             1\n",
      "/r/Causes   /c/en/tying_shoelace        /c/en/frustration                       1\n",
      "/r/Causes   /c/en/having_shower         /c/en/smelling_good                     1\n",
      "/r/Causes   /c/en/going_to_market       /c/en/fill_up_refrigerator              2\n",
      "/r/Causes   /c/en/analysing             /c/en/learning_more_about               1\n",
      "/r/Causes   /c/en/setting_cup_on_table  /c/en/permanent_stains_on_table         1\n",
      "/r/Causes   /c/en/conducting_trial      /c/en/asking_questions                  1\n",
      "/r/Causes   /c/en/competing             /c/en/tension                           1\n"
     ]
    }
   ],
   "source": [
    "print(tabulate(random.choices(rows, k=10), headers=['relation', 'term1', 'term2', 'weight']))"
   ],
   "metadata": {
    "collapsed": false,
    "ExecuteTime": {
     "end_time": "2023-06-06T22:38:11.122994Z",
     "start_time": "2023-06-06T22:38:11.108958700Z"
    }
   }
  },
  {
   "cell_type": "code",
   "execution_count": 174,
   "outputs": [],
   "source": [
    "# Counter([row[-1] for row in rows])"
   ],
   "metadata": {
    "collapsed": false,
    "ExecuteTime": {
     "end_time": "2023-06-06T22:15:08.731870300Z",
     "start_time": "2023-06-06T22:15:08.673849800Z"
    }
   }
  },
  {
   "cell_type": "code",
   "execution_count": 175,
   "outputs": [
    {
     "data": {
      "text/plain": "12832"
     },
     "execution_count": 175,
     "metadata": {},
     "output_type": "execute_result"
    }
   ],
   "source": [
    "vocab = set(word for row in rows for word in row[1:3])\n",
    "len(vocab)"
   ],
   "metadata": {
    "collapsed": false,
    "ExecuteTime": {
     "end_time": "2023-06-06T22:15:08.731870300Z",
     "start_time": "2023-06-06T22:15:08.696848400Z"
    }
   }
  },
  {
   "cell_type": "code",
   "execution_count": 17,
   "outputs": [],
   "source": [
    "mergers = {\n",
    "\t'/r/Synonym',\n",
    "\t'/r/SimilarTo',\n",
    "\t# '/r/DefinedAs',\n",
    "\t# '/r/DerivedFrom',\n",
    "}"
   ],
   "metadata": {
    "collapsed": false,
    "ExecuteTime": {
     "end_time": "2023-06-06T21:58:36.054827600Z",
     "start_time": "2023-06-06T21:58:36.039320700Z"
    }
   }
  },
  {
   "cell_type": "code",
   "execution_count": 18,
   "outputs": [
    {
     "data": {
      "text/plain": "  0%|          | 0/34074917 [00:00<?, ?it/s]",
      "application/vnd.jupyter.widget-view+json": {
       "version_major": 2,
       "version_minor": 0,
       "model_id": "156153fad39e4585be30ba14bdf5c518"
      },
      "application/json": {
       "n": 0,
       "total": 34074917,
       "elapsed": 0.005960941314697266,
       "ncols": null,
       "nrows": null,
       "prefix": "",
       "ascii": false,
       "unit": "it",
       "unit_scale": false,
       "rate": null,
       "bar_format": null,
       "postfix": null,
       "unit_divisor": 1000,
       "initial": 0,
       "colour": null
      }
     },
     "metadata": {},
     "output_type": "display_data"
    },
    {
     "data": {
      "text/plain": "252436"
     },
     "execution_count": 18,
     "metadata": {},
     "output_type": "execute_result"
    }
   ],
   "source": [
    "def filter_line(line):\n",
    "\tterms = line.split('\\t')\n",
    "\tif not terms[2].startswith('/c/en/') or not terms[3].startswith('/c/en/'):\n",
    "\t\treturn False\n",
    "\treturn True\n",
    "\n",
    "def process_line(line):\n",
    "\tterms = line.split('\\t')\n",
    "\trel = terms[1]\n",
    "\tt1 = terms[2]\n",
    "\tt2 = terms[3]\n",
    "\twt = terms[-1].split(' ')[-1][:-2]\n",
    "\treturn rel, t1, t2, wt\n",
    "\n",
    "def select_line(rel, t1, t2, wt):\n",
    "\t# if t1 == '/c/en/setting_cup_on_table':\n",
    "\t# \treturn True\n",
    "\t# if t1 in vocab and t2 in vocab:\n",
    "\t# \treturn True\n",
    "\tif rel in mergers:\n",
    "\t\treturn True\n",
    "\treturn False\n",
    "\n",
    "\n",
    "selected = []\n",
    "with open(datapath, 'r', encoding=\"utf8\") as f:\n",
    "\titr = tqdm(f, total=34074917)\n",
    "\tfor line in itr:\n",
    "\t\tif not filter_line(line):\n",
    "\t\t\tcontinue\n",
    "\t\trel, t1, t2, wt = process_line(line)\n",
    "\t\tif select_line(rel, t1, t2, wt):\n",
    "\t\t\tselected.append([rel, t1, t2, wt])\n",
    "len(selected)"
   ],
   "metadata": {
    "collapsed": false,
    "ExecuteTime": {
     "end_time": "2023-06-06T21:59:55.429560Z",
     "start_time": "2023-06-06T21:59:01.144483400Z"
    }
   }
  },
  {
   "cell_type": "code",
   "execution_count": 19,
   "outputs": [
    {
     "name": "stdout",
     "output_type": "stream",
     "text": [
      "relation      term1                               term2                        weight\n",
      "------------  ----------------------------------  -------------------------  --------\n",
      "/r/Synonym    /c/en/for_goodness_sake             /c/en/ffs                       1\n",
      "/r/Synonym    /c/en/ring_hollow/v                 /c/en/ring_false                1\n",
      "/r/Synonym    /c/en/acapnial/a/wn                 /c/en/acapnic/a/wn              2\n",
      "/r/Synonym    /c/en/for_all_intents_and_purposes  /c/en/effectively               1\n",
      "/r/Synonym    /c/en/stream_wheel/n                /c/en/current_wheel             1\n",
      "/r/Synonym    /c/en/pergola/n/wn/artifact         /c/en/arbor/n/wn/artifact       2\n",
      "/r/Synonym    /c/en/spratly_islands               /c/en/spratly_islands           0.5\n",
      "/r/SimilarTo  /c/en/maternal/a                    /c/en/avuncular                 1\n",
      "/r/Synonym    /c/en/udaler/n                      /c/en/udalman                   1\n",
      "/r/Synonym    /c/en/invert/v/wn/change            /c/en/reverse/v/wn/change       2\n"
     ]
    }
   ],
   "source": [
    "print(tabulate(random.choices(selected, k=10), headers=['relation', 'term1', 'term2', 'weight']))"
   ],
   "metadata": {
    "collapsed": false,
    "ExecuteTime": {
     "end_time": "2023-06-06T21:59:55.474559800Z",
     "start_time": "2023-06-06T21:59:55.432559800Z"
    }
   }
  },
  {
   "cell_type": "code",
   "execution_count": 11,
   "outputs": [],
   "source": [
    "# set([row[0] for row in selected])"
   ],
   "metadata": {
    "collapsed": false,
    "ExecuteTime": {
     "end_time": "2023-06-06T21:55:39.302950700Z",
     "start_time": "2023-06-06T21:55:39.287951Z"
    }
   }
  },
  {
   "cell_type": "code",
   "execution_count": 12,
   "outputs": [],
   "source": [
    "# print(tabulate([row for row in selected\n",
    "#                 if row[0] in {'/r/Antonym'}\n",
    "#                 ], headers=['relation', 'term1', 'term2', 'weight']))"
   ],
   "metadata": {
    "collapsed": false,
    "ExecuteTime": {
     "end_time": "2023-06-06T21:55:45.069625500Z",
     "start_time": "2023-06-06T21:55:45.052624600Z"
    }
   }
  },
  {
   "cell_type": "code",
   "execution_count": 21,
   "outputs": [
    {
     "data": {
      "text/plain": "190120"
     },
     "execution_count": 21,
     "metadata": {},
     "output_type": "execute_result"
    }
   ],
   "source": [
    "graph = {}\n",
    "for row in selected:\n",
    "\tgraph.setdefault(row[1], []).append(row[2])\n",
    "len(graph)"
   ],
   "metadata": {
    "collapsed": false,
    "ExecuteTime": {
     "end_time": "2023-06-06T21:59:55.884445700Z",
     "start_time": "2023-06-06T21:59:55.868445400Z"
    }
   }
  },
  {
   "cell_type": "markdown",
   "source": [
    "# Merge Similar Concepts"
   ],
   "metadata": {
    "collapsed": false
   }
  },
  {
   "cell_type": "code",
   "execution_count": 20,
   "outputs": [],
   "source": [
    "import networkx as nx"
   ],
   "metadata": {
    "collapsed": false,
    "ExecuteTime": {
     "end_time": "2023-06-06T21:59:55.726880Z",
     "start_time": "2023-06-06T21:59:55.474559800Z"
    }
   }
  },
  {
   "cell_type": "code",
   "execution_count": 22,
   "outputs": [
    {
     "data": {
      "text/plain": "291563"
     },
     "execution_count": 22,
     "metadata": {},
     "output_type": "execute_result"
    }
   ],
   "source": [
    "g = nx.Graph(graph)\n",
    "len(g)"
   ],
   "metadata": {
    "collapsed": false,
    "ExecuteTime": {
     "end_time": "2023-06-06T22:00:23.907367600Z",
     "start_time": "2023-06-06T22:00:22.672107500Z"
    }
   }
  },
  {
   "cell_type": "code",
   "execution_count": 176,
   "outputs": [],
   "source": [
    "groups = []"
   ],
   "metadata": {
    "collapsed": false,
    "ExecuteTime": {
     "end_time": "2023-06-06T22:16:13.073954100Z",
     "start_time": "2023-06-06T22:16:13.056953600Z"
    }
   }
  },
  {
   "cell_type": "code",
   "execution_count": 208,
   "outputs": [
    {
     "data": {
      "text/plain": "602"
     },
     "execution_count": 208,
     "metadata": {},
     "output_type": "execute_result"
    }
   ],
   "source": [
    "citr = (g.subgraph(c) for c in nx.connected_components(g))\n",
    "# c = next(citr)\n",
    "# len(c)\n",
    "# N = 10\n",
    "# random.choices(list(c.nodes), k=10) if len(c) > N else list(c.nodes)\n",
    "for c in tqdm(citr):\n",
    "\tif any(w in vocab for w in c):\n",
    "\t\tgroups.append(list(c))\n",
    "# save_json(groups, dataroot / 'groups.json')\n",
    "len(groups)"
   ],
   "metadata": {
    "collapsed": false,
    "ExecuteTime": {
     "end_time": "2023-06-06T22:28:32.222193500Z",
     "start_time": "2023-06-06T22:28:31.231407900Z"
    }
   }
  },
  {
   "cell_type": "code",
   "execution_count": 209,
   "outputs": [
    {
     "data": {
      "text/plain": "['/c/en/weight', '/c/en/heaviness/n']"
     },
     "execution_count": 209,
     "metadata": {},
     "output_type": "execute_result"
    }
   ],
   "source": [
    "# random.choice(groups)"
   ],
   "metadata": {
    "collapsed": false,
    "ExecuteTime": {
     "end_time": "2023-06-06T22:28:43.425793200Z",
     "start_time": "2023-06-06T22:28:43.395494800Z"
    }
   }
  },
  {
   "cell_type": "code",
   "execution_count": null,
   "outputs": [],
   "source": [],
   "metadata": {
    "collapsed": false
   }
  },
  {
   "cell_type": "code",
   "execution_count": 186,
   "outputs": [
    {
     "data": {
      "text/plain": "[30067,\n 9,\n 9,\n 4,\n 4,\n 27,\n 2,\n 2,\n 7,\n 5,\n 5,\n 16,\n 3,\n 13,\n 8,\n 2,\n 9,\n 12,\n 2,\n 16,\n 6,\n 4,\n 2,\n 2,\n 2,\n 3,\n 6,\n 3,\n 3,\n 17,\n 26,\n 3,\n 26,\n 9,\n 15,\n 5,\n 14,\n 3,\n 3,\n 2,\n 13,\n 6,\n 2,\n 3,\n 9,\n 3,\n 3,\n 3,\n 8,\n 3,\n 4,\n 2,\n 2,\n 3,\n 33,\n 581,\n 722,\n 257,\n 653,\n 1,\n 12,\n 265,\n 2,\n 235,\n 3,\n 6,\n 5,\n 45,\n 272,\n 9,\n 51,\n 14,\n 35,\n 31,\n 6,\n 9,\n 8,\n 41,\n 15,\n 14,\n 13,\n 11,\n 14,\n 10,\n 1,\n 2,\n 1,\n 3,\n 112,\n 2,\n 2,\n 3,\n 21,\n 1,\n 4,\n 29,\n 2,\n 3,\n 1,\n 19,\n 6,\n 7,\n 1,\n 7,\n 16,\n 2,\n 56,\n 1,\n 9,\n 86,\n 5,\n 1,\n 1,\n 1,\n 11,\n 2,\n 8,\n 1,\n 1,\n 4,\n 8,\n 2,\n 1,\n 35,\n 8,\n 64,\n 2,\n 2,\n 45,\n 37,\n 5,\n 3,\n 33,\n 23,\n 3,\n 3,\n 9,\n 1,\n 4,\n 2,\n 2,\n 1,\n 7,\n 7,\n 5,\n 8,\n 1,\n 6,\n 14,\n 1,\n 7,\n 4,\n 1,\n 11,\n 10,\n 1,\n 8,\n 1,\n 1,\n 4,\n 7,\n 3,\n 1,\n 3,\n 5,\n 6,\n 11,\n 8,\n 1,\n 4,\n 4,\n 1,\n 3,\n 3,\n 1,\n 5,\n 4,\n 2,\n 2,\n 1,\n 1,\n 8,\n 2,\n 3,\n 3,\n 7,\n 1,\n 3,\n 1,\n 30,\n 12,\n 5,\n 15,\n 9,\n 1,\n 2,\n 2,\n 6,\n 19,\n 2,\n 2,\n 2,\n 4,\n 4,\n 2,\n 4,\n 2,\n 3,\n 1,\n 1,\n 7,\n 2,\n 1,\n 2,\n 3,\n 5,\n 1,\n 3,\n 10,\n 1,\n 1,\n 2,\n 40,\n 2,\n 2,\n 1,\n 2,\n 1,\n 1,\n 2,\n 3,\n 5,\n 1,\n 2,\n 8,\n 2,\n 3,\n 3,\n 2,\n 2,\n 3,\n 4,\n 1,\n 4,\n 2,\n 4,\n 9,\n 10,\n 1,\n 8,\n 3,\n 3,\n 8,\n 3,\n 11,\n 2,\n 1,\n 1,\n 10,\n 4,\n 4,\n 12,\n 2,\n 1,\n 3,\n 3,\n 17,\n 1,\n 4,\n 2,\n 1,\n 3,\n 3,\n 1,\n 2,\n 5,\n 2,\n 2,\n 2,\n 9,\n 4,\n 1,\n 2,\n 1,\n 1,\n 2,\n 9,\n 2,\n 1,\n 3,\n 1,\n 6,\n 1,\n 2,\n 9,\n 1,\n 1,\n 8,\n 2,\n 3,\n 1,\n 8,\n 2,\n 4,\n 1,\n 5,\n 3,\n 4,\n 4,\n 1,\n 1,\n 3,\n 1,\n 6,\n 2,\n 6,\n 1,\n 2,\n 2,\n 6,\n 2,\n 2,\n 2,\n 1,\n 2,\n 2,\n 1,\n 6,\n 2,\n 2,\n 1,\n 6,\n 5,\n 3,\n 3,\n 4,\n 3,\n 3,\n 6,\n 4,\n 6,\n 3,\n 2,\n 2,\n 6,\n 1,\n 4,\n 1,\n 1,\n 5,\n 1,\n 3,\n 1,\n 3,\n 11,\n 3,\n 4,\n 1,\n 2,\n 4,\n 1,\n 22,\n 2,\n 2,\n 2,\n 1,\n 4,\n 2,\n 4,\n 1,\n 1,\n 2,\n 1,\n 2,\n 5,\n 5,\n 1,\n 1,\n 2,\n 6,\n 15,\n 2,\n 6,\n 5,\n 2,\n 8,\n 9,\n 2,\n 1,\n 6,\n 2,\n 2,\n 1,\n 2,\n 7,\n 4,\n 3,\n 1,\n 2,\n 4,\n 3,\n 3,\n 2,\n 1,\n 1,\n 1,\n 4,\n 2,\n 4,\n 2,\n 2,\n 6,\n 2,\n 1,\n 5,\n 2,\n 5,\n 6,\n 1,\n 2,\n 3,\n 5,\n 1,\n 1,\n 2,\n 1,\n 5,\n 2,\n 1,\n 1,\n 2,\n 1,\n 2,\n 1,\n 2,\n 1,\n 3,\n 2,\n 2,\n 9,\n 1,\n 7,\n 1,\n 3,\n 4,\n 1,\n 1,\n 6,\n 1,\n 2,\n 2,\n 2,\n 2,\n 1,\n 3,\n 4,\n 1,\n 1,\n 3,\n 1,\n 4,\n 1,\n 2,\n 3,\n 4,\n 4,\n 1,\n 2,\n 1,\n 1,\n 1,\n 1,\n 1,\n 1,\n 1,\n 2,\n 1,\n 1,\n 2,\n 2,\n 2,\n 3,\n 2,\n 1,\n 2,\n 1,\n 3,\n 2,\n 3,\n 2,\n 1,\n 2,\n 2,\n 1,\n 11,\n 5,\n 2,\n 2,\n 3,\n 2,\n 3,\n 11,\n 3,\n 2,\n 4,\n 1,\n 3,\n 1,\n 7,\n 7,\n 2,\n 1,\n 2,\n 3,\n 3,\n 2,\n 2,\n 3,\n 3,\n 1,\n 1,\n 1,\n 1,\n 1,\n 1,\n 2,\n 2,\n 1,\n 2,\n 1,\n 2,\n 2,\n 2,\n 2,\n 2,\n 2,\n 1,\n 3,\n 2,\n 2,\n 2,\n 2,\n 3,\n 2,\n 1,\n 5,\n 4,\n 1,\n 3,\n 1,\n 2,\n 5,\n 3,\n 1,\n 1,\n 2,\n 2,\n 2,\n 2,\n 1,\n 1,\n 2,\n 3,\n 3,\n 1,\n 6,\n 2,\n 1,\n 2,\n 2,\n 2,\n 2,\n 1,\n 1,\n 1,\n 1,\n 2,\n 1,\n 3,\n 11,\n 1,\n 1,\n 1,\n 2,\n 1,\n 1,\n 3,\n 4,\n 1,\n 1,\n 1,\n 2,\n 3,\n 1,\n 2,\n 1,\n 2,\n 1,\n 3,\n 1,\n 1,\n 1]"
     },
     "execution_count": 186,
     "metadata": {},
     "output_type": "execute_result"
    }
   ],
   "source": [
    "[len(v) for v in groups]"
   ],
   "metadata": {
    "collapsed": false,
    "ExecuteTime": {
     "end_time": "2023-06-06T22:19:39.638517800Z",
     "start_time": "2023-06-06T22:19:39.614490300Z"
    }
   }
  },
  {
   "cell_type": "code",
   "execution_count": 185,
   "outputs": [
    {
     "name": "stderr",
     "output_type": "stream",
     "text": [
      "\n",
      "KeyboardInterrupt\n",
      "\n"
     ]
    },
    {
     "name": "stdout",
     "output_type": "stream",
     "text": [
      "Error in callback <function _draw_all_if_interactive at 0x000002AB83544CA0> (for post_execute):\n"
     ]
    },
    {
     "ename": "KeyboardInterrupt",
     "evalue": "",
     "output_type": "error",
     "traceback": [
      "\u001B[1;31m---------------------------------------------------------------------------\u001B[0m",
      "\u001B[1;31mKeyboardInterrupt\u001B[0m                         Traceback (most recent call last)",
      "File \u001B[1;32m~\\miniconda3\\lib\\site-packages\\matplotlib\\pyplot.py:119\u001B[0m, in \u001B[0;36m_draw_all_if_interactive\u001B[1;34m()\u001B[0m\n\u001B[0;32m    117\u001B[0m \u001B[38;5;28;01mdef\u001B[39;00m \u001B[38;5;21m_draw_all_if_interactive\u001B[39m():\n\u001B[0;32m    118\u001B[0m     \u001B[38;5;28;01mif\u001B[39;00m matplotlib\u001B[38;5;241m.\u001B[39mis_interactive():\n\u001B[1;32m--> 119\u001B[0m         \u001B[43mdraw_all\u001B[49m\u001B[43m(\u001B[49m\u001B[43m)\u001B[49m\n",
      "File \u001B[1;32m~\\miniconda3\\lib\\site-packages\\matplotlib\\_pylab_helpers.py:132\u001B[0m, in \u001B[0;36mGcf.draw_all\u001B[1;34m(cls, force)\u001B[0m\n\u001B[0;32m    130\u001B[0m \u001B[38;5;28;01mfor\u001B[39;00m manager \u001B[38;5;129;01min\u001B[39;00m \u001B[38;5;28mcls\u001B[39m\u001B[38;5;241m.\u001B[39mget_all_fig_managers():\n\u001B[0;32m    131\u001B[0m     \u001B[38;5;28;01mif\u001B[39;00m force \u001B[38;5;129;01mor\u001B[39;00m manager\u001B[38;5;241m.\u001B[39mcanvas\u001B[38;5;241m.\u001B[39mfigure\u001B[38;5;241m.\u001B[39mstale:\n\u001B[1;32m--> 132\u001B[0m         \u001B[43mmanager\u001B[49m\u001B[38;5;241;43m.\u001B[39;49m\u001B[43mcanvas\u001B[49m\u001B[38;5;241;43m.\u001B[39;49m\u001B[43mdraw_idle\u001B[49m\u001B[43m(\u001B[49m\u001B[43m)\u001B[49m\n",
      "File \u001B[1;32m~\\miniconda3\\lib\\site-packages\\matplotlib\\backend_bases.py:2054\u001B[0m, in \u001B[0;36mFigureCanvasBase.draw_idle\u001B[1;34m(self, *args, **kwargs)\u001B[0m\n\u001B[0;32m   2052\u001B[0m \u001B[38;5;28;01mif\u001B[39;00m \u001B[38;5;129;01mnot\u001B[39;00m \u001B[38;5;28mself\u001B[39m\u001B[38;5;241m.\u001B[39m_is_idle_drawing:\n\u001B[0;32m   2053\u001B[0m     \u001B[38;5;28;01mwith\u001B[39;00m \u001B[38;5;28mself\u001B[39m\u001B[38;5;241m.\u001B[39m_idle_draw_cntx():\n\u001B[1;32m-> 2054\u001B[0m         \u001B[38;5;28mself\u001B[39m\u001B[38;5;241m.\u001B[39mdraw(\u001B[38;5;241m*\u001B[39margs, \u001B[38;5;241m*\u001B[39m\u001B[38;5;241m*\u001B[39mkwargs)\n",
      "File \u001B[1;32m~\\miniconda3\\lib\\site-packages\\matplotlib\\backends\\backend_agg.py:405\u001B[0m, in \u001B[0;36mFigureCanvasAgg.draw\u001B[1;34m(self)\u001B[0m\n\u001B[0;32m    401\u001B[0m \u001B[38;5;66;03m# Acquire a lock on the shared font cache.\u001B[39;00m\n\u001B[0;32m    402\u001B[0m \u001B[38;5;28;01mwith\u001B[39;00m RendererAgg\u001B[38;5;241m.\u001B[39mlock, \\\n\u001B[0;32m    403\u001B[0m      (\u001B[38;5;28mself\u001B[39m\u001B[38;5;241m.\u001B[39mtoolbar\u001B[38;5;241m.\u001B[39m_wait_cursor_for_draw_cm() \u001B[38;5;28;01mif\u001B[39;00m \u001B[38;5;28mself\u001B[39m\u001B[38;5;241m.\u001B[39mtoolbar\n\u001B[0;32m    404\u001B[0m       \u001B[38;5;28;01melse\u001B[39;00m nullcontext()):\n\u001B[1;32m--> 405\u001B[0m     \u001B[38;5;28;43mself\u001B[39;49m\u001B[38;5;241;43m.\u001B[39;49m\u001B[43mfigure\u001B[49m\u001B[38;5;241;43m.\u001B[39;49m\u001B[43mdraw\u001B[49m\u001B[43m(\u001B[49m\u001B[38;5;28;43mself\u001B[39;49m\u001B[38;5;241;43m.\u001B[39;49m\u001B[43mrenderer\u001B[49m\u001B[43m)\u001B[49m\n\u001B[0;32m    406\u001B[0m     \u001B[38;5;66;03m# A GUI class may be need to update a window using this draw, so\u001B[39;00m\n\u001B[0;32m    407\u001B[0m     \u001B[38;5;66;03m# don't forget to call the superclass.\u001B[39;00m\n\u001B[0;32m    408\u001B[0m     \u001B[38;5;28msuper\u001B[39m()\u001B[38;5;241m.\u001B[39mdraw()\n",
      "File \u001B[1;32m~\\miniconda3\\lib\\site-packages\\matplotlib\\artist.py:74\u001B[0m, in \u001B[0;36m_finalize_rasterization.<locals>.draw_wrapper\u001B[1;34m(artist, renderer, *args, **kwargs)\u001B[0m\n\u001B[0;32m     72\u001B[0m \u001B[38;5;129m@wraps\u001B[39m(draw)\n\u001B[0;32m     73\u001B[0m \u001B[38;5;28;01mdef\u001B[39;00m \u001B[38;5;21mdraw_wrapper\u001B[39m(artist, renderer, \u001B[38;5;241m*\u001B[39margs, \u001B[38;5;241m*\u001B[39m\u001B[38;5;241m*\u001B[39mkwargs):\n\u001B[1;32m---> 74\u001B[0m     result \u001B[38;5;241m=\u001B[39m draw(artist, renderer, \u001B[38;5;241m*\u001B[39margs, \u001B[38;5;241m*\u001B[39m\u001B[38;5;241m*\u001B[39mkwargs)\n\u001B[0;32m     75\u001B[0m     \u001B[38;5;28;01mif\u001B[39;00m renderer\u001B[38;5;241m.\u001B[39m_rasterizing:\n\u001B[0;32m     76\u001B[0m         renderer\u001B[38;5;241m.\u001B[39mstop_rasterizing()\n",
      "File \u001B[1;32m~\\miniconda3\\lib\\site-packages\\matplotlib\\artist.py:51\u001B[0m, in \u001B[0;36mallow_rasterization.<locals>.draw_wrapper\u001B[1;34m(artist, renderer)\u001B[0m\n\u001B[0;32m     48\u001B[0m     \u001B[38;5;28;01mif\u001B[39;00m artist\u001B[38;5;241m.\u001B[39mget_agg_filter() \u001B[38;5;129;01mis\u001B[39;00m \u001B[38;5;129;01mnot\u001B[39;00m \u001B[38;5;28;01mNone\u001B[39;00m:\n\u001B[0;32m     49\u001B[0m         renderer\u001B[38;5;241m.\u001B[39mstart_filter()\n\u001B[1;32m---> 51\u001B[0m     \u001B[38;5;28;01mreturn\u001B[39;00m \u001B[43mdraw\u001B[49m\u001B[43m(\u001B[49m\u001B[43martist\u001B[49m\u001B[43m,\u001B[49m\u001B[43m \u001B[49m\u001B[43mrenderer\u001B[49m\u001B[43m)\u001B[49m\n\u001B[0;32m     52\u001B[0m \u001B[38;5;28;01mfinally\u001B[39;00m:\n\u001B[0;32m     53\u001B[0m     \u001B[38;5;28;01mif\u001B[39;00m artist\u001B[38;5;241m.\u001B[39mget_agg_filter() \u001B[38;5;129;01mis\u001B[39;00m \u001B[38;5;129;01mnot\u001B[39;00m \u001B[38;5;28;01mNone\u001B[39;00m:\n",
      "File \u001B[1;32m~\\miniconda3\\lib\\site-packages\\matplotlib\\figure.py:3071\u001B[0m, in \u001B[0;36mFigure.draw\u001B[1;34m(self, renderer)\u001B[0m\n\u001B[0;32m   3068\u001B[0m         \u001B[38;5;66;03m# ValueError can occur when resizing a window.\u001B[39;00m\n\u001B[0;32m   3070\u001B[0m \u001B[38;5;28mself\u001B[39m\u001B[38;5;241m.\u001B[39mpatch\u001B[38;5;241m.\u001B[39mdraw(renderer)\n\u001B[1;32m-> 3071\u001B[0m \u001B[43mmimage\u001B[49m\u001B[38;5;241;43m.\u001B[39;49m\u001B[43m_draw_list_compositing_images\u001B[49m\u001B[43m(\u001B[49m\n\u001B[0;32m   3072\u001B[0m \u001B[43m    \u001B[49m\u001B[43mrenderer\u001B[49m\u001B[43m,\u001B[49m\u001B[43m \u001B[49m\u001B[38;5;28;43mself\u001B[39;49m\u001B[43m,\u001B[49m\u001B[43m \u001B[49m\u001B[43martists\u001B[49m\u001B[43m,\u001B[49m\u001B[43m \u001B[49m\u001B[38;5;28;43mself\u001B[39;49m\u001B[38;5;241;43m.\u001B[39;49m\u001B[43msuppressComposite\u001B[49m\u001B[43m)\u001B[49m\n\u001B[0;32m   3074\u001B[0m \u001B[38;5;28;01mfor\u001B[39;00m sfig \u001B[38;5;129;01min\u001B[39;00m \u001B[38;5;28mself\u001B[39m\u001B[38;5;241m.\u001B[39msubfigs:\n\u001B[0;32m   3075\u001B[0m     sfig\u001B[38;5;241m.\u001B[39mdraw(renderer)\n",
      "File \u001B[1;32m~\\miniconda3\\lib\\site-packages\\matplotlib\\image.py:131\u001B[0m, in \u001B[0;36m_draw_list_compositing_images\u001B[1;34m(renderer, parent, artists, suppress_composite)\u001B[0m\n\u001B[0;32m    129\u001B[0m \u001B[38;5;28;01mif\u001B[39;00m not_composite \u001B[38;5;129;01mor\u001B[39;00m \u001B[38;5;129;01mnot\u001B[39;00m has_images:\n\u001B[0;32m    130\u001B[0m     \u001B[38;5;28;01mfor\u001B[39;00m a \u001B[38;5;129;01min\u001B[39;00m artists:\n\u001B[1;32m--> 131\u001B[0m         \u001B[43ma\u001B[49m\u001B[38;5;241;43m.\u001B[39;49m\u001B[43mdraw\u001B[49m\u001B[43m(\u001B[49m\u001B[43mrenderer\u001B[49m\u001B[43m)\u001B[49m\n\u001B[0;32m    132\u001B[0m \u001B[38;5;28;01melse\u001B[39;00m:\n\u001B[0;32m    133\u001B[0m     \u001B[38;5;66;03m# Composite any adjacent images together\u001B[39;00m\n\u001B[0;32m    134\u001B[0m     image_group \u001B[38;5;241m=\u001B[39m []\n",
      "File \u001B[1;32m~\\miniconda3\\lib\\site-packages\\matplotlib\\artist.py:51\u001B[0m, in \u001B[0;36mallow_rasterization.<locals>.draw_wrapper\u001B[1;34m(artist, renderer)\u001B[0m\n\u001B[0;32m     48\u001B[0m     \u001B[38;5;28;01mif\u001B[39;00m artist\u001B[38;5;241m.\u001B[39mget_agg_filter() \u001B[38;5;129;01mis\u001B[39;00m \u001B[38;5;129;01mnot\u001B[39;00m \u001B[38;5;28;01mNone\u001B[39;00m:\n\u001B[0;32m     49\u001B[0m         renderer\u001B[38;5;241m.\u001B[39mstart_filter()\n\u001B[1;32m---> 51\u001B[0m     \u001B[38;5;28;01mreturn\u001B[39;00m \u001B[43mdraw\u001B[49m\u001B[43m(\u001B[49m\u001B[43martist\u001B[49m\u001B[43m,\u001B[49m\u001B[43m \u001B[49m\u001B[43mrenderer\u001B[49m\u001B[43m)\u001B[49m\n\u001B[0;32m     52\u001B[0m \u001B[38;5;28;01mfinally\u001B[39;00m:\n\u001B[0;32m     53\u001B[0m     \u001B[38;5;28;01mif\u001B[39;00m artist\u001B[38;5;241m.\u001B[39mget_agg_filter() \u001B[38;5;129;01mis\u001B[39;00m \u001B[38;5;129;01mnot\u001B[39;00m \u001B[38;5;28;01mNone\u001B[39;00m:\n",
      "File \u001B[1;32m~\\miniconda3\\lib\\site-packages\\matplotlib\\axes\\_base.py:3107\u001B[0m, in \u001B[0;36m_AxesBase.draw\u001B[1;34m(self, renderer)\u001B[0m\n\u001B[0;32m   3104\u001B[0m         a\u001B[38;5;241m.\u001B[39mdraw(renderer)\n\u001B[0;32m   3105\u001B[0m     renderer\u001B[38;5;241m.\u001B[39mstop_rasterizing()\n\u001B[1;32m-> 3107\u001B[0m \u001B[43mmimage\u001B[49m\u001B[38;5;241;43m.\u001B[39;49m\u001B[43m_draw_list_compositing_images\u001B[49m\u001B[43m(\u001B[49m\n\u001B[0;32m   3108\u001B[0m \u001B[43m    \u001B[49m\u001B[43mrenderer\u001B[49m\u001B[43m,\u001B[49m\u001B[43m \u001B[49m\u001B[38;5;28;43mself\u001B[39;49m\u001B[43m,\u001B[49m\u001B[43m \u001B[49m\u001B[43martists\u001B[49m\u001B[43m,\u001B[49m\u001B[43m \u001B[49m\u001B[38;5;28;43mself\u001B[39;49m\u001B[38;5;241;43m.\u001B[39;49m\u001B[43mfigure\u001B[49m\u001B[38;5;241;43m.\u001B[39;49m\u001B[43msuppressComposite\u001B[49m\u001B[43m)\u001B[49m\n\u001B[0;32m   3110\u001B[0m renderer\u001B[38;5;241m.\u001B[39mclose_group(\u001B[38;5;124m'\u001B[39m\u001B[38;5;124maxes\u001B[39m\u001B[38;5;124m'\u001B[39m)\n\u001B[0;32m   3111\u001B[0m \u001B[38;5;28mself\u001B[39m\u001B[38;5;241m.\u001B[39mstale \u001B[38;5;241m=\u001B[39m \u001B[38;5;28;01mFalse\u001B[39;00m\n",
      "File \u001B[1;32m~\\miniconda3\\lib\\site-packages\\matplotlib\\image.py:131\u001B[0m, in \u001B[0;36m_draw_list_compositing_images\u001B[1;34m(renderer, parent, artists, suppress_composite)\u001B[0m\n\u001B[0;32m    129\u001B[0m \u001B[38;5;28;01mif\u001B[39;00m not_composite \u001B[38;5;129;01mor\u001B[39;00m \u001B[38;5;129;01mnot\u001B[39;00m has_images:\n\u001B[0;32m    130\u001B[0m     \u001B[38;5;28;01mfor\u001B[39;00m a \u001B[38;5;129;01min\u001B[39;00m artists:\n\u001B[1;32m--> 131\u001B[0m         \u001B[43ma\u001B[49m\u001B[38;5;241;43m.\u001B[39;49m\u001B[43mdraw\u001B[49m\u001B[43m(\u001B[49m\u001B[43mrenderer\u001B[49m\u001B[43m)\u001B[49m\n\u001B[0;32m    132\u001B[0m \u001B[38;5;28;01melse\u001B[39;00m:\n\u001B[0;32m    133\u001B[0m     \u001B[38;5;66;03m# Composite any adjacent images together\u001B[39;00m\n\u001B[0;32m    134\u001B[0m     image_group \u001B[38;5;241m=\u001B[39m []\n",
      "File \u001B[1;32m~\\miniconda3\\lib\\site-packages\\matplotlib\\artist.py:51\u001B[0m, in \u001B[0;36mallow_rasterization.<locals>.draw_wrapper\u001B[1;34m(artist, renderer)\u001B[0m\n\u001B[0;32m     48\u001B[0m     \u001B[38;5;28;01mif\u001B[39;00m artist\u001B[38;5;241m.\u001B[39mget_agg_filter() \u001B[38;5;129;01mis\u001B[39;00m \u001B[38;5;129;01mnot\u001B[39;00m \u001B[38;5;28;01mNone\u001B[39;00m:\n\u001B[0;32m     49\u001B[0m         renderer\u001B[38;5;241m.\u001B[39mstart_filter()\n\u001B[1;32m---> 51\u001B[0m     \u001B[38;5;28;01mreturn\u001B[39;00m \u001B[43mdraw\u001B[49m\u001B[43m(\u001B[49m\u001B[43martist\u001B[49m\u001B[43m,\u001B[49m\u001B[43m \u001B[49m\u001B[43mrenderer\u001B[49m\u001B[43m)\u001B[49m\n\u001B[0;32m     52\u001B[0m \u001B[38;5;28;01mfinally\u001B[39;00m:\n\u001B[0;32m     53\u001B[0m     \u001B[38;5;28;01mif\u001B[39;00m artist\u001B[38;5;241m.\u001B[39mget_agg_filter() \u001B[38;5;129;01mis\u001B[39;00m \u001B[38;5;129;01mnot\u001B[39;00m \u001B[38;5;28;01mNone\u001B[39;00m:\n",
      "File \u001B[1;32m~\\miniconda3\\lib\\site-packages\\matplotlib\\patches.py:588\u001B[0m, in \u001B[0;36mPatch.draw\u001B[1;34m(self, renderer)\u001B[0m\n\u001B[0;32m    586\u001B[0m transform \u001B[38;5;241m=\u001B[39m \u001B[38;5;28mself\u001B[39m\u001B[38;5;241m.\u001B[39mget_transform()\n\u001B[0;32m    587\u001B[0m tpath \u001B[38;5;241m=\u001B[39m transform\u001B[38;5;241m.\u001B[39mtransform_path_non_affine(path)\n\u001B[1;32m--> 588\u001B[0m affine \u001B[38;5;241m=\u001B[39m \u001B[43mtransform\u001B[49m\u001B[38;5;241;43m.\u001B[39;49m\u001B[43mget_affine\u001B[49m\u001B[43m(\u001B[49m\u001B[43m)\u001B[49m\n\u001B[0;32m    589\u001B[0m \u001B[38;5;28mself\u001B[39m\u001B[38;5;241m.\u001B[39m_draw_paths_with_artist_properties(\n\u001B[0;32m    590\u001B[0m     renderer,\n\u001B[0;32m    591\u001B[0m     [(tpath, affine,\n\u001B[1;32m   (...)\u001B[0m\n\u001B[0;32m    594\u001B[0m       \u001B[38;5;66;03m# transparent, but do if it is None.\u001B[39;00m\n\u001B[0;32m    595\u001B[0m       \u001B[38;5;28mself\u001B[39m\u001B[38;5;241m.\u001B[39m_facecolor \u001B[38;5;28;01mif\u001B[39;00m \u001B[38;5;28mself\u001B[39m\u001B[38;5;241m.\u001B[39m_facecolor[\u001B[38;5;241m3\u001B[39m] \u001B[38;5;28;01melse\u001B[39;00m \u001B[38;5;28;01mNone\u001B[39;00m)])\n",
      "File \u001B[1;32m~\\miniconda3\\lib\\site-packages\\matplotlib\\transforms.py:2446\u001B[0m, in \u001B[0;36mCompositeGenericTransform.get_affine\u001B[1;34m(self)\u001B[0m\n\u001B[0;32m   2444\u001B[0m     \u001B[38;5;28;01mreturn\u001B[39;00m \u001B[38;5;28mself\u001B[39m\u001B[38;5;241m.\u001B[39m_b\u001B[38;5;241m.\u001B[39mget_affine()\n\u001B[0;32m   2445\u001B[0m \u001B[38;5;28;01melse\u001B[39;00m:\n\u001B[1;32m-> 2446\u001B[0m     \u001B[38;5;28;01mreturn\u001B[39;00m Affine2D(np\u001B[38;5;241m.\u001B[39mdot(\u001B[38;5;28;43mself\u001B[39;49m\u001B[38;5;241;43m.\u001B[39;49m\u001B[43m_b\u001B[49m\u001B[38;5;241;43m.\u001B[39;49m\u001B[43mget_affine\u001B[49m\u001B[43m(\u001B[49m\u001B[43m)\u001B[49m\u001B[38;5;241m.\u001B[39mget_matrix(),\n\u001B[0;32m   2447\u001B[0m                            \u001B[38;5;28mself\u001B[39m\u001B[38;5;241m.\u001B[39m_a\u001B[38;5;241m.\u001B[39mget_affine()\u001B[38;5;241m.\u001B[39mget_matrix()))\n",
      "File \u001B[1;32m~\\miniconda3\\lib\\site-packages\\matplotlib\\transforms.py:2446\u001B[0m, in \u001B[0;36mCompositeGenericTransform.get_affine\u001B[1;34m(self)\u001B[0m\n\u001B[0;32m   2444\u001B[0m     \u001B[38;5;28;01mreturn\u001B[39;00m \u001B[38;5;28mself\u001B[39m\u001B[38;5;241m.\u001B[39m_b\u001B[38;5;241m.\u001B[39mget_affine()\n\u001B[0;32m   2445\u001B[0m \u001B[38;5;28;01melse\u001B[39;00m:\n\u001B[1;32m-> 2446\u001B[0m     \u001B[38;5;28;01mreturn\u001B[39;00m Affine2D(np\u001B[38;5;241m.\u001B[39mdot(\u001B[38;5;28;43mself\u001B[39;49m\u001B[38;5;241;43m.\u001B[39;49m\u001B[43m_b\u001B[49m\u001B[38;5;241;43m.\u001B[39;49m\u001B[43mget_affine\u001B[49m\u001B[43m(\u001B[49m\u001B[43m)\u001B[49m\u001B[38;5;241m.\u001B[39mget_matrix(),\n\u001B[0;32m   2447\u001B[0m                            \u001B[38;5;28mself\u001B[39m\u001B[38;5;241m.\u001B[39m_a\u001B[38;5;241m.\u001B[39mget_affine()\u001B[38;5;241m.\u001B[39mget_matrix()))\n",
      "File \u001B[1;32m~\\miniconda3\\lib\\site-packages\\matplotlib\\transforms.py:2446\u001B[0m, in \u001B[0;36mCompositeGenericTransform.get_affine\u001B[1;34m(self)\u001B[0m\n\u001B[0;32m   2444\u001B[0m     \u001B[38;5;28;01mreturn\u001B[39;00m \u001B[38;5;28mself\u001B[39m\u001B[38;5;241m.\u001B[39m_b\u001B[38;5;241m.\u001B[39mget_affine()\n\u001B[0;32m   2445\u001B[0m \u001B[38;5;28;01melse\u001B[39;00m:\n\u001B[1;32m-> 2446\u001B[0m     \u001B[38;5;28;01mreturn\u001B[39;00m \u001B[43mAffine2D\u001B[49m\u001B[43m(\u001B[49m\u001B[43mnp\u001B[49m\u001B[38;5;241;43m.\u001B[39;49m\u001B[43mdot\u001B[49m\u001B[43m(\u001B[49m\u001B[38;5;28;43mself\u001B[39;49m\u001B[38;5;241;43m.\u001B[39;49m\u001B[43m_b\u001B[49m\u001B[38;5;241;43m.\u001B[39;49m\u001B[43mget_affine\u001B[49m\u001B[43m(\u001B[49m\u001B[43m)\u001B[49m\u001B[38;5;241;43m.\u001B[39;49m\u001B[43mget_matrix\u001B[49m\u001B[43m(\u001B[49m\u001B[43m)\u001B[49m\u001B[43m,\u001B[49m\n\u001B[0;32m   2447\u001B[0m \u001B[43m                           \u001B[49m\u001B[38;5;28;43mself\u001B[39;49m\u001B[38;5;241;43m.\u001B[39;49m\u001B[43m_a\u001B[49m\u001B[38;5;241;43m.\u001B[39;49m\u001B[43mget_affine\u001B[49m\u001B[43m(\u001B[49m\u001B[43m)\u001B[49m\u001B[38;5;241;43m.\u001B[39;49m\u001B[43mget_matrix\u001B[49m\u001B[43m(\u001B[49m\u001B[43m)\u001B[49m\u001B[43m)\u001B[49m\u001B[43m)\u001B[49m\n",
      "File \u001B[1;32m~\\miniconda3\\lib\\site-packages\\matplotlib\\transforms.py:1900\u001B[0m, in \u001B[0;36mAffine2D.__init__\u001B[1;34m(self, matrix, **kwargs)\u001B[0m\n\u001B[0;32m   1897\u001B[0m \u001B[38;5;28;01mif\u001B[39;00m matrix \u001B[38;5;129;01mis\u001B[39;00m \u001B[38;5;28;01mNone\u001B[39;00m:\n\u001B[0;32m   1898\u001B[0m     \u001B[38;5;66;03m# A bit faster than np.identity(3).\u001B[39;00m\n\u001B[0;32m   1899\u001B[0m     matrix \u001B[38;5;241m=\u001B[39m IdentityTransform\u001B[38;5;241m.\u001B[39m_mtx\u001B[38;5;241m.\u001B[39mcopy()\n\u001B[1;32m-> 1900\u001B[0m \u001B[38;5;28mself\u001B[39m\u001B[38;5;241m.\u001B[39m_mtx \u001B[38;5;241m=\u001B[39m \u001B[43mmatrix\u001B[49m\u001B[38;5;241;43m.\u001B[39;49m\u001B[43mcopy\u001B[49m\u001B[43m(\u001B[49m\u001B[43m)\u001B[49m\n\u001B[0;32m   1901\u001B[0m \u001B[38;5;28mself\u001B[39m\u001B[38;5;241m.\u001B[39m_invalid \u001B[38;5;241m=\u001B[39m \u001B[38;5;241m0\u001B[39m\n",
      "\u001B[1;31mKeyboardInterrupt\u001B[0m: "
     ]
    },
    {
     "data": {
      "text/plain": "<Figure size 500x500 with 1 Axes>",
      "image/png": "[encoded data removed]"
     },
     "metadata": {},
     "output_type": "display_data"
    }
   ],
   "source": [
    "sns.displot([len(v) for v in groups], kde=True, rug=True);"
   ],
   "metadata": {
    "collapsed": false,
    "ExecuteTime": {
     "end_time": "2023-06-06T22:19:39.386425500Z",
     "start_time": "2023-06-06T22:19:17.693331900Z"
    }
   }
  },
  {
   "cell_type": "code",
   "execution_count": null,
   "outputs": [],
   "source": [],
   "metadata": {
    "collapsed": false
   }
  },
  {
   "cell_type": "code",
   "execution_count": null,
   "outputs": [],
   "source": [],
   "metadata": {
    "collapsed": false
   }
  },
  {
   "cell_type": "code",
   "execution_count": null,
   "outputs": [],
   "source": [],
   "metadata": {
    "collapsed": false
   }
  },
  {
   "cell_type": "code",
   "execution_count": 14,
   "outputs": [],
   "source": [
    "import numpy as np\n",
    "import matplotlib.pyplot as plt\n",
    "import seaborn as sns\n",
    "sns.set(style=\"ticks\", context=\"talk\")\n",
    "plt.style.use(\"dark_background\")"
   ],
   "metadata": {
    "collapsed": false,
    "ExecuteTime": {
     "end_time": "2023-06-06T21:55:54.008412Z",
     "start_time": "2023-06-06T21:55:53.981409200Z"
    }
   }
  },
  {
   "cell_type": "code",
   "execution_count": 16,
   "outputs": [],
   "source": [
    "# sns.displot([len(v) for k, v in graph.items()], kde=True, rug=True);"
   ],
   "metadata": {
    "collapsed": false,
    "ExecuteTime": {
     "end_time": "2023-06-06T21:56:14.686116300Z",
     "start_time": "2023-06-06T21:56:14.654121900Z"
    }
   }
  },
  {
   "cell_type": "code",
   "execution_count": 128,
   "outputs": [],
   "source": [
    "def gen_edges(start):\n",
    "\tedges = {}\n",
    "\tfor edge in graph[start]:\n",
    "\t\tedges.setdefault(edge[0], []).append(edge)\n",
    "\treturn edges"
   ],
   "metadata": {
    "collapsed": false,
    "ExecuteTime": {
     "end_time": "2023-06-06T16:42:58.139607286Z",
     "start_time": "2023-06-06T16:42:58.135685093Z"
    }
   }
  },
  {
   "cell_type": "code",
   "execution_count": 133,
   "outputs": [
    {
     "name": "stdout",
     "output_type": "stream",
     "text": [
      "/c/en/stopping_standing_in\n",
      "relation            term2                          weight\n",
      "------------------  ---------------------------  --------\n",
      "/r/Causes           /c/en/drip_across_rug               1\n",
      "/r/Causes           /c/en/foul_odor                     1\n",
      "/r/Causes           /c/en/gets_dry                      1\n",
      "/r/Causes           /c/en/getting_hit_by_car            1\n",
      "/r/Causes           /c/en/getting_out_of                1\n",
      "/r/Causes           /c/en/jump                          1\n",
      "/r/Causes           /c/en/jumping_out                   1\n",
      "/r/Causes           /c/en/laying_in                     1\n",
      "/r/Causes           /c/en/move_away_from                1\n",
      "/r/Causes           /c/en/move_out                      1\n",
      "/r/Causes           /c/en/movement                      1\n",
      "/r/Causes           /c/en/shoes_to_get_wet              1\n",
      "/r/Causes           /c/en/stopping_being_wet_by         1\n",
      "/r/Causes           /c/en/walking_out_of                1\n",
      "/r/HasPrerequisite  /c/en/moving                        1\n",
      "/r/HasSubevent      /c/en/move                          1\n",
      "/r/HasSubevent      /c/en/moving                        1\n",
      "/r/UsedFor          /c/en/common_sense                  1\n",
      "/r/UsedFor          /c/en/getting_out_of                1\n"
     ]
    }
   ],
   "source": [
    "start = random.choice(list(graph.keys()))\n",
    "\n",
    "print(start)\n",
    "\n",
    "print(tabulate([[row[0], row[2], row[3]] for row in graph[start]], headers=['relation', 'term2', 'weight']))\n",
    "\n",
    "\n",
    "# edges = gen_edges(start)\n",
    "# options = [[rel, '\\n'.join(row[2] for row in rows)] for rel, rows in edges.items()]\n",
    "# print(tabulate(options, headers=['relation', 'term2']))"
   ],
   "metadata": {
    "collapsed": false,
    "ExecuteTime": {
     "end_time": "2023-06-06T16:44:49.179464554Z",
     "start_time": "2023-06-06T16:44:49.171633351Z"
    }
   }
  },
  {
   "cell_type": "code",
   "execution_count": 136,
   "outputs": [],
   "source": [
    "import sys"
   ],
   "metadata": {
    "collapsed": false,
    "ExecuteTime": {
     "end_time": "2023-06-06T16:48:05.014688512Z",
     "start_time": "2023-06-06T16:48:05.008979467Z"
    }
   }
  },
  {
   "cell_type": "code",
   "execution_count": 167,
   "outputs": [
    {
     "name": "stdout",
     "output_type": "stream",
     "text": [
      "term1           relation        term2            weight\n",
      "--------------  --------------  -------------  --------\n",
      "/c/en/calmness  /r/DerivedFrom  /c/en/calm        1\n",
      "/c/en/calm      /r/RelatedTo    /c/en/emotion     0.667\n",
      "/c/en/emotion   /r/RelatedTo    /c/en/sad         0.102\n",
      "/c/en/sad       /r/HasSubevent  /c/en/cry         2.828\n",
      "/c/en/cry       /r/RelatedTo    /c/en/display     0.112\n"
     ]
    }
   ],
   "source": [
    "fuel = 5\n",
    "\n",
    "links = []\n",
    "\n",
    "start = random.choice(list(graph.keys()))\n",
    "current = start\n",
    "for _ in range(fuel+1):\n",
    "\tif current in graph:\n",
    "\t\tlinks.append(random.choice(graph[current]))\n",
    "\t\tcurrent = links[-1][2]\n",
    "\n",
    "print(tabulate([[row[1], row[0], row[2], row[3]] for row in links], headers=['term1', 'relation', 'term2', 'weight']))"
   ],
   "metadata": {
    "collapsed": false,
    "ExecuteTime": {
     "end_time": "2023-06-06T17:31:09.599664189Z",
     "start_time": "2023-06-06T17:31:09.588630019Z"
    }
   }
  },
  {
   "cell_type": "code",
   "execution_count": 166,
   "outputs": [
    {
     "data": {
      "text/plain": "[['/r/Causes', '/c/en/getting', '/c/en/aquisition', '1.0'],\n ['/r/Causes', '/c/en/getting', '/c/en/being_happy', '1.0'],\n ['/r/Causes', '/c/en/getting', '/c/en/death', '1.0'],\n ['/r/Causes', '/c/en/getting', '/c/en/disappointment', '1.0'],\n ['/r/Causes', '/c/en/getting', '/c/en/feeling_indebted', '1.0'],\n ['/r/Causes', '/c/en/getting', '/c/en/get', '1.0'],\n ['/r/Causes', '/c/en/getting', '/c/en/gratitude', '1.0'],\n ['/r/Causes', '/c/en/getting', '/c/en/have_new_thing', '1.0'],\n ['/r/Causes', '/c/en/getting', '/c/en/having', '2.0'],\n ['/r/Causes', '/c/en/getting', '/c/en/having_in_hand', '1.0'],\n ['/r/Causes', '/c/en/getting', '/c/en/having_to_take_care_of', '1.0'],\n ['/r/Causes', '/c/en/getting', '/c/en/headaches', '1.0'],\n ['/r/Causes', '/c/en/getting', '/c/en/illness', '1.0'],\n ['/r/Causes', '/c/en/getting', '/c/en/joy', '1.0'],\n ['/r/Causes', '/c/en/getting', '/c/en/let_down', '1.0'],\n ['/r/Causes', '/c/en/getting', '/c/en/losing', '1.0'],\n ['/r/Causes', '/c/en/getting', '/c/en/making_sure_actually_need', '1.0'],\n ['/r/Causes', '/c/en/getting', '/c/en/new_realization', '1.0'],\n ['/r/Causes', '/c/en/getting', '/c/en/not_want_anymore', '1.0'],\n ['/r/Causes', '/c/en/getting', '/c/en/ownership', '1.0'],\n ['/r/Causes', '/c/en/getting', '/c/en/receiving', '1.0'],\n ['/r/Causes', '/c/en/getting', '/c/en/satisfaction', '2.828'],\n ['/r/Causes', '/c/en/getting', '/c/en/saying_thankyou', '1.0'],\n ['/r/Causes', '/c/en/getting', '/c/en/then_have', '1.0'],\n ['/r/Causes', '/c/en/getting', '/c/en/wanting_more', '1.0'],\n ['/r/HasPrerequisite', '/c/en/getting', '/c/en/action', '1.0'],\n ['/r/HasPrerequisite', '/c/en/getting', '/c/en/energy', '1.0'],\n ['/r/HasPrerequisite', '/c/en/getting', '/c/en/giving', '2.0'],\n ['/r/HasPrerequisite', '/c/en/getting', '/c/en/losing', '1.0'],\n ['/r/HasPrerequisite', '/c/en/getting', '/c/en/money', '1.0'],\n ['/r/HasPrerequisite', '/c/en/getting', '/c/en/work', '1.0'],\n ['/r/HasSubevent', '/c/en/getting', '/c/en/being_sick', '1.0'],\n ['/r/HasSubevent', '/c/en/getting', '/c/en/enjoy', '1.0'],\n ['/r/HasSubevent', '/c/en/getting', '/c/en/envy', '1.0'],\n ['/r/HasSubevent', '/c/en/getting', '/c/en/get_up', '1.0'],\n ['/r/HasSubevent', '/c/en/getting', '/c/en/going_to_store', '2.0'],\n ['/r/HasSubevent', '/c/en/getting', '/c/en/have_sex', '1.0'],\n ['/r/HasSubevent', '/c/en/getting', '/c/en/having', '1.0'],\n ['/r/HasSubevent', '/c/en/getting', '/c/en/say_thank', '2.0'],\n ['/r/HasSubevent', '/c/en/getting', '/c/en/smile', '2.0'],\n ['/r/HasSubevent', '/c/en/getting', '/c/en/spend_money', '1.0'],\n ['/r/UsedFor', '/c/en/getting', '/c/en/having', '1.0']]"
     },
     "execution_count": 166,
     "metadata": {},
     "output_type": "execute_result"
    }
   ],
   "source": [
    "graph['/c/en/getting']"
   ],
   "metadata": {
    "collapsed": false,
    "ExecuteTime": {
     "end_time": "2023-06-06T17:28:33.413254202Z",
     "start_time": "2023-06-06T17:28:33.410398909Z"
    }
   }
  },
  {
   "cell_type": "code",
   "execution_count": null,
   "outputs": [],
   "source": [],
   "metadata": {
    "collapsed": false
   }
  },
  {
   "cell_type": "code",
   "execution_count": null,
   "outputs": [],
   "source": [],
   "metadata": {
    "collapsed": false
   }
  },
  {
   "cell_type": "code",
   "execution_count": null,
   "outputs": [],
   "source": [],
   "metadata": {
    "collapsed": false
   }
  }
 ],
 "metadata": {
  "kernelspec": {
   "display_name": "Python 3",
   "language": "python",
   "name": "python3"
  },
  "language_info": {
   "codemirror_mode": {
    "name": "ipython",
    "version": 2
   },
   "file_extension": ".py",
   "mimetype": "text/x-python",
   "name": "python",
   "nbconvert_exporter": "python",
   "pygments_lexer": "ipython2",
   "version": "2.7.6"
  }
 },
 "nbformat": 4,
 "nbformat_minor": 0
}
