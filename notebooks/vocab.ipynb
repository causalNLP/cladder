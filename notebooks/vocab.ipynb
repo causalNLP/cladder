{
 "cells": [
  {
   "cell_type": "code",
   "execution_count": 1,
   "metadata": {
    "collapsed": true,
    "ExecuteTime": {
     "end_time": "2023-08-03T16:58:03.909893539Z",
     "start_time": "2023-08-03T16:58:03.681456553Z"
    }
   },
   "outputs": [],
   "source": [
    "\n",
    "from pathlib import Path\n",
    "import numpy as np\n",
    "import random\n",
    "from collections import Counter\n",
    "from omnibelt import load_json\n"
   ]
  },
  {
   "cell_type": "code",
   "execution_count": 3,
   "outputs": [
    {
     "data": {
      "text/plain": "(10112, 7064)"
     },
     "execution_count": 3,
     "metadata": {},
     "output_type": "execute_result"
    }
   ],
   "source": [
    "\n",
    "root = Path('../data/backup')\n",
    "path = root / 'cladder-v1-q-aggregate.json'\n",
    "path = root / 'cladder-v1-q-commonsense.json'\n",
    "path = root / 'cladder-v1-q-balanced.json'\n",
    "# path = '../data/cladder-v1-common-easy.json'\n",
    "full = load_json(path)\n",
    "full_ids = {entry['question_id']: entry for entry in full}\n",
    "models = load_json(root / 'cladder-v1-meta-models.json')\n",
    "model_table = {info['model_id']: info for info in models}\n",
    "len(full), len(models)"
   ],
   "metadata": {
    "collapsed": false,
    "ExecuteTime": {
     "end_time": "2023-08-03T16:58:53.066581260Z",
     "start_time": "2023-08-03T16:58:52.809809106Z"
    }
   }
  },
  {
   "cell_type": "code",
   "execution_count": 4,
   "outputs": [],
   "source": [
    "# models[1]"
   ],
   "metadata": {
    "collapsed": false,
    "ExecuteTime": {
     "end_time": "2023-08-03T16:58:54.658618880Z",
     "start_time": "2023-08-03T16:58:54.647771829Z"
    }
   }
  },
  {
   "cell_type": "code",
   "execution_count": 37,
   "outputs": [
    {
     "data": {
      "text/plain": "{'question_id': 21241,\n 'desc_id': 'obesity_mortality-arrowhead-backadj-model4576-spec12-q1',\n 'given_info': 'Method 1: We look directly at how obesity correlates with lifespan in general. Method 2: We look at this correlation case by case according to diabetes.',\n 'question': 'To understand how obesity affects lifespan, is it more correct to use the Method 1 than Method 2?',\n 'answer': 'yes',\n 'meta': {'story_id': 'obesity_mortality',\n  'graph_id': 'arrowhead',\n  'flipped': False,\n  'polarity': True,\n  'groundtruth': [],\n  'bad_candidate_set': ['V3'],\n  'given_info': [[], ['V3']],\n  'query_type': 'backadj',\n  'rung': 2,\n  'formal_form': '[backdoor adjustment set for Y given X]',\n  'treatment': 'X',\n  'outcome': 'Y',\n  'model_id': 4576},\n 'reasoning': None}"
     },
     "execution_count": 37,
     "metadata": {},
     "output_type": "execute_result"
    }
   ],
   "source": [
    "full[8003]"
   ],
   "metadata": {
    "collapsed": false,
    "ExecuteTime": {
     "end_time": "2023-08-03T14:51:31.974708808Z",
     "start_time": "2023-08-03T14:51:31.963961480Z"
    }
   }
  },
  {
   "cell_type": "code",
   "execution_count": 5,
   "outputs": [
    {
     "data": {
      "text/plain": "dict_keys([3, 2, 1])"
     },
     "execution_count": 5,
     "metadata": {},
     "output_type": "execute_result"
    }
   ],
   "source": [
    "key = 'rung'\n",
    "vocabs = {}\n",
    "for entry in full:\n",
    "\tvocabs.setdefault(entry['meta'][key], []).extend(entry['question'].split())\n",
    "\tvocabs.setdefault(entry['meta'][key], []).extend(entry['given_info'].split())\n",
    "\tmodel = models[entry['meta']['model_id']]\n",
    "\tvocabs.setdefault(entry['meta'][key], []).extend(model['background'].split())\n",
    "def _cleanup(w):\n",
    "\tw = w.lower()\n",
    "\tw = w.replace('?', '').replace('.', '').replace(',', '').replace('\\'', '').replace('\\\"', '').replace('%', '').replace(':', '')\n",
    "\t# check if it's a number\n",
    "\ttry:\n",
    "\t\tfloat(w)\n",
    "\t\treturn 'NUM'\n",
    "\texcept:\n",
    "\t\tpass\n",
    "\treturn w\n",
    "vocabs = {k: [_cleanup(w) for w in v] for k, v in vocabs.items()}\n",
    "vocabs = {k: Counter(v) for k, v in vocabs.items()}\n",
    "vocabs.keys()"
   ],
   "metadata": {
    "collapsed": false,
    "ExecuteTime": {
     "end_time": "2023-08-03T16:59:00.382950472Z",
     "start_time": "2023-08-03T16:58:59.542326127Z"
    }
   }
  },
  {
   "cell_type": "code",
   "execution_count": 6,
   "outputs": [],
   "source": [
    "# vocabs"
   ],
   "metadata": {
    "collapsed": false,
    "ExecuteTime": {
     "end_time": "2023-08-03T16:59:02.010356094Z",
     "start_time": "2023-08-03T16:59:02.008277739Z"
    }
   }
  },
  {
   "cell_type": "code",
   "execution_count": 7,
   "outputs": [
    {
     "data": {
      "text/plain": "{3: 479, 2: 400, 1: 405}"
     },
     "execution_count": 7,
     "metadata": {},
     "output_type": "execute_result"
    }
   ],
   "source": [
    "{k: len(v) for k, v in vocabs.items()}"
   ],
   "metadata": {
    "collapsed": false,
    "ExecuteTime": {
     "end_time": "2023-08-03T16:59:02.425924046Z",
     "start_time": "2023-08-03T16:59:02.418059001Z"
    }
   }
  },
  {
   "cell_type": "code",
   "execution_count": 8,
   "outputs": [
    {
     "name": "stdout",
     "output_type": "stream",
     "text": [
      "[8538, 7664, 4252, 2618, 5170, 4094, 7925, 3067, 4819, 5899, 9182, 5103, 2849, 7642, 6252, 2533, 9199, 9937, 8192, 9122, 3136, 7380, 9089, 6916, 4774, 1018, 4390, 6177, 9232, 9774, 4823, 8750, 2634, 8140, 5548, 141, 7277, 4032, 8340, 6756, 11, 4991, 8773, 2466, 3288, 8802, 1932, 5738, 2412, 9783]\n"
     ]
    }
   ],
   "source": [
    "random.seed(0)\n",
    "indices = random.choices(list(range(len(full))), k=50)\n",
    "print(indices)\n",
    "assert len(set(indices)) == len(indices)"
   ],
   "metadata": {
    "collapsed": false,
    "ExecuteTime": {
     "end_time": "2023-08-03T16:59:05.876788746Z",
     "start_time": "2023-08-03T16:59:05.867450756Z"
    }
   }
  },
  {
   "cell_type": "code",
   "execution_count": 9,
   "outputs": [
    {
     "name": "stdout",
     "output_type": "stream",
     "text": [
      "0\n",
      "no\n",
      "\n",
      "1\n",
      "yes\n",
      "\n",
      "2\n",
      "yes\n",
      "\n",
      "3\n",
      "yes\n",
      "\n",
      "4\n",
      "yes\n",
      "\n",
      "5\n",
      "yes\n",
      "\n",
      "6\n",
      "no\n",
      "\n",
      "7\n",
      "yes\n",
      "\n",
      "8\n",
      "no\n",
      "\n",
      "9\n",
      "no\n",
      "\n",
      "10\n",
      "yes\n",
      "\n",
      "11\n",
      "no\n",
      "\n",
      "12\n",
      "no\n",
      "\n",
      "13\n",
      "yes\n",
      "\n",
      "14\n",
      "no\n",
      "\n",
      "15\n",
      "yes\n",
      "\n",
      "16\n",
      "yes\n",
      "\n",
      "17\n",
      "yes\n",
      "\n",
      "18\n",
      "no\n",
      "\n",
      "19\n",
      "no\n",
      "\n",
      "20\n",
      "no\n",
      "\n",
      "21\n",
      "no\n",
      "\n",
      "22\n",
      "yes\n",
      "\n",
      "23\n",
      "no\n",
      "\n",
      "24\n",
      "no\n",
      "\n",
      "25\n",
      "yes\n",
      "\n",
      "26\n",
      "no\n",
      "\n",
      "27\n",
      "no\n",
      "\n",
      "28\n",
      "no\n",
      "\n",
      "29\n",
      "no\n",
      "\n",
      "30\n",
      "no\n",
      "\n",
      "31\n",
      "no\n",
      "\n",
      "32\n",
      "yes\n",
      "\n",
      "33\n",
      "yes\n",
      "\n",
      "34\n",
      "yes\n",
      "\n",
      "35\n",
      "yes\n",
      "\n",
      "36\n",
      "no\n",
      "\n",
      "37\n",
      "yes\n",
      "\n",
      "38\n",
      "yes\n",
      "\n",
      "39\n",
      "yes\n",
      "\n",
      "40\n",
      "no\n",
      "\n",
      "41\n",
      "yes\n",
      "\n",
      "42\n",
      "no\n",
      "\n",
      "43\n",
      "no\n",
      "\n",
      "44\n",
      "no\n",
      "\n",
      "45\n",
      "no\n",
      "\n",
      "46\n",
      "yes\n",
      "\n",
      "47\n",
      "yes\n",
      "\n",
      "48\n",
      "no\n",
      "\n",
      "49\n",
      "yes\n",
      "\n"
     ]
    }
   ],
   "source": [
    "for i, ind in enumerate(indices):\n",
    "\tentry = full[ind]\n",
    "\tmodel = models[entry['meta']['model_id']]\n",
    "\tprint(i)\n",
    "\t# print(model['background'])\n",
    "\t# print(entry['given_info'])\n",
    "\t# print(entry['question'])\n",
    "\tprint(entry['answer'])\n",
    "\tprint()"
   ],
   "metadata": {
    "collapsed": false,
    "ExecuteTime": {
     "end_time": "2023-08-03T16:59:12.048927363Z",
     "start_time": "2023-08-03T16:59:12.042257347Z"
    }
   }
  },
  {
   "cell_type": "code",
   "execution_count": 10,
   "outputs": [
    {
     "data": {
      "text/plain": "0.37994462025316456"
     },
     "execution_count": 10,
     "metadata": {},
     "output_type": "execute_result"
    }
   ],
   "source": [
    "len([e for e in full if e['desc_id'].startswith('nonse')])/len(full)"
   ],
   "metadata": {
    "collapsed": false,
    "ExecuteTime": {
     "end_time": "2023-08-03T16:59:12.558347367Z",
     "start_time": "2023-08-03T16:59:12.553962223Z"
    }
   }
  },
  {
   "cell_type": "code",
   "execution_count": null,
   "outputs": [],
   "source": [],
   "metadata": {
    "collapsed": false
   }
  },
  {
   "cell_type": "code",
   "execution_count": null,
   "outputs": [],
   "source": [],
   "metadata": {
    "collapsed": false
   }
  }
 ],
 "metadata": {
  "kernelspec": {
   "display_name": "Python 3",
   "language": "python",
   "name": "python3"
  },
  "language_info": {
   "codemirror_mode": {
    "name": "ipython",
    "version": 2
   },
   "file_extension": ".py",
   "mimetype": "text/x-python",
   "name": "python",
   "nbconvert_exporter": "python",
   "pygments_lexer": "ipython2",
   "version": "2.7.6"
  }
 },
 "nbformat": 4,
 "nbformat_minor": 0
}
