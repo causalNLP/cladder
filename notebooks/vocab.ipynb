{
 "cells": [
  {
   "cell_type": "code",
   "execution_count": 11,
   "metadata": {
    "collapsed": true,
    "ExecuteTime": {
     "end_time": "2023-08-03T14:36:33.856848260Z",
     "start_time": "2023-08-03T14:36:33.854751845Z"
    }
   },
   "outputs": [],
   "source": [
    "\n",
    "from pathlib import Path\n",
    "import numpy as np\n",
    "import random\n",
    "from collections import Counter\n",
    "from omnibelt import load_json\n"
   ]
  },
  {
   "cell_type": "code",
   "execution_count": 36,
   "outputs": [
    {
     "data": {
      "text/plain": "(10392, 7064)"
     },
     "execution_count": 36,
     "metadata": {},
     "output_type": "execute_result"
    }
   ],
   "source": [
    "\n",
    "path = '../data/cladder-v1/cladder-v1-q-aggregate.json'\n",
    "path = '../data/cladder-v1/cladder-v1-q-commonsense.json'\n",
    "# path = '../data/cladder-v1-common-easy.json'\n",
    "full = load_json(path)\n",
    "full_ids = {entry['question_id']: entry for entry in full}\n",
    "models = load_json('../data/cladder-v1/cladder-v1-meta-models.json')\n",
    "model_table = {info['model_id']: info for info in models}\n",
    "len(full), len(models)"
   ],
   "metadata": {
    "collapsed": false,
    "ExecuteTime": {
     "end_time": "2023-08-03T14:51:29.632688532Z",
     "start_time": "2023-08-03T14:51:29.054829193Z"
    }
   }
  },
  {
   "cell_type": "code",
   "execution_count": 9,
   "outputs": [],
   "source": [
    "# models[1]"
   ],
   "metadata": {
    "collapsed": false,
    "ExecuteTime": {
     "end_time": "2023-08-03T14:36:09.873227647Z",
     "start_time": "2023-08-03T14:36:09.831503490Z"
    }
   }
  },
  {
   "cell_type": "code",
   "execution_count": 37,
   "outputs": [
    {
     "data": {
      "text/plain": "{'question_id': 21241,\n 'desc_id': 'obesity_mortality-arrowhead-backadj-model4576-spec12-q1',\n 'given_info': 'Method 1: We look directly at how obesity correlates with lifespan in general. Method 2: We look at this correlation case by case according to diabetes.',\n 'question': 'To understand how obesity affects lifespan, is it more correct to use the Method 1 than Method 2?',\n 'answer': 'yes',\n 'meta': {'story_id': 'obesity_mortality',\n  'graph_id': 'arrowhead',\n  'flipped': False,\n  'polarity': True,\n  'groundtruth': [],\n  'bad_candidate_set': ['V3'],\n  'given_info': [[], ['V3']],\n  'query_type': 'backadj',\n  'rung': 2,\n  'formal_form': '[backdoor adjustment set for Y given X]',\n  'treatment': 'X',\n  'outcome': 'Y',\n  'model_id': 4576},\n 'reasoning': None}"
     },
     "execution_count": 37,
     "metadata": {},
     "output_type": "execute_result"
    }
   ],
   "source": [
    "full[8003]"
   ],
   "metadata": {
    "collapsed": false,
    "ExecuteTime": {
     "end_time": "2023-08-03T14:51:31.974708808Z",
     "start_time": "2023-08-03T14:51:31.963961480Z"
    }
   }
  },
  {
   "cell_type": "code",
   "execution_count": 38,
   "outputs": [
    {
     "data": {
      "text/plain": "dict_keys([2, 3, 1])"
     },
     "execution_count": 38,
     "metadata": {},
     "output_type": "execute_result"
    }
   ],
   "source": [
    "key = 'rung'\n",
    "vocabs = {}\n",
    "for entry in full:\n",
    "\tvocabs.setdefault(entry['meta'][key], []).extend(entry['question'].split())\n",
    "\tvocabs.setdefault(entry['meta'][key], []).extend(entry['given_info'].split())\n",
    "\tmodel = models[entry['meta']['model_id']]\n",
    "\tvocabs.setdefault(entry['meta'][key], []).extend(model['background'].split())\n",
    "def _cleanup(w):\n",
    "\tw = w.lower()\n",
    "\tw = w.replace('?', '').replace('.', '').replace(',', '').replace('\\'', '').replace('\\\"', '').replace('%', '').replace(':', '')\n",
    "\t# check if it's a number\n",
    "\ttry:\n",
    "\t\tfloat(w)\n",
    "\t\treturn 'NUM'\n",
    "\texcept:\n",
    "\t\tpass\n",
    "\treturn w\n",
    "vocabs = {k: [_cleanup(w) for w in v] for k, v in vocabs.items()}\n",
    "vocabs = {k: Counter(v) for k, v in vocabs.items()}\n",
    "vocabs.keys()"
   ],
   "metadata": {
    "collapsed": false,
    "ExecuteTime": {
     "end_time": "2023-08-03T14:51:36.142410625Z",
     "start_time": "2023-08-03T14:51:35.253425385Z"
    }
   }
  },
  {
   "cell_type": "code",
   "execution_count": 40,
   "outputs": [],
   "source": [
    "# vocabs"
   ],
   "metadata": {
    "collapsed": false,
    "ExecuteTime": {
     "end_time": "2023-08-03T14:51:38.204306685Z",
     "start_time": "2023-08-03T14:51:38.202164957Z"
    }
   }
  },
  {
   "cell_type": "code",
   "execution_count": 41,
   "outputs": [
    {
     "data": {
      "text/plain": "{2: 314, 3: 387, 1: 315}"
     },
     "execution_count": 41,
     "metadata": {},
     "output_type": "execute_result"
    }
   ],
   "source": [
    "{k: len(v) for k, v in vocabs.items()}"
   ],
   "metadata": {
    "collapsed": false,
    "ExecuteTime": {
     "end_time": "2023-08-03T14:51:38.794342671Z",
     "start_time": "2023-08-03T14:51:38.792226966Z"
    }
   }
  },
  {
   "cell_type": "code",
   "execution_count": 47,
   "outputs": [
    {
     "name": "stdout",
     "output_type": "stream",
     "text": [
      "[8775, 7876, 4370, 2690, 5313, 4208, 8145, 3152, 4952, 6062, 9437, 5244, 2928, 7854, 6426, 2603, 9454, 10213, 8419, 9375, 3223, 7584, 9340, 7107, 4906, 1046, 4511, 6348, 9488, 10044, 4957, 8992, 2707, 8365, 5702, 145, 7479, 4144, 8571, 6943, 11, 5129, 9016, 2534, 3379, 9045, 1985, 5897, 2479, 10054]\n"
     ]
    }
   ],
   "source": [
    "random.seed(0)\n",
    "indices = random.choices(list(range(len(full))), k=50)\n",
    "print(indices)\n",
    "assert len(set(indices)) == len(indices)"
   ],
   "metadata": {
    "collapsed": false,
    "ExecuteTime": {
     "end_time": "2023-08-03T14:52:44.911911993Z",
     "start_time": "2023-08-03T14:52:44.875470065Z"
    }
   }
  },
  {
   "cell_type": "code",
   "execution_count": 48,
   "outputs": [
    {
     "name": "stdout",
     "output_type": "stream",
     "text": [
      "0\n",
      "no\n",
      "\n",
      "1\n",
      "yes\n",
      "\n",
      "2\n",
      "no\n",
      "\n",
      "3\n",
      "yes\n",
      "\n",
      "4\n",
      "yes\n",
      "\n",
      "5\n",
      "no\n",
      "\n",
      "6\n",
      "no\n",
      "\n",
      "7\n",
      "no\n",
      "\n",
      "8\n",
      "yes\n",
      "\n",
      "9\n",
      "yes\n",
      "\n",
      "10\n",
      "no\n",
      "\n",
      "11\n",
      "no\n",
      "\n",
      "12\n",
      "yes\n",
      "\n",
      "13\n",
      "no\n",
      "\n",
      "14\n",
      "no\n",
      "\n",
      "15\n",
      "no\n",
      "\n",
      "16\n",
      "yes\n",
      "\n",
      "17\n",
      "yes\n",
      "\n",
      "18\n",
      "no\n",
      "\n",
      "19\n",
      "no\n",
      "\n",
      "20\n",
      "no\n",
      "\n",
      "21\n",
      "no\n",
      "\n",
      "22\n",
      "yes\n",
      "\n",
      "23\n",
      "yes\n",
      "\n",
      "24\n",
      "yes\n",
      "\n",
      "25\n",
      "no\n",
      "\n",
      "26\n",
      "yes\n",
      "\n",
      "27\n",
      "yes\n",
      "\n",
      "28\n",
      "no\n",
      "\n",
      "29\n",
      "no\n",
      "\n",
      "30\n",
      "yes\n",
      "\n",
      "31\n",
      "no\n",
      "\n",
      "32\n",
      "no\n",
      "\n",
      "33\n",
      "yes\n",
      "\n",
      "34\n",
      "yes\n",
      "\n",
      "35\n",
      "no\n",
      "\n",
      "36\n",
      "yes\n",
      "\n",
      "37\n",
      "no\n",
      "\n",
      "38\n",
      "yes\n",
      "\n",
      "39\n",
      "yes\n",
      "\n",
      "40\n",
      "no\n",
      "\n",
      "41\n",
      "yes\n",
      "\n",
      "42\n",
      "yes\n",
      "\n",
      "43\n",
      "no\n",
      "\n",
      "44\n",
      "yes\n",
      "\n",
      "45\n",
      "yes\n",
      "\n",
      "46\n",
      "yes\n",
      "\n",
      "47\n",
      "no\n",
      "\n",
      "48\n",
      "no\n",
      "\n",
      "49\n",
      "no\n",
      "\n"
     ]
    }
   ],
   "source": [
    "for i, ind in enumerate(indices):\n",
    "\tentry = full[ind]\n",
    "\tmodel = models[entry['meta']['model_id']]\n",
    "\tprint(i)\n",
    "\t# print(model['background'])\n",
    "\t# print(entry['given_info'])\n",
    "\t# print(entry['question'])\n",
    "\tprint(entry['answer'])\n",
    "\tprint()"
   ],
   "metadata": {
    "collapsed": false,
    "ExecuteTime": {
     "end_time": "2023-08-03T14:53:47.378835412Z",
     "start_time": "2023-08-03T14:53:47.361537939Z"
    }
   }
  },
  {
   "cell_type": "code",
   "execution_count": 35,
   "outputs": [
    {
     "data": {
      "text/plain": "0.7272727272727273"
     },
     "execution_count": 35,
     "metadata": {},
     "output_type": "execute_result"
    }
   ],
   "source": [
    "len([e for e in full if e['desc_id'].startswith('nonse')])/len(full)"
   ],
   "metadata": {
    "collapsed": false,
    "ExecuteTime": {
     "end_time": "2023-08-03T14:50:27.891888811Z",
     "start_time": "2023-08-03T14:50:27.878912315Z"
    }
   }
  },
  {
   "cell_type": "code",
   "execution_count": null,
   "outputs": [],
   "source": [],
   "metadata": {
    "collapsed": false
   }
  },
  {
   "cell_type": "code",
   "execution_count": null,
   "outputs": [],
   "source": [],
   "metadata": {
    "collapsed": false
   }
  }
 ],
 "metadata": {
  "kernelspec": {
   "display_name": "Python 3",
   "language": "python",
   "name": "python3"
  },
  "language_info": {
   "codemirror_mode": {
    "name": "ipython",
    "version": 2
   },
   "file_extension": ".py",
   "mimetype": "text/x-python",
   "name": "python",
   "nbconvert_exporter": "python",
   "pygments_lexer": "ipython2",
   "version": "2.7.6"
  }
 },
 "nbformat": 4,
 "nbformat_minor": 0
}
