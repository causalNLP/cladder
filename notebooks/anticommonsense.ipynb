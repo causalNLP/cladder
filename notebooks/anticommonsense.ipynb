{
 "cells": [
  {
   "cell_type": "code",
   "execution_count": 12,
   "metadata": {
    "collapsed": true
   },
   "outputs": [],
   "source": [
    "import sys, os\n",
    "from pathlib import Path\n",
    "if '_cwd' not in globals():\n",
    "\tos.chdir(Path.cwd().parent)\n",
    "\t_cwd = Path.cwd()\n",
    "from tqdm.notebook import tqdm\n",
    "import numpy as np\n",
    "import omnifig as fig\n",
    "from causalbenchmark import util\n",
    "fig.initialize();"
   ]
  },
  {
   "cell_type": "code",
   "execution_count": 13,
   "outputs": [
    {
     "name": "stdout",
     "output_type": "stream",
     "text": [
      "['celebrity', 'cholesterol', 'college_salary', 'college_wage', 'elite_students', 'encouagement_program', 'gender_admission', 'gender_admission_state', 'gender_pay', 'hospitalization', 'man_in_relationship', 'nature_vs_nurture', 'neg_mediation', 'obesity_mortality', 'orange_scurvy', 'price', 'simpson_blood_pressure', 'simpson_drug', 'simpson_hospital', 'simpson_kidneystone', 'smoke_birthWeight', 'smoking_frontdoor', 'smoking_gene_cancer', 'smoking_tar_cancer', 'tax_smoke_birthWeight', 'water_cholera']\n"
     ]
    },
    {
     "data": {
      "text/plain": "26"
     },
     "execution_count": 13,
     "metadata": {},
     "output_type": "execute_result"
    }
   ],
   "source": [
    "config = fig.create_config('new')\n",
    "story_ids = config.pull('stories', silent=True)\n",
    "print(story_ids)\n",
    "len(story_ids)"
   ],
   "metadata": {
    "collapsed": false
   }
  },
  {
   "cell_type": "code",
   "execution_count": 14,
   "outputs": [
    {
     "data": {
      "text/plain": "  0%|          | 0/26 [00:00<?, ?it/s]",
      "application/vnd.jupyter.widget-view+json": {
       "version_major": 2,
       "version_minor": 0,
       "model_id": "28ae7e3fc4ba41a3aee6c9762be4610e"
      }
     },
     "metadata": {},
     "output_type": "display_data"
    },
    {
     "data": {
      "text/plain": "26"
     },
     "execution_count": 14,
     "metadata": {},
     "output_type": "execute_result"
    }
   ],
   "source": [
    "stories = [util.load_story_config(s) for s in tqdm(story_ids)]\n",
    "len(stories)"
   ],
   "metadata": {
    "collapsed": false
   }
  },
  {
   "cell_type": "code",
   "execution_count": 15,
   "outputs": [
    {
     "name": "stdout",
     "output_type": "stream",
     "text": [
      "dict_keys(['Source', 'W0_noun', 'W0_sentence', 'W0_wherepartial', 'W0_wheresentence', 'W1_noun', 'W1_sentence', 'W1_wherepartial', 'W1_wheresentence', 'Wname', 'X0_noun', 'X0_sentence', 'X0_sentence_condition', 'X0_wherepartial', 'X0_wheresentence', 'X1_noun', 'X1_sentence', 'X1_sentence_condition', 'X1_wherepartial', 'X1_wheresentence', 'Xname', 'Xsubject', 'Y0_noun', 'Y0_sentence', 'Y0_wherepartial', 'Y0_wheresentence', 'Y1_noun', 'Y1_sentence', 'Y1_wherepartial', 'Y1_wheresentence', 'Yname', 'Ysubject', 'Z0_noun', 'Z0_sentence', 'Z0_wherepartial', 'Z0_wheresentence', 'Z1_noun', 'Z1_sentence', 'Z1_wherepartial', 'Z1_wheresentence', 'Zname', 'Zsubject', 'causal_graph_type', 'easy', 'hard', 'params', 'phenomenon', 'queries', 'scm', 'semantic_graph (by topological order)', 'source', 'story_id', 'structural_equation', 'variable_correspondence', 'V30_noun', 'V30_sentence', 'V30_wherepartial', 'V30_wheresentence', 'V31_noun', 'V31_sentence', 'V31_wherepartial', 'V31_wheresentence', 'V3name', 'V3subject'])\n"
     ]
    }
   ],
   "source": [
    "story = stories[0]\n",
    "print(story.keys())"
   ],
   "metadata": {
    "collapsed": false
   }
  },
  {
   "cell_type": "code",
   "execution_count": 18,
   "outputs": [
    {
     "name": "stdout",
     "output_type": "stream",
     "text": [
      "[]\n"
     ]
    }
   ],
   "source": [
    "missing = [story['story_id'] for story in stories if 'Xsubject' not in story or 'Ysubject' not in story]\n",
    "print(missing)"
   ],
   "metadata": {
    "collapsed": false
   }
  },
  {
   "cell_type": "code",
   "execution_count": 54,
   "outputs": [
    {
     "data": {
      "text/plain": "{'person': ['celebrity',\n  'college_salary',\n  'college_wage',\n  'hospitalization',\n  'man_in_relationship',\n  'obesity_mortality',\n  'simpson_blood_pressure',\n  'smoking_frontdoor',\n  'smoking_gene_cancer',\n  'smoking_tar_cancer',\n  'water_cholera'],\n 'patient': ['cholesterol',\n  'orange_scurvy',\n  'simpson_drug',\n  'simpson_hospital',\n  'simpson_kidneystone'],\n 'student': ['elite_students', 'encouagement_program', 'neg_mediation'],\n 'individual': ['gender_admission', 'gender_admission_state', 'gender_pay'],\n 'child': ['nature_vs_nurture'],\n 'situation': ['price'],\n 'infant': ['smoke_birthWeight', 'tax_smoke_birthWeight']}"
     },
     "execution_count": 54,
     "metadata": {},
     "output_type": "execute_result"
    }
   ],
   "source": [
    "# Xsubjects = [story.get('Xsubject', 'individual') for story in stories]\n",
    "Xsubjects = {}\n",
    "for story in stories:\n",
    "\tXsubjects.setdefault(story.get('Xsubject', 'individual'), []).append(story['story_id'])\n",
    "Xsubjects"
   ],
   "metadata": {
    "collapsed": false
   }
  },
  {
   "cell_type": "code",
   "execution_count": 27,
   "outputs": [
    {
     "data": {
      "text/plain": "{'person': ['celebrity',\n  'hospitalization',\n  'man_in_relationship',\n  'obesity_mortality',\n  'simpson_blood_pressure',\n  'smoking_frontdoor',\n  'smoking_gene_cancer',\n  'smoking_tar_cancer',\n  'water_cholera'],\n 'patient': ['cholesterol',\n  'orange_scurvy',\n  'simpson_drug',\n  'simpson_hospital',\n  'simpson_kidneystone'],\n 'employee': ['college_salary', 'college_wage', 'gender_pay'],\n 'student': ['elite_students', 'encouagement_program', 'neg_mediation'],\n 'applicant': ['gender_admission', 'gender_admission_state'],\n 'child': ['nature_vs_nurture'],\n 'situation': ['price'],\n 'infant': ['smoke_birthWeight', 'tax_smoke_birthWeight']}"
     },
     "execution_count": 27,
     "metadata": {},
     "output_type": "execute_result"
    }
   ],
   "source": [
    "# Ysubjects = [story.get('Ysubject', 'individual') for story in stories]\n",
    "Ysubjects = {}\n",
    "for story in stories:\n",
    "\tYsubjects.setdefault(story.get('Ysubject', 'individual'), []).append(story['story_id'])\n",
    "Ysubjects"
   ],
   "metadata": {
    "collapsed": false
   }
  },
  {
   "cell_type": "code",
   "execution_count": 23,
   "outputs": [],
   "source": [
    "Ygroups = {\n",
    "\t'pro': ['employee', 'student', 'applicant'],\n",
    "\t'medical': ['patient'],\n",
    "\t'child': ['child', 'infant'],\n",
    "\t'situation': ['situation'],\n",
    "\t'individual': ['individual', 'person'],\n",
    "}"
   ],
   "metadata": {
    "collapsed": false
   }
  },
  {
   "cell_type": "code",
   "execution_count": 29,
   "outputs": [],
   "source": [
    "# # Xpeople = ['bike riding ability', 'can swim', 'wears braces', 'drinks coffee', 'likes sushi', 'plays board games', 'speaks spanish', 'has visited England', 'reads mystery books', 'enjoys the cinema', 'has a brother', 'has a twin', 'likes jazz', 'has a pet', 'likes spicy food', 'wears shorts']\n",
    "# Xpeople = ['can swim', 'drinks coffee', 'likes pizza', 'plays video games', 'speaks spanish', 'has visited England', 'does yoga often', 'has a brother', 'has a twin', 'likes jazz', 'has a pet', 'likes spicy food']\n",
    "# Ypeople = ['curly hair', 'foot size', 'brown eyes', 'lactose intolerance', 'freckles', 'black hair', 'lip thickness', 'is allergic to peanuts']\n",
    "\n",
    "Xoptions = {\n",
    "\t'individual': ['plays card games', 'speaks english', 'drinks coffee', 'has visited England', 'has a brother', 'has a sister', 'listens to jazz', 'likes spicy food'],\n",
    "\t'pro': ['is vegetarian', 'can swim', 'drinks coffee', 'has visited England', 'has a brother', 'listens to jazz', 'likes spicy food'],\n",
    "\t'child': ['has a brother', 'has a sister', 'likes spicy food'],\n",
    "\t'medical': ['has a brother', 'has a sister', 'is religious', 'can swim', 'speaks english', 'plays card games'],\n",
    "\t'situation': ['full moon', 'solar eclipse'],\n",
    "}\n",
    "\n",
    "Yoptions = {\n",
    "\t'individual': ['curly hair', 'foot size', 'brown eyes', 'lactose intolerance', 'freckles', 'black hair', 'lip thickness', 'is allergic to peanuts'],\n",
    "\t'pro': ['curly hair', 'foot size', 'brown eyes', 'lactose intolerance', 'freckles', 'black hair', 'lip thickness', 'is allergic to peanuts'],\n",
    "\t'child': ['brown eyes', 'lactose intolerance', 'freckles', 'black hair', 'lip thickness', 'is allergic to peanuts'],\n",
    "\t'medical': ['curly hair', 'foot size', 'brown eyes', 'lactose intolerance', 'freckles', 'black hair', 'lip thickness', 'is allergic to peanuts'],\n",
    "\t'situation': ['rainfall', 'earthquakes'],\n",
    "}\n"
   ],
   "metadata": {
    "collapsed": false
   }
  },
  {
   "cell_type": "code",
   "execution_count": 61,
   "outputs": [],
   "source": [
    "sub2group = {v: k for k,v in Ygroups.items() for v in v}\n",
    "Xvars = {s: Xoptions[sub2group[s]].copy() for s in Xsubjects}\n",
    "Yvars = {s: Yoptions[sub2group[s]].copy() for s in Ysubjects}"
   ],
   "metadata": {
    "collapsed": false
   }
  },
  {
   "cell_type": "code",
   "execution_count": 58,
   "outputs": [],
   "source": [
    "import yaml"
   ],
   "metadata": {
    "collapsed": false
   }
  },
  {
   "cell_type": "code",
   "execution_count": 64,
   "outputs": [
    {
     "name": "stdout",
     "output_type": "stream",
     "text": [
      "applicant:\n",
      "- curly hair\n",
      "- foot size\n",
      "- brown eyes\n",
      "- lactose intolerance\n",
      "- freckles\n",
      "- black hair\n",
      "- lip thickness\n",
      "- is allergic to peanuts\n",
      "child:\n",
      "- brown eyes\n",
      "- lactose intolerance\n",
      "- freckles\n",
      "- black hair\n",
      "- lip thickness\n",
      "- is allergic to peanuts\n",
      "employee:\n",
      "- curly hair\n",
      "- foot size\n",
      "- brown eyes\n",
      "- lactose intolerance\n",
      "- freckles\n",
      "- black hair\n",
      "- lip thickness\n",
      "- is allergic to peanuts\n",
      "infant:\n",
      "- brown eyes\n",
      "- lactose intolerance\n",
      "- freckles\n",
      "- black hair\n",
      "- lip thickness\n",
      "- is allergic to peanuts\n",
      "patient:\n",
      "- curly hair\n",
      "- foot size\n",
      "- brown eyes\n",
      "- lactose intolerance\n",
      "- freckles\n",
      "- black hair\n",
      "- lip thickness\n",
      "- is allergic to peanuts\n",
      "person:\n",
      "- curly hair\n",
      "- foot size\n",
      "- brown eyes\n",
      "- lactose intolerance\n",
      "- freckles\n",
      "- black hair\n",
      "- lip thickness\n",
      "- is allergic to peanuts\n",
      "situation:\n",
      "- rainfall\n",
      "- earthquakes\n",
      "- full moon\n",
      "student:\n",
      "- curly hair\n",
      "- foot size\n",
      "- brown eyes\n",
      "- lactose intolerance\n",
      "- freckles\n",
      "- black hair\n",
      "- lip thickness\n",
      "- is allergic to peanuts\n",
      "\n"
     ]
    }
   ],
   "source": [
    "print(yaml.dump(Yvars))"
   ],
   "metadata": {
    "collapsed": false
   }
  },
  {
   "cell_type": "code",
   "execution_count": 77,
   "outputs": [],
   "source": [
    "py = {\n",
    "\t'variables': {\n",
    "\t\t'X': {\n",
    "\t\t\t'has visited England': {\n",
    "\t\t\t\t'X0_noun': 'not having visited England',\n",
    "\t\t\t\t'X0_wheresentence': '{plural} who have not visited England',\n",
    "\t\t\t}\n",
    "\t\t}\n",
    "\t}\n",
    "}"
   ],
   "metadata": {
    "collapsed": false
   }
  },
  {
   "cell_type": "code",
   "execution_count": 78,
   "outputs": [
    {
     "name": "stdout",
     "output_type": "stream",
     "text": [
      "variables:\n",
      "  X:\n",
      "    has visited England:\n",
      "      X0_noun: not having visited England\n",
      "      X0_wheresentence: '{plural} who have not visited England'\n",
      "\n"
     ]
    }
   ],
   "source": [
    "print(yaml.dump(py))"
   ],
   "metadata": {
    "collapsed": false
   }
  },
  {
   "cell_type": "code",
   "execution_count": 75,
   "outputs": [],
   "source": [
    "raw = '''\n",
    "variables:\n",
    "  X:\n",
    "    has visited England:\n",
    "      \"X0_noun\": not having visited England\n",
    "      X0_sentence: the {subject} has not visited England\n",
    "      X0_sentence_condition: if the {subject} had not visited England instead of visiting England\n",
    "      X0_wherepartial: have not visited England\n",
    "      X0_wheresentence: {plural} who have not visited England\n",
    "      X1_noun: having visited England\n",
    "      X1_sentence: the {subject} has visited England\n",
    "      X1_sentence_condition: if the {subject} had visited England instead of not visiting England\n",
    "      X1_wherepartial: have visited England\n",
    "      X1_wheresentence: {plural} who have visited England\n",
    "      Xname: having visited England\n",
    "\n",
    "'''"
   ],
   "metadata": {
    "collapsed": false
   }
  },
  {
   "cell_type": "code",
   "execution_count": 76,
   "outputs": [
    {
     "ename": "ParserError",
     "evalue": "while parsing a block mapping\n  in \"<unicode string>\", line 5, column 7:\n          \"X0_noun\": not having visited En ... \n          ^\nexpected <block end>, but found '<scalar>'\n  in \"<unicode string>\", line 9, column 34:\n          X0_wheresentence: {plural} who have not visited England\n                                     ^",
     "output_type": "error",
     "traceback": [
      "\u001B[0;31m---------------------------------------------------------------------------\u001B[0m",
      "\u001B[0;31mParserError\u001B[0m                               Traceback (most recent call last)",
      "\u001B[0;32m/tmp/ipykernel_8505/3347841863.py\u001B[0m in \u001B[0;36m<module>\u001B[0;34m\u001B[0m\n\u001B[0;32m----> 1\u001B[0;31m \u001B[0myaml\u001B[0m\u001B[0;34m.\u001B[0m\u001B[0mload\u001B[0m\u001B[0;34m(\u001B[0m\u001B[0mraw\u001B[0m\u001B[0;34m,\u001B[0m \u001B[0mLoader\u001B[0m\u001B[0;34m=\u001B[0m\u001B[0myaml\u001B[0m\u001B[0;34m.\u001B[0m\u001B[0mSafeLoader\u001B[0m\u001B[0;34m)\u001B[0m\u001B[0;34m\u001B[0m\u001B[0;34m\u001B[0m\u001B[0m\n\u001B[0m",
      "\u001B[0;32m~/miniconda3/lib/python3.8/site-packages/yaml/__init__.py\u001B[0m in \u001B[0;36mload\u001B[0;34m(stream, Loader)\u001B[0m\n\u001B[1;32m     79\u001B[0m     \u001B[0mloader\u001B[0m \u001B[0;34m=\u001B[0m \u001B[0mLoader\u001B[0m\u001B[0;34m(\u001B[0m\u001B[0mstream\u001B[0m\u001B[0;34m)\u001B[0m\u001B[0;34m\u001B[0m\u001B[0;34m\u001B[0m\u001B[0m\n\u001B[1;32m     80\u001B[0m     \u001B[0;32mtry\u001B[0m\u001B[0;34m:\u001B[0m\u001B[0;34m\u001B[0m\u001B[0;34m\u001B[0m\u001B[0m\n\u001B[0;32m---> 81\u001B[0;31m         \u001B[0;32mreturn\u001B[0m \u001B[0mloader\u001B[0m\u001B[0;34m.\u001B[0m\u001B[0mget_single_data\u001B[0m\u001B[0;34m(\u001B[0m\u001B[0;34m)\u001B[0m\u001B[0;34m\u001B[0m\u001B[0;34m\u001B[0m\u001B[0m\n\u001B[0m\u001B[1;32m     82\u001B[0m     \u001B[0;32mfinally\u001B[0m\u001B[0;34m:\u001B[0m\u001B[0;34m\u001B[0m\u001B[0;34m\u001B[0m\u001B[0m\n\u001B[1;32m     83\u001B[0m         \u001B[0mloader\u001B[0m\u001B[0;34m.\u001B[0m\u001B[0mdispose\u001B[0m\u001B[0;34m(\u001B[0m\u001B[0;34m)\u001B[0m\u001B[0;34m\u001B[0m\u001B[0;34m\u001B[0m\u001B[0m\n",
      "\u001B[0;32m~/miniconda3/lib/python3.8/site-packages/yaml/constructor.py\u001B[0m in \u001B[0;36mget_single_data\u001B[0;34m(self)\u001B[0m\n\u001B[1;32m     47\u001B[0m     \u001B[0;32mdef\u001B[0m \u001B[0mget_single_data\u001B[0m\u001B[0;34m(\u001B[0m\u001B[0mself\u001B[0m\u001B[0;34m)\u001B[0m\u001B[0;34m:\u001B[0m\u001B[0;34m\u001B[0m\u001B[0;34m\u001B[0m\u001B[0m\n\u001B[1;32m     48\u001B[0m         \u001B[0;31m# Ensure that the stream contains a single document and construct it.\u001B[0m\u001B[0;34m\u001B[0m\u001B[0;34m\u001B[0m\u001B[0;34m\u001B[0m\u001B[0m\n\u001B[0;32m---> 49\u001B[0;31m         \u001B[0mnode\u001B[0m \u001B[0;34m=\u001B[0m \u001B[0mself\u001B[0m\u001B[0;34m.\u001B[0m\u001B[0mget_single_node\u001B[0m\u001B[0;34m(\u001B[0m\u001B[0;34m)\u001B[0m\u001B[0;34m\u001B[0m\u001B[0;34m\u001B[0m\u001B[0m\n\u001B[0m\u001B[1;32m     50\u001B[0m         \u001B[0;32mif\u001B[0m \u001B[0mnode\u001B[0m \u001B[0;32mis\u001B[0m \u001B[0;32mnot\u001B[0m \u001B[0;32mNone\u001B[0m\u001B[0;34m:\u001B[0m\u001B[0;34m\u001B[0m\u001B[0;34m\u001B[0m\u001B[0m\n\u001B[1;32m     51\u001B[0m             \u001B[0;32mreturn\u001B[0m \u001B[0mself\u001B[0m\u001B[0;34m.\u001B[0m\u001B[0mconstruct_document\u001B[0m\u001B[0;34m(\u001B[0m\u001B[0mnode\u001B[0m\u001B[0;34m)\u001B[0m\u001B[0;34m\u001B[0m\u001B[0;34m\u001B[0m\u001B[0m\n",
      "\u001B[0;32m~/miniconda3/lib/python3.8/site-packages/yaml/composer.py\u001B[0m in \u001B[0;36mget_single_node\u001B[0;34m(self)\u001B[0m\n\u001B[1;32m     34\u001B[0m         \u001B[0mdocument\u001B[0m \u001B[0;34m=\u001B[0m \u001B[0;32mNone\u001B[0m\u001B[0;34m\u001B[0m\u001B[0;34m\u001B[0m\u001B[0m\n\u001B[1;32m     35\u001B[0m         \u001B[0;32mif\u001B[0m \u001B[0;32mnot\u001B[0m \u001B[0mself\u001B[0m\u001B[0;34m.\u001B[0m\u001B[0mcheck_event\u001B[0m\u001B[0;34m(\u001B[0m\u001B[0mStreamEndEvent\u001B[0m\u001B[0;34m)\u001B[0m\u001B[0;34m:\u001B[0m\u001B[0;34m\u001B[0m\u001B[0;34m\u001B[0m\u001B[0m\n\u001B[0;32m---> 36\u001B[0;31m             \u001B[0mdocument\u001B[0m \u001B[0;34m=\u001B[0m \u001B[0mself\u001B[0m\u001B[0;34m.\u001B[0m\u001B[0mcompose_document\u001B[0m\u001B[0;34m(\u001B[0m\u001B[0;34m)\u001B[0m\u001B[0;34m\u001B[0m\u001B[0;34m\u001B[0m\u001B[0m\n\u001B[0m\u001B[1;32m     37\u001B[0m \u001B[0;34m\u001B[0m\u001B[0m\n\u001B[1;32m     38\u001B[0m         \u001B[0;31m# Ensure that the stream contains no more documents.\u001B[0m\u001B[0;34m\u001B[0m\u001B[0;34m\u001B[0m\u001B[0;34m\u001B[0m\u001B[0m\n",
      "\u001B[0;32m~/miniconda3/lib/python3.8/site-packages/yaml/composer.py\u001B[0m in \u001B[0;36mcompose_document\u001B[0;34m(self)\u001B[0m\n\u001B[1;32m     53\u001B[0m \u001B[0;34m\u001B[0m\u001B[0m\n\u001B[1;32m     54\u001B[0m         \u001B[0;31m# Compose the root node.\u001B[0m\u001B[0;34m\u001B[0m\u001B[0;34m\u001B[0m\u001B[0;34m\u001B[0m\u001B[0m\n\u001B[0;32m---> 55\u001B[0;31m         \u001B[0mnode\u001B[0m \u001B[0;34m=\u001B[0m \u001B[0mself\u001B[0m\u001B[0;34m.\u001B[0m\u001B[0mcompose_node\u001B[0m\u001B[0;34m(\u001B[0m\u001B[0;32mNone\u001B[0m\u001B[0;34m,\u001B[0m \u001B[0;32mNone\u001B[0m\u001B[0;34m)\u001B[0m\u001B[0;34m\u001B[0m\u001B[0;34m\u001B[0m\u001B[0m\n\u001B[0m\u001B[1;32m     56\u001B[0m \u001B[0;34m\u001B[0m\u001B[0m\n\u001B[1;32m     57\u001B[0m         \u001B[0;31m# Drop the DOCUMENT-END event.\u001B[0m\u001B[0;34m\u001B[0m\u001B[0;34m\u001B[0m\u001B[0;34m\u001B[0m\u001B[0m\n",
      "\u001B[0;32m~/miniconda3/lib/python3.8/site-packages/yaml/composer.py\u001B[0m in \u001B[0;36mcompose_node\u001B[0;34m(self, parent, index)\u001B[0m\n\u001B[1;32m     82\u001B[0m             \u001B[0mnode\u001B[0m \u001B[0;34m=\u001B[0m \u001B[0mself\u001B[0m\u001B[0;34m.\u001B[0m\u001B[0mcompose_sequence_node\u001B[0m\u001B[0;34m(\u001B[0m\u001B[0manchor\u001B[0m\u001B[0;34m)\u001B[0m\u001B[0;34m\u001B[0m\u001B[0;34m\u001B[0m\u001B[0m\n\u001B[1;32m     83\u001B[0m         \u001B[0;32melif\u001B[0m \u001B[0mself\u001B[0m\u001B[0;34m.\u001B[0m\u001B[0mcheck_event\u001B[0m\u001B[0;34m(\u001B[0m\u001B[0mMappingStartEvent\u001B[0m\u001B[0;34m)\u001B[0m\u001B[0;34m:\u001B[0m\u001B[0;34m\u001B[0m\u001B[0;34m\u001B[0m\u001B[0m\n\u001B[0;32m---> 84\u001B[0;31m             \u001B[0mnode\u001B[0m \u001B[0;34m=\u001B[0m \u001B[0mself\u001B[0m\u001B[0;34m.\u001B[0m\u001B[0mcompose_mapping_node\u001B[0m\u001B[0;34m(\u001B[0m\u001B[0manchor\u001B[0m\u001B[0;34m)\u001B[0m\u001B[0;34m\u001B[0m\u001B[0;34m\u001B[0m\u001B[0m\n\u001B[0m\u001B[1;32m     85\u001B[0m         \u001B[0mself\u001B[0m\u001B[0;34m.\u001B[0m\u001B[0mascend_resolver\u001B[0m\u001B[0;34m(\u001B[0m\u001B[0;34m)\u001B[0m\u001B[0;34m\u001B[0m\u001B[0;34m\u001B[0m\u001B[0m\n\u001B[1;32m     86\u001B[0m         \u001B[0;32mreturn\u001B[0m \u001B[0mnode\u001B[0m\u001B[0;34m\u001B[0m\u001B[0;34m\u001B[0m\u001B[0m\n",
      "\u001B[0;32m~/miniconda3/lib/python3.8/site-packages/yaml/composer.py\u001B[0m in \u001B[0;36mcompose_mapping_node\u001B[0;34m(self, anchor)\u001B[0m\n\u001B[1;32m    131\u001B[0m             \u001B[0;31m#    raise ComposerError(\"while composing a mapping\", start_event.start_mark,\u001B[0m\u001B[0;34m\u001B[0m\u001B[0;34m\u001B[0m\u001B[0;34m\u001B[0m\u001B[0m\n\u001B[1;32m    132\u001B[0m             \u001B[0;31m#            \"found duplicate key\", key_event.start_mark)\u001B[0m\u001B[0;34m\u001B[0m\u001B[0;34m\u001B[0m\u001B[0;34m\u001B[0m\u001B[0m\n\u001B[0;32m--> 133\u001B[0;31m             \u001B[0mitem_value\u001B[0m \u001B[0;34m=\u001B[0m \u001B[0mself\u001B[0m\u001B[0;34m.\u001B[0m\u001B[0mcompose_node\u001B[0m\u001B[0;34m(\u001B[0m\u001B[0mnode\u001B[0m\u001B[0;34m,\u001B[0m \u001B[0mitem_key\u001B[0m\u001B[0;34m)\u001B[0m\u001B[0;34m\u001B[0m\u001B[0;34m\u001B[0m\u001B[0m\n\u001B[0m\u001B[1;32m    134\u001B[0m             \u001B[0;31m#node.value[item_key] = item_value\u001B[0m\u001B[0;34m\u001B[0m\u001B[0;34m\u001B[0m\u001B[0;34m\u001B[0m\u001B[0m\n\u001B[1;32m    135\u001B[0m             \u001B[0mnode\u001B[0m\u001B[0;34m.\u001B[0m\u001B[0mvalue\u001B[0m\u001B[0;34m.\u001B[0m\u001B[0mappend\u001B[0m\u001B[0;34m(\u001B[0m\u001B[0;34m(\u001B[0m\u001B[0mitem_key\u001B[0m\u001B[0;34m,\u001B[0m \u001B[0mitem_value\u001B[0m\u001B[0;34m)\u001B[0m\u001B[0;34m)\u001B[0m\u001B[0;34m\u001B[0m\u001B[0;34m\u001B[0m\u001B[0m\n",
      "\u001B[0;32m~/miniconda3/lib/python3.8/site-packages/yaml/composer.py\u001B[0m in \u001B[0;36mcompose_node\u001B[0;34m(self, parent, index)\u001B[0m\n\u001B[1;32m     82\u001B[0m             \u001B[0mnode\u001B[0m \u001B[0;34m=\u001B[0m \u001B[0mself\u001B[0m\u001B[0;34m.\u001B[0m\u001B[0mcompose_sequence_node\u001B[0m\u001B[0;34m(\u001B[0m\u001B[0manchor\u001B[0m\u001B[0;34m)\u001B[0m\u001B[0;34m\u001B[0m\u001B[0;34m\u001B[0m\u001B[0m\n\u001B[1;32m     83\u001B[0m         \u001B[0;32melif\u001B[0m \u001B[0mself\u001B[0m\u001B[0;34m.\u001B[0m\u001B[0mcheck_event\u001B[0m\u001B[0;34m(\u001B[0m\u001B[0mMappingStartEvent\u001B[0m\u001B[0;34m)\u001B[0m\u001B[0;34m:\u001B[0m\u001B[0;34m\u001B[0m\u001B[0;34m\u001B[0m\u001B[0m\n\u001B[0;32m---> 84\u001B[0;31m             \u001B[0mnode\u001B[0m \u001B[0;34m=\u001B[0m \u001B[0mself\u001B[0m\u001B[0;34m.\u001B[0m\u001B[0mcompose_mapping_node\u001B[0m\u001B[0;34m(\u001B[0m\u001B[0manchor\u001B[0m\u001B[0;34m)\u001B[0m\u001B[0;34m\u001B[0m\u001B[0;34m\u001B[0m\u001B[0m\n\u001B[0m\u001B[1;32m     85\u001B[0m         \u001B[0mself\u001B[0m\u001B[0;34m.\u001B[0m\u001B[0mascend_resolver\u001B[0m\u001B[0;34m(\u001B[0m\u001B[0;34m)\u001B[0m\u001B[0;34m\u001B[0m\u001B[0;34m\u001B[0m\u001B[0m\n\u001B[1;32m     86\u001B[0m         \u001B[0;32mreturn\u001B[0m \u001B[0mnode\u001B[0m\u001B[0;34m\u001B[0m\u001B[0;34m\u001B[0m\u001B[0m\n",
      "\u001B[0;32m~/miniconda3/lib/python3.8/site-packages/yaml/composer.py\u001B[0m in \u001B[0;36mcompose_mapping_node\u001B[0;34m(self, anchor)\u001B[0m\n\u001B[1;32m    131\u001B[0m             \u001B[0;31m#    raise ComposerError(\"while composing a mapping\", start_event.start_mark,\u001B[0m\u001B[0;34m\u001B[0m\u001B[0;34m\u001B[0m\u001B[0;34m\u001B[0m\u001B[0m\n\u001B[1;32m    132\u001B[0m             \u001B[0;31m#            \"found duplicate key\", key_event.start_mark)\u001B[0m\u001B[0;34m\u001B[0m\u001B[0;34m\u001B[0m\u001B[0;34m\u001B[0m\u001B[0m\n\u001B[0;32m--> 133\u001B[0;31m             \u001B[0mitem_value\u001B[0m \u001B[0;34m=\u001B[0m \u001B[0mself\u001B[0m\u001B[0;34m.\u001B[0m\u001B[0mcompose_node\u001B[0m\u001B[0;34m(\u001B[0m\u001B[0mnode\u001B[0m\u001B[0;34m,\u001B[0m \u001B[0mitem_key\u001B[0m\u001B[0;34m)\u001B[0m\u001B[0;34m\u001B[0m\u001B[0;34m\u001B[0m\u001B[0m\n\u001B[0m\u001B[1;32m    134\u001B[0m             \u001B[0;31m#node.value[item_key] = item_value\u001B[0m\u001B[0;34m\u001B[0m\u001B[0;34m\u001B[0m\u001B[0;34m\u001B[0m\u001B[0m\n\u001B[1;32m    135\u001B[0m             \u001B[0mnode\u001B[0m\u001B[0;34m.\u001B[0m\u001B[0mvalue\u001B[0m\u001B[0;34m.\u001B[0m\u001B[0mappend\u001B[0m\u001B[0;34m(\u001B[0m\u001B[0;34m(\u001B[0m\u001B[0mitem_key\u001B[0m\u001B[0;34m,\u001B[0m \u001B[0mitem_value\u001B[0m\u001B[0;34m)\u001B[0m\u001B[0;34m)\u001B[0m\u001B[0;34m\u001B[0m\u001B[0;34m\u001B[0m\u001B[0m\n",
      "\u001B[0;32m~/miniconda3/lib/python3.8/site-packages/yaml/composer.py\u001B[0m in \u001B[0;36mcompose_node\u001B[0;34m(self, parent, index)\u001B[0m\n\u001B[1;32m     82\u001B[0m             \u001B[0mnode\u001B[0m \u001B[0;34m=\u001B[0m \u001B[0mself\u001B[0m\u001B[0;34m.\u001B[0m\u001B[0mcompose_sequence_node\u001B[0m\u001B[0;34m(\u001B[0m\u001B[0manchor\u001B[0m\u001B[0;34m)\u001B[0m\u001B[0;34m\u001B[0m\u001B[0;34m\u001B[0m\u001B[0m\n\u001B[1;32m     83\u001B[0m         \u001B[0;32melif\u001B[0m \u001B[0mself\u001B[0m\u001B[0;34m.\u001B[0m\u001B[0mcheck_event\u001B[0m\u001B[0;34m(\u001B[0m\u001B[0mMappingStartEvent\u001B[0m\u001B[0;34m)\u001B[0m\u001B[0;34m:\u001B[0m\u001B[0;34m\u001B[0m\u001B[0;34m\u001B[0m\u001B[0m\n\u001B[0;32m---> 84\u001B[0;31m             \u001B[0mnode\u001B[0m \u001B[0;34m=\u001B[0m \u001B[0mself\u001B[0m\u001B[0;34m.\u001B[0m\u001B[0mcompose_mapping_node\u001B[0m\u001B[0;34m(\u001B[0m\u001B[0manchor\u001B[0m\u001B[0;34m)\u001B[0m\u001B[0;34m\u001B[0m\u001B[0;34m\u001B[0m\u001B[0m\n\u001B[0m\u001B[1;32m     85\u001B[0m         \u001B[0mself\u001B[0m\u001B[0;34m.\u001B[0m\u001B[0mascend_resolver\u001B[0m\u001B[0;34m(\u001B[0m\u001B[0;34m)\u001B[0m\u001B[0;34m\u001B[0m\u001B[0;34m\u001B[0m\u001B[0m\n\u001B[1;32m     86\u001B[0m         \u001B[0;32mreturn\u001B[0m \u001B[0mnode\u001B[0m\u001B[0;34m\u001B[0m\u001B[0;34m\u001B[0m\u001B[0m\n",
      "\u001B[0;32m~/miniconda3/lib/python3.8/site-packages/yaml/composer.py\u001B[0m in \u001B[0;36mcompose_mapping_node\u001B[0;34m(self, anchor)\u001B[0m\n\u001B[1;32m    131\u001B[0m             \u001B[0;31m#    raise ComposerError(\"while composing a mapping\", start_event.start_mark,\u001B[0m\u001B[0;34m\u001B[0m\u001B[0;34m\u001B[0m\u001B[0;34m\u001B[0m\u001B[0m\n\u001B[1;32m    132\u001B[0m             \u001B[0;31m#            \"found duplicate key\", key_event.start_mark)\u001B[0m\u001B[0;34m\u001B[0m\u001B[0;34m\u001B[0m\u001B[0;34m\u001B[0m\u001B[0m\n\u001B[0;32m--> 133\u001B[0;31m             \u001B[0mitem_value\u001B[0m \u001B[0;34m=\u001B[0m \u001B[0mself\u001B[0m\u001B[0;34m.\u001B[0m\u001B[0mcompose_node\u001B[0m\u001B[0;34m(\u001B[0m\u001B[0mnode\u001B[0m\u001B[0;34m,\u001B[0m \u001B[0mitem_key\u001B[0m\u001B[0;34m)\u001B[0m\u001B[0;34m\u001B[0m\u001B[0;34m\u001B[0m\u001B[0m\n\u001B[0m\u001B[1;32m    134\u001B[0m             \u001B[0;31m#node.value[item_key] = item_value\u001B[0m\u001B[0;34m\u001B[0m\u001B[0;34m\u001B[0m\u001B[0;34m\u001B[0m\u001B[0m\n\u001B[1;32m    135\u001B[0m             \u001B[0mnode\u001B[0m\u001B[0;34m.\u001B[0m\u001B[0mvalue\u001B[0m\u001B[0;34m.\u001B[0m\u001B[0mappend\u001B[0m\u001B[0;34m(\u001B[0m\u001B[0;34m(\u001B[0m\u001B[0mitem_key\u001B[0m\u001B[0;34m,\u001B[0m \u001B[0mitem_value\u001B[0m\u001B[0;34m)\u001B[0m\u001B[0;34m)\u001B[0m\u001B[0;34m\u001B[0m\u001B[0;34m\u001B[0m\u001B[0m\n",
      "\u001B[0;32m~/miniconda3/lib/python3.8/site-packages/yaml/composer.py\u001B[0m in \u001B[0;36mcompose_node\u001B[0;34m(self, parent, index)\u001B[0m\n\u001B[1;32m     82\u001B[0m             \u001B[0mnode\u001B[0m \u001B[0;34m=\u001B[0m \u001B[0mself\u001B[0m\u001B[0;34m.\u001B[0m\u001B[0mcompose_sequence_node\u001B[0m\u001B[0;34m(\u001B[0m\u001B[0manchor\u001B[0m\u001B[0;34m)\u001B[0m\u001B[0;34m\u001B[0m\u001B[0;34m\u001B[0m\u001B[0m\n\u001B[1;32m     83\u001B[0m         \u001B[0;32melif\u001B[0m \u001B[0mself\u001B[0m\u001B[0;34m.\u001B[0m\u001B[0mcheck_event\u001B[0m\u001B[0;34m(\u001B[0m\u001B[0mMappingStartEvent\u001B[0m\u001B[0;34m)\u001B[0m\u001B[0;34m:\u001B[0m\u001B[0;34m\u001B[0m\u001B[0;34m\u001B[0m\u001B[0m\n\u001B[0;32m---> 84\u001B[0;31m             \u001B[0mnode\u001B[0m \u001B[0;34m=\u001B[0m \u001B[0mself\u001B[0m\u001B[0;34m.\u001B[0m\u001B[0mcompose_mapping_node\u001B[0m\u001B[0;34m(\u001B[0m\u001B[0manchor\u001B[0m\u001B[0;34m)\u001B[0m\u001B[0;34m\u001B[0m\u001B[0;34m\u001B[0m\u001B[0m\n\u001B[0m\u001B[1;32m     85\u001B[0m         \u001B[0mself\u001B[0m\u001B[0;34m.\u001B[0m\u001B[0mascend_resolver\u001B[0m\u001B[0;34m(\u001B[0m\u001B[0;34m)\u001B[0m\u001B[0;34m\u001B[0m\u001B[0;34m\u001B[0m\u001B[0m\n\u001B[1;32m     86\u001B[0m         \u001B[0;32mreturn\u001B[0m \u001B[0mnode\u001B[0m\u001B[0;34m\u001B[0m\u001B[0;34m\u001B[0m\u001B[0m\n",
      "\u001B[0;32m~/miniconda3/lib/python3.8/site-packages/yaml/composer.py\u001B[0m in \u001B[0;36mcompose_mapping_node\u001B[0;34m(self, anchor)\u001B[0m\n\u001B[1;32m    125\u001B[0m         \u001B[0;32mif\u001B[0m \u001B[0manchor\u001B[0m \u001B[0;32mis\u001B[0m \u001B[0;32mnot\u001B[0m \u001B[0;32mNone\u001B[0m\u001B[0;34m:\u001B[0m\u001B[0;34m\u001B[0m\u001B[0;34m\u001B[0m\u001B[0m\n\u001B[1;32m    126\u001B[0m             \u001B[0mself\u001B[0m\u001B[0;34m.\u001B[0m\u001B[0manchors\u001B[0m\u001B[0;34m[\u001B[0m\u001B[0manchor\u001B[0m\u001B[0;34m]\u001B[0m \u001B[0;34m=\u001B[0m \u001B[0mnode\u001B[0m\u001B[0;34m\u001B[0m\u001B[0;34m\u001B[0m\u001B[0m\n\u001B[0;32m--> 127\u001B[0;31m         \u001B[0;32mwhile\u001B[0m \u001B[0;32mnot\u001B[0m \u001B[0mself\u001B[0m\u001B[0;34m.\u001B[0m\u001B[0mcheck_event\u001B[0m\u001B[0;34m(\u001B[0m\u001B[0mMappingEndEvent\u001B[0m\u001B[0;34m)\u001B[0m\u001B[0;34m:\u001B[0m\u001B[0;34m\u001B[0m\u001B[0;34m\u001B[0m\u001B[0m\n\u001B[0m\u001B[1;32m    128\u001B[0m             \u001B[0;31m#key_event = self.peek_event()\u001B[0m\u001B[0;34m\u001B[0m\u001B[0;34m\u001B[0m\u001B[0;34m\u001B[0m\u001B[0m\n\u001B[1;32m    129\u001B[0m             \u001B[0mitem_key\u001B[0m \u001B[0;34m=\u001B[0m \u001B[0mself\u001B[0m\u001B[0;34m.\u001B[0m\u001B[0mcompose_node\u001B[0m\u001B[0;34m(\u001B[0m\u001B[0mnode\u001B[0m\u001B[0;34m,\u001B[0m \u001B[0;32mNone\u001B[0m\u001B[0;34m)\u001B[0m\u001B[0;34m\u001B[0m\u001B[0;34m\u001B[0m\u001B[0m\n",
      "\u001B[0;32m~/miniconda3/lib/python3.8/site-packages/yaml/parser.py\u001B[0m in \u001B[0;36mcheck_event\u001B[0;34m(self, *choices)\u001B[0m\n\u001B[1;32m     96\u001B[0m         \u001B[0;32mif\u001B[0m \u001B[0mself\u001B[0m\u001B[0;34m.\u001B[0m\u001B[0mcurrent_event\u001B[0m \u001B[0;32mis\u001B[0m \u001B[0;32mNone\u001B[0m\u001B[0;34m:\u001B[0m\u001B[0;34m\u001B[0m\u001B[0;34m\u001B[0m\u001B[0m\n\u001B[1;32m     97\u001B[0m             \u001B[0;32mif\u001B[0m \u001B[0mself\u001B[0m\u001B[0;34m.\u001B[0m\u001B[0mstate\u001B[0m\u001B[0;34m:\u001B[0m\u001B[0;34m\u001B[0m\u001B[0;34m\u001B[0m\u001B[0m\n\u001B[0;32m---> 98\u001B[0;31m                 \u001B[0mself\u001B[0m\u001B[0;34m.\u001B[0m\u001B[0mcurrent_event\u001B[0m \u001B[0;34m=\u001B[0m \u001B[0mself\u001B[0m\u001B[0;34m.\u001B[0m\u001B[0mstate\u001B[0m\u001B[0;34m(\u001B[0m\u001B[0;34m)\u001B[0m\u001B[0;34m\u001B[0m\u001B[0;34m\u001B[0m\u001B[0m\n\u001B[0m\u001B[1;32m     99\u001B[0m         \u001B[0;32mif\u001B[0m \u001B[0mself\u001B[0m\u001B[0;34m.\u001B[0m\u001B[0mcurrent_event\u001B[0m \u001B[0;32mis\u001B[0m \u001B[0;32mnot\u001B[0m \u001B[0;32mNone\u001B[0m\u001B[0;34m:\u001B[0m\u001B[0;34m\u001B[0m\u001B[0;34m\u001B[0m\u001B[0m\n\u001B[1;32m    100\u001B[0m             \u001B[0;32mif\u001B[0m \u001B[0;32mnot\u001B[0m \u001B[0mchoices\u001B[0m\u001B[0;34m:\u001B[0m\u001B[0;34m\u001B[0m\u001B[0;34m\u001B[0m\u001B[0m\n",
      "\u001B[0;32m~/miniconda3/lib/python3.8/site-packages/yaml/parser.py\u001B[0m in \u001B[0;36mparse_block_mapping_key\u001B[0;34m(self)\u001B[0m\n\u001B[1;32m    436\u001B[0m         \u001B[0;32mif\u001B[0m \u001B[0;32mnot\u001B[0m \u001B[0mself\u001B[0m\u001B[0;34m.\u001B[0m\u001B[0mcheck_token\u001B[0m\u001B[0;34m(\u001B[0m\u001B[0mBlockEndToken\u001B[0m\u001B[0;34m)\u001B[0m\u001B[0;34m:\u001B[0m\u001B[0;34m\u001B[0m\u001B[0;34m\u001B[0m\u001B[0m\n\u001B[1;32m    437\u001B[0m             \u001B[0mtoken\u001B[0m \u001B[0;34m=\u001B[0m \u001B[0mself\u001B[0m\u001B[0;34m.\u001B[0m\u001B[0mpeek_token\u001B[0m\u001B[0;34m(\u001B[0m\u001B[0;34m)\u001B[0m\u001B[0;34m\u001B[0m\u001B[0;34m\u001B[0m\u001B[0m\n\u001B[0;32m--> 438\u001B[0;31m             raise ParserError(\"while parsing a block mapping\", self.marks[-1],\n\u001B[0m\u001B[1;32m    439\u001B[0m                     \"expected <block end>, but found %r\" % token.id, token.start_mark)\n\u001B[1;32m    440\u001B[0m         \u001B[0mtoken\u001B[0m \u001B[0;34m=\u001B[0m \u001B[0mself\u001B[0m\u001B[0;34m.\u001B[0m\u001B[0mget_token\u001B[0m\u001B[0;34m(\u001B[0m\u001B[0;34m)\u001B[0m\u001B[0;34m\u001B[0m\u001B[0;34m\u001B[0m\u001B[0m\n",
      "\u001B[0;31mParserError\u001B[0m: while parsing a block mapping\n  in \"<unicode string>\", line 5, column 7:\n          \"X0_noun\": not having visited En ... \n          ^\nexpected <block end>, but found '<scalar>'\n  in \"<unicode string>\", line 9, column 34:\n          X0_wheresentence: {plural} who have not visited England\n                                     ^"
     ]
    }
   ],
   "source": [
    "yaml.load(raw, Loader=yaml.SafeLoader)"
   ],
   "metadata": {
    "collapsed": false
   }
  },
  {
   "cell_type": "code",
   "execution_count": null,
   "outputs": [],
   "source": [],
   "metadata": {
    "collapsed": false
   }
  },
  {
   "cell_type": "code",
   "execution_count": 44,
   "outputs": [],
   "source": [
    "Xtmpl = '''X0_noun:\n",
    "X0_sentence:\n",
    "X0_sentence_condition:\n",
    "X0_wherepartial:\n",
    "X0_wheresentence:\n",
    "X1_noun:\n",
    "X1_sentence:\n",
    "X1_sentence_condition:\n",
    "X1_wherepartial:\n",
    "X1_wheresentence:\n",
    "Xname:\n",
    "'''\n",
    "Ytmpl = '''Y0_noun:\n",
    "Y0_sentence:\n",
    "Y0_wherepartial:\n",
    "Y0_wheresentence:\n",
    "Y1_noun:\n",
    "Y1_sentence:\n",
    "Y1_wherepartial:\n",
    "Y1_wheresentence:\n",
    "Yname:\n",
    "'''\n",
    "# print(tmpl)"
   ],
   "metadata": {
    "collapsed": false
   }
  },
  {
   "cell_type": "code",
   "execution_count": 45,
   "outputs": [],
   "source": [
    "Xvocab = {key for keys in Xoptions.values() for key in keys}\n",
    "Yvocab = {key for keys in Yoptions.values() for key in keys}"
   ],
   "metadata": {
    "collapsed": false
   }
  },
  {
   "cell_type": "code",
   "execution_count": 47,
   "outputs": [],
   "source": [
    "from omnibelt import save_txt"
   ],
   "metadata": {
    "collapsed": false
   }
  },
  {
   "cell_type": "code",
   "execution_count": 53,
   "outputs": [
    {
     "data": {
      "text/plain": "1723"
     },
     "execution_count": 53,
     "metadata": {},
     "output_type": "execute_result"
    }
   ],
   "source": [
    "lines = []\n",
    "for key in Yvocab:\n",
    "\tlines.extend([f'{key}: \\n  ' + Ytmpl.replace('\\n', '\\n  ')])\n",
    "# out = save_txt('\\n'.join(lines), 'temp.txt')\n",
    "out"
   ],
   "metadata": {
    "collapsed": false
   }
  },
  {
   "cell_type": "code",
   "execution_count": 79,
   "outputs": [],
   "source": [
    "from causalbenchmark.graphs import create_graph"
   ],
   "metadata": {
    "collapsed": false
   }
  },
  {
   "cell_type": "code",
   "execution_count": 93,
   "outputs": [],
   "source": [
    "graphs = ['chain', 'collision', 'confounding', 'mediation', 'frontdoor', 'IV', 'arrowhead',\n",
    "          # 'det-diamond', 'det-diamondcut', 'det-triangle', 'det-twocauses',\n",
    "          'nondet-diamond', 'nondet-diamondcut']"
   ],
   "metadata": {
    "collapsed": false
   }
  },
  {
   "cell_type": "code",
   "execution_count": 94,
   "outputs": [
    {
     "data": {
      "text/plain": "{'chain': 'X->V2,V2->Y',\n 'collision': 'X->V3,Y->V3',\n 'confounding': 'V1->X,V1->Y,X->Y',\n 'mediation': 'X->V2,X->Y,V2->Y',\n 'frontdoor': 'V1->X,X->V3,V1->Y,V3->Y',\n 'IV': 'V1->X,V2->X,V1->Y,X->Y',\n 'arrowhead': 'X->V3,V2->V3,X->Y,V2->Y,V3->Y',\n 'nondet-diamond': 'X->V3,X->V2,V2->Y,V3->Y',\n 'nondet-diamondcut': 'V1->V3,V1->X,X->Y,V3->Y'}"
     },
     "execution_count": 94,
     "metadata": {},
     "output_type": "execute_result"
    }
   ],
   "source": [
    "structures = {k: create_graph(k).symbolic_graph_structure() for k in graphs}\n",
    "structures"
   ],
   "metadata": {
    "collapsed": false
   }
  },
  {
   "cell_type": "code",
   "execution_count": 122,
   "outputs": [],
   "source": [
    "def print_table(table, table_name='table'):\n",
    "\ttmpl = '''{table_name} = {{\n",
    "{lines}\n",
    "\\t}}'''\n",
    "\tline_tmpl = '\\t\\t# {name}\\n\\t\\t\"{structure}\": {value},'\n",
    "\t# line_tmpl = '\\t\\t# {structure}\\n\\t\\t\"{name}\": {value},'\n",
    "\n",
    "\tlines = [line_tmpl.format(name=name, structure=structures[name], value=table[name])\n",
    "\t         for name in graphs]\n",
    "\tprint(tmpl.format(lines='\\n'.join(lines), table_name=table_name))"
   ],
   "metadata": {
    "collapsed": false
   }
  },
  {
   "cell_type": "code",
   "execution_count": 97,
   "outputs": [
    {
     "data": {
      "text/plain": "9"
     },
     "execution_count": 97,
     "metadata": {},
     "output_type": "execute_result"
    }
   ],
   "source": [
    "infos = {key: util.load_phenomenon_from_config(key) for key in graphs}\n",
    "len(infos)"
   ],
   "metadata": {
    "collapsed": false
   }
  },
  {
   "cell_type": "code",
   "execution_count": 110,
   "outputs": [
    {
     "name": "stdout",
     "output_type": "stream",
     "text": [
      "empty = {\n",
      "\t\t# chain\n",
      "\t\t\"X->V2,V2->Y\": None,\n",
      "\t\t# collision\n",
      "\t\t\"X->V3,Y->V3\": None,\n",
      "\t\t# confounding\n",
      "\t\t\"V1->X,V1->Y,X->Y\": None,\n",
      "\t\t# mediation\n",
      "\t\t\"X->V2,X->Y,V2->Y\": None,\n",
      "\t\t# frontdoor\n",
      "\t\t\"V1->X,X->V3,V1->Y,V3->Y\": None,\n",
      "\t\t# IV\n",
      "\t\t\"V1->X,V2->X,V1->Y,X->Y\": None,\n",
      "\t\t# arrowhead\n",
      "\t\t\"X->V3,V2->V3,X->Y,V2->Y,V3->Y\": None,\n",
      "\t\t# nondet-diamond\n",
      "\t\t\"X->V3,X->V2,V2->Y,V3->Y\": None,\n",
      "\t\t# nondet-diamondcut\n",
      "\t\t\"V1->V3,V1->X,X->Y,V3->Y\": None,\n",
      "\t}\n"
     ]
    }
   ],
   "source": [
    "\n",
    "print_table({k: 'None' for k in graphs}, 'empty')"
   ],
   "metadata": {
    "collapsed": false
   }
  },
  {
   "cell_type": "code",
   "execution_count": 99,
   "outputs": [
    {
     "data": {
      "text/plain": "dict_keys(['ate_confuse', 'ate_estimand', 'ate_formal', 'ate_nec', 'cond_estimand', 'cond_nec', 'correlation_estimand', 'correlation_nec', 'cou_exp_estimand', 'ett_estimand', 'ett_formal', 'ett_nec', 'exp_away_estimand', 'exp_away_nec', 'graph', 'nde_estimand', 'nde_formal', 'nde_nec', 'nie_estimand', 'nie_formal', 'nie_nec', 'node_corr', 'phenomenon', 'query_types', 'template', 'variable_correspondence'])"
     },
     "execution_count": 99,
     "metadata": {},
     "output_type": "execute_result"
    }
   ],
   "source": [
    "infos['chain'].keys()"
   ],
   "metadata": {
    "collapsed": false
   }
  },
  {
   "cell_type": "code",
   "execution_count": 125,
   "outputs": [
    {
     "name": "stdout",
     "output_type": "stream",
     "text": [
      "_known_estimands = {\n",
      "\t\t# chain\n",
      "\t\t\"X->V2,V2->Y\": ['P(Y=1|X=1) - P(Y=1|X=0)'],\n",
      "\t\t# collision\n",
      "\t\t\"X->V3,Y->V3\": [''],\n",
      "\t\t# confounding\n",
      "\t\t\"V1->X,V1->Y,X->Y\": [''],\n",
      "\t\t# mediation\n",
      "\t\t\"X->V2,X->Y,V2->Y\": ['\\\\sum_{V2 = v} P(Y=1|X =0,V2 = v)*[P(V2 = v | X = 1) − P(V2 = v | X = 0)]'],\n",
      "\t\t# frontdoor\n",
      "\t\t\"V1->X,X->V3,V1->Y,V3->Y\": ['\\\\sum_{V3 = v} [P(V3 = v|X = 1) - P(V3 = v|X = 0)] * [\\\\sum_{X = h} P(Y = 1|X = h,V3 = v)*P(X = h)]'],\n",
      "\t\t# IV\n",
      "\t\t\"V1->X,V2->X,V1->Y,X->Y\": [''],\n",
      "\t\t# arrowhead\n",
      "\t\t\"X->V3,V2->V3,X->Y,V2->Y,V3->Y\": ['\\\\sum_{V3=v} [\\\\sum_{V2=k} P(Y=1|X=0,V3=v)*[P(V3=v|X=1,V2=k)-P(V3=v|X=0,V2=k)]*P(V2=k)]'],\n",
      "\t\t# nondet-diamond\n",
      "\t\t\"X->V3,X->V2,V2->Y,V3->Y\": ['P(Y=1|X=1) - P(Y=1|X=0)'],\n",
      "\t\t# nondet-diamondcut\n",
      "\t\t\"V1->V3,V1->X,X->Y,V3->Y\": [''],\n",
      "\t}\n"
     ]
    }
   ],
   "source": [
    "print_table({k: infos[k]['nie_estimand'] for k in graphs}, '_known_estimands')"
   ],
   "metadata": {
    "collapsed": false
   }
  },
  {
   "cell_type": "code",
   "execution_count": 117,
   "outputs": [
    {
     "name": "stdout",
     "output_type": "stream",
     "text": [
      "_known_estimand_terms = {\n",
      "\t\t# chain\n",
      "\t\t\"X->V2,V2->Y\": ['P(Y|X)'],\n",
      "\t\t# collision\n",
      "\t\t\"X->V3,Y->V3\": [''],\n",
      "\t\t# confounding\n",
      "\t\t\"V1->X,V1->Y,X->Y\": [''],\n",
      "\t\t# mediation\n",
      "\t\t\"X->V2,X->Y,V2->Y\": ['P(Y|X,V2)', 'P(V2|X)'],\n",
      "\t\t# frontdoor\n",
      "\t\t\"V1->X,X->V3,V1->Y,V3->Y\": ['P(V3|X)', 'P(Y|X,V3)', 'P(X)'],\n",
      "\t\t# IV\n",
      "\t\t\"V1->X,V2->X,V1->Y,X->Y\": [''],\n",
      "\t\t# arrowhead\n",
      "\t\t\"X->V3,V2->V3,X->Y,V2->Y,V3->Y\": ['P(Y|X,V3)', 'P(V3|X,V2)', 'P(V2)'],\n",
      "\t\t# nondet-diamond\n",
      "\t\t\"X->V3,X->V2,V2->Y,V3->Y\": ['P(Y|X)'],\n",
      "\t\t# nondet-diamondcut\n",
      "\t\t\"V1->V3,V1->X,X->Y,V3->Y\": [''],\n",
      "\t}\n"
     ]
    }
   ],
   "source": [
    "print_table({k: infos[k]['nie_nec'] for k in graphs}, '_known_estimand_terms')"
   ],
   "metadata": {
    "collapsed": false
   }
  },
  {
   "cell_type": "code",
   "execution_count": null,
   "outputs": [],
   "source": [],
   "metadata": {
    "collapsed": false
   }
  },
  {
   "cell_type": "code",
   "execution_count": 129,
   "outputs": [
    {
     "name": "stdout",
     "output_type": "stream",
     "text": [
      "['data/data-non-easy.json', 'data/data-models.json', 'data/data-common-easy.json', 'data/data-det-common-easy.json', 'data/data-det-anti-easy.json', 'data/data-det-non-easy.json', 'data/data-det-non-hard.json', 'data/data-anti-easy.json', 'data/data-common-hard.json', 'data/data-anti-hard.json', 'data/data-det-common.json', 'data/data-non-hard.json', 'data/data-det-anti-hard.json']\n"
     ]
    }
   ],
   "source": [
    "print([f'{p.parent.name}/{p.name}' for p in util.data_root().glob('data*')])"
   ],
   "metadata": {
    "collapsed": false
   }
  },
  {
   "cell_type": "code",
   "execution_count": null,
   "outputs": [],
   "source": [],
   "metadata": {
    "collapsed": false
   }
  },
  {
   "cell_type": "code",
   "execution_count": null,
   "outputs": [],
   "source": [],
   "metadata": {
    "collapsed": false
   }
  },
  {
   "cell_type": "code",
   "execution_count": 82,
   "outputs": [],
   "source": [],
   "metadata": {
    "collapsed": false
   }
  }
 ],
 "metadata": {
  "kernelspec": {
   "display_name": "Python 3",
   "language": "python",
   "name": "python3"
  },
  "language_info": {
   "codemirror_mode": {
    "name": "ipython",
    "version": 2
   },
   "file_extension": ".py",
   "mimetype": "text/x-python",
   "name": "python",
   "nbconvert_exporter": "python",
   "pygments_lexer": "ipython2",
   "version": "2.7.6"
  }
 },
 "nbformat": 4,
 "nbformat_minor": 0
}
