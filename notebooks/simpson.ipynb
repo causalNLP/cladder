{
 "cells": [
  {
   "cell_type": "code",
   "execution_count": 6,
   "metadata": {
    "collapsed": true
   },
   "outputs": [],
   "source": [
    "from tqdm.notebook import tqdm\n",
    "import numpy as np\n",
    "np.set_printoptions(precision=3, suppress=True, linewidth=120);\n",
    "\n",
    "from causalbenchmark import create_graph, util\n",
    "from causalbenchmark.graphs.builders import DifficultyBuilder, MechanismCorrelationBuilder"
   ]
  },
  {
   "cell_type": "code",
   "execution_count": 2,
   "outputs": [],
   "source": [
    "builder = DifficultyBuilder()"
   ],
   "metadata": {
    "collapsed": false
   }
  },
  {
   "cell_type": "code",
   "execution_count": 22,
   "outputs": [],
   "source": [
    "spec = {'V1': [0.4, 0.6], 'X': {'V1': -0.5}, 'Y': {'X': 0.2, 'V1': 0.25}}"
   ],
   "metadata": {
    "collapsed": false
   }
  },
  {
   "cell_type": "code",
   "execution_count": 23,
   "outputs": [
    {
     "data": {
      "text/plain": "SimpsonsParadox(V1, X(V1), Y(V1, X))"
     },
     "execution_count": 23,
     "metadata": {},
     "output_type": "execute_result"
    }
   ],
   "source": [
    "scm = builder.generate_scm('simpson', spec)\n",
    "scm"
   ],
   "metadata": {
    "collapsed": false
   }
  },
  {
   "cell_type": "code",
   "execution_count": 24,
   "outputs": [
    {
     "data": {
      "text/plain": "('V1', 'X')"
     },
     "execution_count": 24,
     "metadata": {},
     "output_type": "execute_result"
    }
   ],
   "source": [
    "scm.Y.parents"
   ],
   "metadata": {
    "collapsed": false
   }
  },
  {
   "cell_type": "code",
   "execution_count": 25,
   "outputs": [
    {
     "data": {
      "text/plain": "array([0.838, 0.045])"
     },
     "execution_count": 25,
     "metadata": {},
     "output_type": "execute_result"
    }
   ],
   "source": [
    "scm.X.param"
   ],
   "metadata": {
    "collapsed": false
   }
  },
  {
   "cell_type": "code",
   "execution_count": 26,
   "outputs": [
    {
     "data": {
      "text/plain": "array([[0.154, 0.387],\n       [0.533, 0.789]])"
     },
     "execution_count": 26,
     "metadata": {},
     "output_type": "execute_result"
    }
   ],
   "source": [
    "scm.Y.param"
   ],
   "metadata": {
    "collapsed": false
   }
  },
  {
   "cell_type": "code",
   "execution_count": 27,
   "outputs": [
    {
     "data": {
      "text/plain": "(0.4674862740502898, 0.40344662650628965)"
     },
     "execution_count": 27,
     "metadata": {},
     "output_type": "execute_result"
    }
   ],
   "source": [
    "scm.aggregate_stats()"
   ],
   "metadata": {
    "collapsed": false
   }
  },
  {
   "cell_type": "code",
   "execution_count": 110,
   "outputs": [],
   "source": [
    "spec = {'V1': [0.4, 0.6], 'X': {'V1': -0.6}, 'Y': {'X': 0.2, 'V1': 0.4}}"
   ],
   "metadata": {
    "collapsed": false
   }
  },
  {
   "cell_type": "code",
   "execution_count": 213,
   "outputs": [
    {
     "data": {
      "text/plain": "  0%|          | 0/1000 [00:00<?, ?it/s]",
      "application/vnd.jupyter.widget-view+json": {
       "version_major": 2,
       "version_minor": 0,
       "model_id": "8247757d6c1d44599f1d897958c6eb4b"
      }
     },
     "metadata": {},
     "output_type": "display_data"
    },
    {
     "name": "stdout",
     "output_type": "stream",
     "text": [
      "bad: 100.00%\n"
     ]
    },
    {
     "data": {
      "text/plain": "1000"
     },
     "execution_count": 213,
     "metadata": {},
     "output_type": "execute_result"
    }
   ],
   "source": [
    "bad = 0\n",
    "N = 1000\n",
    "for _ in tqdm(range(N)):\n",
    "\tcontrol, treatment = builder.generate_scm('simpson', spec).aggregate_stats()\n",
    "\tif treatment > control:\n",
    "\t\tbad += 1\n",
    "print(f'bad: {bad/N:.2%}')\n",
    "bad"
   ],
   "metadata": {
    "collapsed": false
   }
  },
  {
   "cell_type": "code",
   "execution_count": 7,
   "outputs": [],
   "source": [
    "cb = MechanismCorrelationBuilder()"
   ],
   "metadata": {
    "collapsed": false
   }
  },
  {
   "cell_type": "code",
   "execution_count": 214,
   "outputs": [],
   "source": [
    "# confirmed: treatment is good\n",
    "spec = {'V1': [0.4, 0.6], 'X': {'V1': -0.7}, 'Y': {'X': 0.05, 'V1': 0.6}}\n",
    "spec = {'V1': [0.4, 0.6], 'X': {'V1': -0.5}, 'Y': {'X': 0.2, 'V1': 0.7}}\n",
    "# spec = {'V1': [0.4, 0.6], 'X': {'V1': -0.8}, 'Y': {'X': 0.3, 'V1': 0.55}}\n",
    "# spec = {'V1': [0.4, 0.6], 'X': {'V1': -0.7}, 'Y': {'X': 0.2, 'V1': 0.6}}\n",
    "# spec = {'V1': [0.4, 0.6], 'X': {'V1': -0.8}, 'Y': {'X': 0.1, 'V1': 0.55}}\n",
    "# spec = {'V1': [0.4, 0.6], 'X': {'V1': -0.4}, 'Y': {'X': 0.1, 'V1': 0.71}}\n",
    "# spec = {'V1': [0.4, 0.6], 'X': {'V1': -0.8}, 'Y': {'X': 0.2, 'V1': 0.55}}\n",
    "#\n",
    "# # reverse: treatment is bad\n",
    "# spec = {'V1': [0.4, 0.6], 'X': {'V1': -0.8}, 'Y': {'X': -0.1, 'V1': -0.55}}\n",
    "# spec = {'V1': [0.4, 0.6], 'X': {'V1': -0.7}, 'Y': {'X': -0.05, 'V1': -0.6}}\n",
    "# spec = {'V1': [0.4, 0.6], 'X': {'V1': -0.8}, 'Y': {'X': -0.1, 'V1': -0.55}}\n",
    "# spec = {'V1': [0.4, 0.6], 'X': {'V1': -0.5}, 'Y': {'X': -0.2, 'V1': -0.7}}\n",
    "# spec = {'V1': [0.4, 0.6], 'X': {'V1': -0.4}, 'Y': {'X': -0.1, 'V1': -0.71}}\n",
    "# spec = {'V1': [0.4, 0.6], 'X': {'V1': -0.8}, 'Y': {'X': -0.3, 'V1': -0.55}}"
   ],
   "metadata": {
    "collapsed": false
   }
  },
  {
   "cell_type": "code",
   "execution_count": 215,
   "outputs": [],
   "source": [
    "model = cb.generate_scm('simpson', spec)\n",
    "# model"
   ],
   "metadata": {
    "collapsed": false
   }
  },
  {
   "cell_type": "code",
   "execution_count": 216,
   "outputs": [],
   "source": [
    "def objective(params):\n",
    "\treturn model.subject.set_parameters(params).marginals(X=1)['Y'] - model.subject.set_parameters(params).marginals(X=0)['Y']"
   ],
   "metadata": {
    "collapsed": false
   }
  },
  {
   "cell_type": "code",
   "execution_count": 217,
   "outputs": [
    {
     "data": {
      "text/plain": "[-0.564399999999996, -0.06999999999999945]"
     },
     "execution_count": 217,
     "metadata": {},
     "output_type": "execute_result"
    }
   ],
   "source": [
    "model.find_bounds(objective)"
   ],
   "metadata": {
    "collapsed": false
   }
  },
  {
   "cell_type": "code",
   "execution_count": 221,
   "outputs": [
    {
     "name": "stdout",
     "output_type": "stream",
     "text": [
      "[[0.004 0.221]\n",
      " [0.727 0.928]]\n"
     ]
    },
    {
     "data": {
      "text/plain": "(0.5669248426659519, 0.3340683112156557)"
     },
     "execution_count": 221,
     "metadata": {},
     "output_type": "execute_result"
    }
   ],
   "source": [
    "scm = builder.generate_scm('simpson', spec)\n",
    "print(scm.Y.param)\n",
    "scm.aggregate_stats()"
   ],
   "metadata": {
    "collapsed": false
   }
  },
  {
   "cell_type": "code",
   "execution_count": 97,
   "outputs": [],
   "source": [
    "# objective(scm.get_parameters())"
   ],
   "metadata": {
    "collapsed": false
   }
  },
  {
   "cell_type": "code",
   "execution_count": 23,
   "outputs": [],
   "source": [
    "x0 = None\n",
    "self = model\n",
    "from scipy import optimize as opt"
   ],
   "metadata": {
    "collapsed": false
   }
  },
  {
   "cell_type": "code",
   "execution_count": 24,
   "outputs": [],
   "source": [
    "if x0 is None:\n",
    "\tx0 = self._initial_parameters()\n",
    "\n",
    "sol = opt.minimize(objective, x0, constraints=self.constraints, method=self.method)\n",
    "nsol = opt.minimize(lambda x: -objective(x), x0, constraints=self.constraints, method=self.method)\n",
    "\n",
    "if not sol.success or not nsol.success:\n",
    "\tprint('WARNING: optimization failed')\n",
    "\tprint(sol)\n",
    "\tprint(nsol)\n",
    "\n",
    "lb = sol.fun\n",
    "if isinstance(lb, np.ndarray):\n",
    "\tlb = lb.item()\n",
    "\n",
    "ub = -nsol.fun\n",
    "if isinstance(ub, np.ndarray):\n",
    "\tub = ub.item()\n"
   ],
   "metadata": {
    "collapsed": false
   }
  },
  {
   "cell_type": "code",
   "execution_count": 25,
   "outputs": [
    {
     "data": {
      "text/plain": "array([0.5 , 0.9 , 0.1 , 0.01, 0.39, 0.61, 0.99])"
     },
     "execution_count": 25,
     "metadata": {},
     "output_type": "execute_result"
    }
   ],
   "source": [
    "nsol.x"
   ],
   "metadata": {
    "collapsed": false
   }
  },
  {
   "cell_type": "code",
   "execution_count": 26,
   "outputs": [
    {
     "data": {
      "text/plain": "(0.5499999999999998, 0.45000000000000023)"
     },
     "execution_count": 26,
     "metadata": {},
     "output_type": "execute_result"
    }
   ],
   "source": [
    "self.subject.set_parameters(nsol.x).aggregate_stats()"
   ],
   "metadata": {
    "collapsed": false
   }
  },
  {
   "cell_type": "code",
   "execution_count": 1,
   "outputs": [],
   "source": [],
   "metadata": {
    "collapsed": false
   }
  }
 ],
 "metadata": {
  "kernelspec": {
   "display_name": "Python 3",
   "language": "python",
   "name": "python3"
  },
  "language_info": {
   "codemirror_mode": {
    "name": "ipython",
    "version": 2
   },
   "file_extension": ".py",
   "mimetype": "text/x-python",
   "name": "python",
   "nbconvert_exporter": "python",
   "pygments_lexer": "ipython2",
   "version": "2.7.6"
  }
 },
 "nbformat": 4,
 "nbformat_minor": 0
}
