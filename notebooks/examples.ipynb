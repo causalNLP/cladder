{
 "cells": [
  {
   "cell_type": "code",
   "execution_count": null,
   "metadata": {
    "collapsed": true
   },
   "outputs": [],
   "source": []
  },
  {
   "cell_type": "code",
   "execution_count": 7,
   "outputs": [],
   "source": [
    "from pathlib import Path\n",
    "import numpy as np\n",
    "import random\n",
    "from omnibelt import load_json"
   ],
   "metadata": {
    "collapsed": false
   }
  },
  {
   "cell_type": "code",
   "execution_count": 8,
   "outputs": [],
   "source": [
    "path = '../data/cladder-v1-aggregate.json'\n",
    "path = '../data/cladder-v1-common-easy.json'"
   ],
   "metadata": {
    "collapsed": false
   }
  },
  {
   "cell_type": "code",
   "execution_count": 68,
   "outputs": [
    {
     "data": {
      "text/plain": "(10392, 7688)"
     },
     "execution_count": 68,
     "metadata": {},
     "output_type": "execute_result"
    }
   ],
   "source": [
    "full = load_json(path)\n",
    "full_ids = {entry['question_id']: entry for entry in full}\n",
    "models = load_json('../data/cladder-v1-models.json')\n",
    "model_table = {info['model_id']: info for info in models}\n",
    "len(full), len(models)"
   ],
   "metadata": {
    "collapsed": false
   }
  },
  {
   "cell_type": "code",
   "execution_count": 10,
   "outputs": [],
   "source": [
    "\n",
    "class SkipItem(Exception):\n",
    "\tpass\n",
    "\n",
    "def _extract_key(entry, models):\n",
    "\n",
    "\tmeta = entry.get('meta', {})\n",
    "\n",
    "\tmodel = models.get(entry.get('model_id', None), {})\n",
    "\n",
    "\tstory_id = meta.get('story_id', None)\n",
    "\tgraph_id = meta.get('graph_id', None)\n",
    "\tquery_type = meta.get('query_type', None)\n",
    "\tanswer = entry.get('answer', None)\n",
    "\n",
    "\tif query_type == 'correlation' and graph_id == 'collision':\n",
    "\t\traise SkipItem\n",
    "\n",
    "\n",
    "\treturn (\n",
    "\t\tmeta.get('story_id', None),\n",
    "        meta.get('graph_id', None),\n",
    "        meta.get('query_type', None),\n",
    "        entry.get('answer', None),\n",
    "        model.get('difficulty', None),\n",
    "        # 'not-anti' if model.get('anticommonsense', None) is None else 'anticommonsense',\n",
    "        # 'nonsense' if meta.get('story_id', '').startswith('nonsense') else 'not-nonsense',\n",
    "\t        )\n"
   ],
   "metadata": {
    "collapsed": false
   }
  },
  {
   "cell_type": "code",
   "execution_count": 11,
   "outputs": [
    {
     "data": {
      "text/plain": "480"
     },
     "execution_count": 11,
     "metadata": {},
     "output_type": "execute_result"
    }
   ],
   "source": [
    "\n",
    "stats = {}\n",
    "for entry in full:\n",
    "\ttry:\n",
    "\t\tstats.setdefault(_extract_key(entry, model_table), []).append(entry['question_id'])\n",
    "\texcept SkipItem:\n",
    "\t\tpass\n",
    "len(stats)"
   ],
   "metadata": {
    "collapsed": false
   }
  },
  {
   "cell_type": "code",
   "execution_count": 12,
   "outputs": [
    {
     "data": {
      "text/plain": "[('gender_admission', 'mediation', 'marginal', 'no', None),\n ('smoking_frontdoor', 'frontdoor', 'marginal', 'yes', None),\n ('celebrity', 'collision', 'marginal', 'no', None),\n ('smoking_gene_cancer', 'arrowhead', 'marginal', 'yes', None),\n ('college_wage', 'IV', 'ate', 'yes', None),\n ('firing_employee', 'diamondcut', 'ett', 'yes', None),\n ('encouagement_program', 'mediation', 'backadj', 'no', None),\n ('water_cholera', 'IV', 'marginal', 'yes', None),\n ('simpson_kidneystone', 'confounding', 'correlation', 'yes', None),\n ('college_salary', 'chain', 'ett', 'yes', None)]"
     },
     "execution_count": 12,
     "metadata": {},
     "output_type": "execute_result"
    }
   ],
   "source": [
    "keys = random.choices(list(stats.keys()), k=10)\n",
    "keys"
   ],
   "metadata": {
    "collapsed": false
   }
  },
  {
   "cell_type": "code",
   "execution_count": 64,
   "outputs": [],
   "source": [
    "cols = ['story_id', 'graph_id', 'query_type', 'answer', 'difficulty']\n",
    "\n",
    "def find_indices(**conditions):\n",
    "\tfor key, inds in stats.items():\n",
    "\t\tfor k, v in conditions.items():\n",
    "\t\t\tif key[cols.index(k)] != v:\n",
    "\t\t\t\tbreak\n",
    "\t\telse:\n",
    "\t\t\tyield from inds"
   ],
   "metadata": {
    "collapsed": false
   }
  },
  {
   "cell_type": "code",
   "execution_count": 13,
   "outputs": [],
   "source": [],
   "metadata": {
    "collapsed": false
   }
  },
  {
   "cell_type": "code",
   "execution_count": 82,
   "outputs": [
    {
     "name": "stdout",
     "output_type": "stream",
     "text": [
      "\\begin{{table}}[h!]\n",
      "    \\centering\n",
      "    \\small\n",
      "    \\setlength\\tabcolsep{{5pt}}\n",
      "    \\begin{{tabular}}{{r | p{{10cm}}}}\n",
      "        \\hline\n",
      "         \\textbf{{Section}} & \\textbf{{Text}} \\\\\n",
      "         \\hline\n",
      "         \\textbf{{Background}} & {background} \\\\\n",
      "         \\textbf{{Given Info}} & {given_info}  \\\\\n",
      "         \\textbf{{Question}} & {question}  \\\\\n",
      "         \\hline\n",
      "         \\textbf{{Answer}} & {answer}  \\\\\n",
      "         \\hline\n",
      "         \\textbf{{Reasoning Step \\stepone{{}}}} & {step1} \\\\\n",
      "         \\textbf{{Step \\steptwo{{}}}} & {step2} \\\\\n",
      "         \\textbf{{Step \\stepthree{{}}}} & {step3} \\\\\n",
      "         \\textbf{{Step \\stepfour{{}}}} & {step4} \\\\\n",
      "         \\textbf{{Step \\stepfive{{}}}} & {step5} \\\\\n",
      "         \\hline\n",
      "         \\textbf{{Ground-Truth Scalar Value}} & {groundtruth}  \\\\\n",
      "        \\hline\n",
      "    \\end{{tabular}}\n",
      "    \\caption{{Example question asking about {query_type} for the ``{graph_id}'' graph using the story ``{story_id}''.}}\n",
      "    \\label{{tab:dataexample{example_id}}}\n",
      "\\end{{table}}\n"
     ]
    }
   ],
   "source": [
    "template = r'''\\begin{table}[h!]\n",
    "    \\centering\n",
    "    \\small\n",
    "    \\setlength\\tabcolsep{5pt}\n",
    "    \\begin{tabular}{r | p{10cm}}\n",
    "        \\hline\n",
    "         \\textbf{Section} & \\textbf{Text} \\\\\n",
    "         \\hline\n",
    "         \\textbf{Graph Structure} & (background) \\\\\n",
    "         \\textbf{Available Data} & (given_info)  \\\\\n",
    "         \\textbf{Question} & (question)  \\\\\n",
    "         \\hline\n",
    "         \\textbf{Answer} & (answer)  \\\\\n",
    "         \\hline\n",
    "         \\textbf{Reasoning Step \\stepone{}} & (step1) \\\\\n",
    "         \\textbf{Step \\steptwo{}} & (step2) \\\\\n",
    "         \\textbf{Step \\stepthree{}} & (step3) \\\\\n",
    "         \\textbf{Step \\stepfour{}} & (step4) \\\\\n",
    "         \\textbf{Step \\stepfive{}} & (step5) \\\\\n",
    "         \\hline\n",
    "         \\textbf{Ground-Truth Scalar Value} & (groundtruth)  \\\\\n",
    "        \\hline\n",
    "    \\end{tabular}\n",
    "    \\caption{Example question asking about (query_type) for the ``(graph_id)'' graph using the story ``(story_id)''.}\n",
    "    \\label{tab:dataexample(example_id)}\n",
    "\\end{table}'''\n",
    "\n",
    "template = template.replace('{', '{{').replace('}', '}}').replace('(', '{').replace(')', '}')\n",
    "print(template)"
   ],
   "metadata": {
    "collapsed": false
   }
  },
  {
   "cell_type": "code",
   "execution_count": 90,
   "outputs": [],
   "source": [
    "id_num = 0"
   ],
   "metadata": {
    "collapsed": false
   }
  },
  {
   "cell_type": "code",
   "execution_count": 150,
   "outputs": [
    {
     "name": "stdout",
     "output_type": "stream",
     "text": [
      "46\n",
      "[5288, 5316, 5331, 5344, 5359, 5372, 5386, 5400, 5415, 5442, 5484, 5499, 5512, 5568, 5583, 5596, 5611, 5624, 5638, 5652, 5667, 5680, 5694, 5289, 5303, 5317, 5358, 5387, 5401, 5414, 5443, 5457, 5471, 5485, 5513, 5526, 5569, 5582, 5597, 5610, 5625, 5639, 5653, 5666, 5681, 5695]\n"
     ]
    },
    {
     "data": {
      "text/plain": "5653"
     },
     "execution_count": 150,
     "metadata": {},
     "output_type": "execute_result"
    }
   ],
   "source": [
    "index = 0\n",
    "index = random.choice(range(len(full)))\n",
    "\n",
    "options = list(find_indices(\n",
    "\t\t\t\t\t\t\tstory_id='encouagement_program',\n",
    "                            query_type='marginal',\n",
    "                            # graph_id='mediation',\n",
    "                            ))\n",
    "print(len(options))\n",
    "\n",
    "index = random.choice(options)\n",
    "print(options)\n",
    "# index = options[0]\n",
    "# index = 9426\n",
    "index"
   ],
   "metadata": {
    "collapsed": false
   }
  },
  {
   "cell_type": "code",
   "execution_count": 151,
   "outputs": [
    {
     "data": {
      "text/plain": "(9420, 9426)"
     },
     "execution_count": 151,
     "metadata": {},
     "output_type": "execute_result"
    }
   ],
   "source": [
    "9420, 9426"
   ],
   "metadata": {
    "collapsed": false
   }
  },
  {
   "cell_type": "code",
   "execution_count": 152,
   "outputs": [],
   "source": [
    "query_types = {\n",
    "\t'ate': 'ATE',\n",
    "\t'ett': 'ATT',\n",
    "\t'nde': 'NDE',\n",
    "\t'nie': 'NIE',\n",
    "\t'correlation': 'Correlation',\n",
    "\t'marginal': 'Marginal',\n",
    "\t'collider_bias': 'Collider Bias',\n",
    "\t'exp_away': 'Explaining Away',\n",
    "\t'backadj': 'Backdoor Adjustment Set',\n",
    "\t'det-counterfactual': 'Counterfactual',\n",
    "}"
   ],
   "metadata": {
    "collapsed": false
   }
  },
  {
   "cell_type": "code",
   "execution_count": 153,
   "outputs": [
    {
     "name": "stdout",
     "output_type": "stream",
     "text": [
      "\\begin{table}[h!]\n",
      "    \\centering\n",
      "    \\small\n",
      "    \\setlength\\tabcolsep{5pt}\n",
      "    \\begin{tabular}{r | p{10cm}}\n",
      "        \\hline\n",
      "         \\textbf{Section} & \\textbf{Text} \\\\\n",
      "         \\hline\n",
      "         \\textbf{Background} & Imagine a self-contained, hypothetical world with only the following conditions, and without any unmentioned factors or causal relationships: Encouragement level has a direct effect on studying habit and exam score. Studying habit has a direct effect on exam score. \\\\\n",
      "         \\textbf{Given Info} & The overall probability of encouragement is 9\\%. For students who are not encouraged, the probability of high exam score is 6\\%. For students who are encouraged, the probability of high exam score is 49\\%.  \\\\\n",
      "         \\textbf{Question} & Is high exam score less likely than low exam score overall?  \\\\\n",
      "         \\hline\n",
      "         \\textbf{Answer} & Yes  \\\\\n",
      "         \\hline\n",
      "         \\textbf{Reasoning Step \\stepone{}} & $X\\rightarrow V2,X\\rightarrow Y,V2\\rightarrow Y$ \\\\\n",
      "         \\textbf{Step \\steptwo{}} & $P(Y)$ \\\\\n",
      "         \\textbf{Step \\stepthree{}} & $P(Y | X=1)*P(X=1) + P(Y | X=0)P(X=0)$ \\\\\n",
      "         \\textbf{Step \\stepfour{}} & $P(X=1) = 0.09$ \\newline $P(Y=1 | X=0) = 0.06$ \\newline $P(Y=1 | X=1) = 0.49$ \\\\\n",
      "         \\textbf{Step \\stepfive{}} & $0.09*0.49 - 0.91*0.06 = 0.10$ \\\\\n",
      "         \\hline\n",
      "         \\textbf{Ground-Truth Scalar Value} & 0.10  \\\\\n",
      "        \\hline\n",
      "    \\end{tabular}\n",
      "    \\caption{Example question asking about Marginal for the ``Mediation'' graph using the story ``encouagement\\_program''.}\n",
      "    \\label{tab:dataexample16}\n",
      "\\end{table}\n"
     ]
    }
   ],
   "source": [
    "def extract_data(entry):\n",
    "\tmeta = entry.get('meta', {})\n",
    "\n",
    "\tmodel = model_table.get(meta.get('model_id', None), {})\n",
    "\n",
    "\treturn {\n",
    "\t\t'background': model['background'],\n",
    "\t\t'given_info': entry['given_info'],\n",
    "\t\t'question': entry['question'],\n",
    "\t\t'answer': entry['answer'].capitalize(),\n",
    "\t\t'step1': entry['reasoning']['step1'],\n",
    "\t\t'step2': entry['reasoning']['step2'],\n",
    "\t\t'step3': entry['reasoning']['step3'],\n",
    "\t\t'step4': entry['reasoning']['step4'],\n",
    "\t\t'step5': entry['reasoning']['step5'],\n",
    "\t\t'groundtruth': f'{meta[\"groundtruth\"]:.2f}' if isinstance(meta['groundtruth'], (float, int)) else meta['groundtruth'],# else str(set(meta['groundtruth'])),\n",
    "\t\t'query_type': query_types.get(meta['query_type'], meta['query_type']),\n",
    "\t\t'story_id': meta['story_id'].replace('_', r'\\_'),\n",
    "\t\t'graph_id': meta['graph_id'].capitalize(),\n",
    "\t}\n",
    "\n",
    "entry = full_ids[index]\n",
    "\n",
    "info = extract_data(entry)\n",
    "info = {k: str(v) for k, v in info.items()}\n",
    "\n",
    "for k,v in info.items():\n",
    "\tif k.startswith('step'):\n",
    "\t\tv = r' \\newline '.join(f'${vx}$' for vx in v.split('\\n')).replace('[', '(').replace(']', ')')\\\n",
    "\t\t.replace('->', r'\\rightarrow ').replace('<-', r'\\leftarrow ')\n",
    "\t\t#.replace('{', r'\\{').replace('}', r'\\}')\n",
    "\t\tinfo[k] = v\n",
    "\n",
    "example = template.format(example_id=id_num, **info).replace('%', r'\\%').replace(\"do(\", r\"\\text{do}(\")\n",
    "id_num += 1\n",
    "print(example)"
   ],
   "metadata": {
    "collapsed": false
   }
  },
  {
   "cell_type": "code",
   "execution_count": null,
   "outputs": [],
   "source": [],
   "metadata": {
    "collapsed": false
   }
  },
  {
   "cell_type": "code",
   "execution_count": null,
   "outputs": [],
   "source": [],
   "metadata": {
    "collapsed": false
   }
  }
 ],
 "metadata": {
  "kernelspec": {
   "display_name": "Python 3",
   "language": "python",
   "name": "python3"
  },
  "language_info": {
   "codemirror_mode": {
    "name": "ipython",
    "version": 2
   },
   "file_extension": ".py",
   "mimetype": "text/x-python",
   "name": "python",
   "nbconvert_exporter": "python",
   "pygments_lexer": "ipython2",
   "version": "2.7.6"
  }
 },
 "nbformat": 4,
 "nbformat_minor": 0
}
