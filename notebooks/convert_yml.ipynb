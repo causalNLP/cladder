{
 "nbformat": 4,
 "nbformat_minor": 0,
 "metadata": {
  "colab": {
   "provenance": []
  },
  "kernelspec": {
   "name": "python3",
   "display_name": "Python 3"
  },
  "language_info": {
   "name": "python"
  }
 },
 "cells": [
  {
   "cell_type": "code",
   "source": [
    "!pip install -U -q PyDrive\n",
    "from pydrive.auth import GoogleAuth\n",
    "from pydrive.drive import GoogleDrive\n",
    "from google.colab import auth\n",
    "from oauth2client.client import GoogleCredentials\n",
    "import yaml\n",
    "import numpy as np\n",
    "import matplotlib.pyplot as plt\n",
    "import pandas as pd\n",
    "import os\n",
    "import itertools\n",
    "import json\n",
    "import random\n",
    "import math\n",
    "from google.colab import files\n",
    "from google.colab import drive\n",
    "import gspread\n",
    "from google.auth import default\n",
    "import ast\n",
    "from itertools import product\n",
    "from google.colab import drive\n",
    "from pathlib import Path\n"
   ],
   "metadata": {
    "id": "G8LxWtnYH6FC"
   },
   "execution_count": 1,
   "outputs": []
  },
  {
   "cell_type": "code",
   "source": [
    "!git clone https://github.com/felixludos/omni-fig\n",
    "!pip install -e ./omni-fig"
   ],
   "metadata": {
    "colab": {
     "base_uri": "https://localhost:8080/"
    },
    "id": "oumvYPoO5Z2D",
    "outputId": "a32f3701-4d68-40fd-cde9-3466a307b865"
   },
   "execution_count": 2,
   "outputs": [
    {
     "output_type": "stream",
     "name": "stdout",
     "text": [
      "Cloning into 'omni-fig'...\n",
      "remote: Enumerating objects: 2330, done.\u001B[K\n",
      "remote: Counting objects: 100% (105/105), done.\u001B[K\n",
      "remote: Compressing objects: 100% (77/77), done.\u001B[K\n",
      "remote: Total 2330 (delta 50), reused 69 (delta 24), pack-reused 2225\u001B[K\n",
      "Receiving objects: 100% (2330/2330), 2.81 MiB | 12.71 MiB/s, done.\n",
      "Resolving deltas: 100% (1493/1493), done.\n",
      "Looking in indexes: https://pypi.org/simple, https://us-python.pkg.dev/colab-wheels/public/simple/\n",
      "Obtaining file:///content/omni-fig\n",
      "  Preparing metadata (setup.py) ... \u001B[?25l\u001B[?25hdone\n",
      "Requirement already satisfied: pyyaml in /usr/local/lib/python3.9/dist-packages (from omnifig==1.0.0) (6.0)\n",
      "Requirement already satisfied: toml in /usr/local/lib/python3.9/dist-packages (from omnifig==1.0.0) (0.10.2)\n",
      "Collecting omnibelt>=0.7.3\n",
      "  Downloading omnibelt-0.7.4.tar.gz (63 kB)\n",
      "\u001B[2K     \u001B[90m━━━━━━━━━━━━━━━━━━━━━━━━━━━━━━━━━━━━━━━\u001B[0m \u001B[32m63.3/63.3 kB\u001B[0m \u001B[31m823.8 kB/s\u001B[0m eta \u001B[36m0:00:00\u001B[0m\n",
      "\u001B[?25h  Preparing metadata (setup.py) ... \u001B[?25l\u001B[?25hdone\n",
      "Requirement already satisfied: tabulate in /usr/local/lib/python3.9/dist-packages (from omnifig==1.0.0) (0.8.10)\n",
      "Collecting dill\n",
      "  Downloading dill-0.3.6-py3-none-any.whl (110 kB)\n",
      "\u001B[2K     \u001B[90m━━━━━━━━━━━━━━━━━━━━━━━━━━━━━━━━━━━━━━━\u001B[0m \u001B[32m110.5/110.5 kB\u001B[0m \u001B[31m6.6 MB/s\u001B[0m eta \u001B[36m0:00:00\u001B[0m\n",
      "\u001B[?25hRequirement already satisfied: wrapt>=1.11.2 in /usr/local/lib/python3.9/dist-packages (from omnibelt>=0.7.3->omnifig==1.0.0) (1.14.1)\n",
      "Requirement already satisfied: cryptography>=2.7 in /usr/local/lib/python3.9/dist-packages (from omnibelt>=0.7.3->omnifig==1.0.0) (40.0.1)\n",
      "Collecting indexed>=1.3.0\n",
      "  Downloading indexed-1.3.0-py3-none-any.whl (5.6 kB)\n",
      "Requirement already satisfied: cffi>=1.12 in /usr/local/lib/python3.9/dist-packages (from cryptography>=2.7->omnibelt>=0.7.3->omnifig==1.0.0) (1.15.1)\n",
      "Requirement already satisfied: pycparser in /usr/local/lib/python3.9/dist-packages (from cffi>=1.12->cryptography>=2.7->omnibelt>=0.7.3->omnifig==1.0.0) (2.21)\n",
      "Building wheels for collected packages: omnibelt\n",
      "  Building wheel for omnibelt (setup.py) ... \u001B[?25l\u001B[?25hdone\n",
      "  Created wheel for omnibelt: filename=omnibelt-0.7.4-py3-none-any.whl size=73962 sha256=9f9b57e3a6a7f3c8bbccb829118d048a2690cc488f19c19c6635ad54c3fbd072\n",
      "  Stored in directory: /root/.cache/pip/wheels/03/52/64/362a96515ce087df37913bdcdd4bd2334e42016cb1c496dd36\n",
      "Successfully built omnibelt\n",
      "Installing collected packages: indexed, dill, omnibelt, omnifig\n",
      "  Running setup.py develop for omnifig\n",
      "Successfully installed dill-0.3.6 indexed-1.3.0 omnibelt-0.7.4 omnifig-1.0.0\n"
     ]
    }
   ]
  },
  {
   "cell_type": "code",
   "source": [
    "auth.authenticate_user()\n",
    "gauth = GoogleAuth()\n",
    "gauth.credentials = GoogleCredentials.get_application_default()\n",
    "drive = GoogleDrive(gauth)\n",
    "\n",
    "creds, _ = default()\n",
    "gc = gspread.authorize(creds)"
   ],
   "metadata": {
    "id": "HEqSKBgAIFK9"
   },
   "execution_count": 3,
   "outputs": []
  },
  {
   "cell_type": "code",
   "source": [
    "os.getcwd()"
   ],
   "metadata": {
    "colab": {
     "base_uri": "https://localhost:8080/",
     "height": 35
    },
    "id": "vFDqylq5io-L",
    "outputId": "13bb3a07-779a-43fd-d161-8feb5c90439a"
   },
   "execution_count": 7,
   "outputs": [
    {
     "output_type": "execute_result",
     "data": {
      "text/plain": [
       "'/content'"
      ],
      "application/vnd.google.colaboratory.intrinsic+json": {
       "type": "string"
      }
     },
     "metadata": {},
     "execution_count": 7
    }
   ]
  },
  {
   "cell_type": "code",
   "source": [
    "#defining my worksheet\n",
    "graph2story = gc.open('20230212_Elements_for_Data_Generation').worksheet('graph2story_finer')\n",
    "graph2temp = gc.open('20230212_Elements_for_Data_Generation').worksheet('graph2temp_finer')\n",
    "graph2query = gc.open('20230212_Elements_for_Data_Generation').worksheet('query_dependencies')\n",
    "query2cheatsheet = gc.open('20230212_Elements_for_Data_Generation').worksheet('cheatsheets')"
   ],
   "metadata": {
    "id": "13Fb10t1IJYa"
   },
   "execution_count": 8,
   "outputs": []
  },
  {
   "cell_type": "code",
   "source": [
    "graph2story_data = graph2story.get_all_values()\n",
    "graph2temp_data = graph2temp.get_all_values()\n",
    "graph2query_data = graph2query.get_all_values()\n",
    "query2cheatsheet_data = query2cheatsheet.get_all_values()\n",
    "graph2query_dict = [dict(zip(graph2query_data[1], row)) for row in graph2query_data[2:]]\n",
    "query2cheatsheet_dict = [dict(zip(query2cheatsheet_data[0], row)) for row in query2cheatsheet_data[1:]]\n",
    "graph2story_dict = [dict(zip(graph2story_data[1], row)) for row in graph2story_data[2:]]"
   ],
   "metadata": {
    "id": "qgnOZm7aKptL"
   },
   "execution_count": 9,
   "outputs": []
  },
  {
   "cell_type": "code",
   "source": [
    "# query2cheatsheet_dict[0]"
   ],
   "metadata": {
    "id": "0CPMIUFCNtSx"
   },
   "execution_count": 10,
   "outputs": []
  },
  {
   "cell_type": "code",
   "source": [
    "for dct in graph2query_dict:\n",
    "    phenomenon = [p.strip() for p in dct['phenomenon'].split(',')]\n",
    "    dct['phenomenon'] = phenomenon"
   ],
   "metadata": {
    "id": "HJmU20oCbJYy"
   },
   "execution_count": 11,
   "outputs": []
  },
  {
   "cell_type": "code",
   "source": [
    "for i in range(len(graph2query_dict)):\n",
    "  if len(graph2query_dict[i]['query_id'])> 0:\n",
    "    data = {'query_id': graph2query_dict[i]['query_id'],\n",
    "            'query_formal_form': graph2query_dict[i]['query_formal_form'],\n",
    "            'query_word_form': graph2query_dict[i]['query_word_form'],\n",
    "            'phenomenon': graph2query_dict[i]['phenomenon'],\n",
    "            'CI_engine': graph2query_dict[i]['CI_engine_to_get_the_answer'],\n",
    "            'cheatsheet': [c for c in query2cheatsheet_dict if c['query_id'] == graph2query_dict[i]['query_id']]\n",
    "    }\n",
    "\n",
    "  with open(f\"/content/drive/MyDrive/ymls/questions/{graph2query_dict[i]['query_id']}.yml\",'w') as f:\n",
    "    yaml.dump(data,f)\n",
    "  f.close()\n",
    "\n",
    "\n",
    "\n"
   ],
   "metadata": {
    "id": "CAlveWmvbzHL"
   },
   "execution_count": 12,
   "outputs": []
  },
  {
   "cell_type": "code",
   "source": [
    "for dct in graph2story_dict:\n",
    "    queries = [q.strip() for q in dct['queries'].split(',')]\n",
    "    dct['queries'] = queries"
   ],
   "metadata": {
    "id": "G0uynG4FLwqR"
   },
   "execution_count": 13,
   "outputs": []
  },
  {
   "cell_type": "code",
   "source": [
    "graph2story_dict_expand = graph2story_dict.copy()\n",
    "\n",
    "for row in graph2story_dict:\n",
    "  if row['params']:\n",
    "    params_dict = ast.literal_eval(row['params'])\n",
    "    # Generate all possible combinations of values in the 'params' dictionary\n",
    "    param_combinations = list(product(*params_dict.values()))\n",
    "\n",
    "    # Create a list of new dictionaries with the different combinations of 'params'\n",
    "    new_dicts = []\n",
    "    for param_values in param_combinations:\n",
    "      new_dict = row.copy()\n",
    "      new_dict['params'] = dict(zip(eval(new_dict['params']).keys(), param_values))\n",
    "      if 'negation' in new_dict['params'] and new_dict['params']['negation'] == True:\n",
    "        new_dict['story_id'] = f\"{new_dict['story_id']}_not\"\n",
    "      if 'conjunction' in new_dict['params'] and new_dict['params']['conjunction'] == True:\n",
    "        new_dict['story_id'] = f\"{new_dict['story_id']}_and\"\n",
    "      elif 'conjunction' in new_dict['params'] and new_dict['params']['conjunction'] == False:\n",
    "        new_dict['story_id'] = f\"{new_dict['story_id']}_or\"\n",
    "\n",
    "      new_params = dict(zip(params_dict.keys(), param_values))\n",
    "      new_dict['params'] = new_params\n",
    "      graph2story_dict_expand.append(new_dict)\n",
    "\n",
    "filtered_expand = [d for d in graph2story_dict_expand if '[' not in d['params'] ]\n",
    "    \n",
    "# Print the list of new dictionaries\n",
    "\n",
    "print(len(filtered_expand))\n",
    "print(len(graph2story_dict))\n",
    "print(len(graph2story_dict_expand))\n"
   ],
   "metadata": {
    "colab": {
     "base_uri": "https://localhost:8080/"
    },
    "id": "z-n_lweTiGJ_",
    "outputId": "8ab4347b-5a1a-4e5d-def0-c51572267fe0"
   },
   "execution_count": 16,
   "outputs": [
    {
     "output_type": "stream",
     "name": "stdout",
     "text": [
      "78\n",
      "36\n",
      "88\n"
     ]
    }
   ]
  },
  {
   "cell_type": "code",
   "source": [
    "graph2story_dict = filtered_expand.copy()"
   ],
   "metadata": {
    "id": "vij4Bta840tr"
   },
   "execution_count": 17,
   "outputs": []
  },
  {
   "cell_type": "code",
   "source": [
    "story_ids = [d['story_id'] for d in graph2story_dict]\n",
    "len(set(story_ids))"
   ],
   "metadata": {
    "colab": {
     "base_uri": "https://localhost:8080/"
    },
    "id": "AMqFEpoN6_K_",
    "outputId": "6a0f9fd5-a90a-4ea5-e439-518376b88df4"
   },
   "execution_count": 18,
   "outputs": [
    {
     "output_type": "execute_result",
     "data": {
      "text/plain": [
       "52"
      ]
     },
     "metadata": {},
     "execution_count": 18
    }
   ]
  },
  {
   "cell_type": "code",
   "source": [
    "print(len(graph2story_dict))"
   ],
   "metadata": {
    "colab": {
     "base_uri": "https://localhost:8080/"
    },
    "id": "pMyXvznjDicg",
    "outputId": "b1070f6f-87d9-4c21-f15f-cbf19c1bb14e"
   },
   "execution_count": 19,
   "outputs": [
    {
     "output_type": "stream",
     "name": "stdout",
     "text": [
      "78\n"
     ]
    }
   ]
  },
  {
   "cell_type": "code",
   "source": [
    "prop_list = []\n",
    "for i in range(len(graph2story_dict)):\n",
    "  data = {\n",
    "      'meta':{\n",
    "        'phenomenon': graph2story_dict[i]['phenomenon']\n",
    "            },\n",
    "      'story_id': graph2story_dict[i]['story_id'],\n",
    "      'params':graph2story_dict[i]['params'],\n",
    "      'queries': graph2story_dict[i]['queries'],\n",
    "      'scm': graph2story_dict[i]['phenomenon'],\n",
    "      'labels':{\n",
    "        'Xname': graph2story_dict[i]['Xname'],\n",
    "        'X0':  graph2story_dict[i]['X0'],\n",
    "        'X1': graph2story_dict[i]['X1'],\n",
    "        'Zname': graph2story_dict[i]['Zname'],\n",
    "        'Z0': graph2story_dict[i]['Z0'],\n",
    "        'Z1': graph2story_dict[i]['Z1'],\n",
    "        'Yname': graph2story_dict[i]['Yname'],\n",
    "        'Y0': graph2story_dict[i]['Y0'],\n",
    "        'Y1': graph2story_dict[i]['Y1'],\n",
    "        'Wname': graph2story_dict[i]['Wname'],\n",
    "        'W0': graph2story_dict[i]['W0'],\n",
    "        'W1': graph2story_dict[i]['W1'],\n",
    "      },\n",
    "      'variable_correspondence': graph2story_dict[i]['variable_correspondence'],\n",
    "      'Source': graph2story_dict[i]['Source']\n",
    "          }\n",
    "  prop_list.append(row['story_id'])\n",
    "\n",
    "  with open(f\"/content/drive/MyDrive/ymls/stories/{graph2story_dict[i]['story_id']}.yml\",'w') as f:\n",
    "    yaml.dump(data,f)\n",
    "  f.close()\n",
    "\n",
    "       "
   ],
   "metadata": {
    "id": "p083Nq2xLQrJ"
   },
   "execution_count": 20,
   "outputs": []
  },
  {
   "cell_type": "code",
   "source": [
    "len(prop_list)"
   ],
   "metadata": {
    "id": "vA_oVVKnRE1b",
    "colab": {
     "base_uri": "https://localhost:8080/"
    },
    "outputId": "e477d826-354d-4352-f6b6-b910919da9eb"
   },
   "execution_count": 21,
   "outputs": [
    {
     "output_type": "execute_result",
     "data": {
      "text/plain": [
       "78"
      ]
     },
     "metadata": {},
     "execution_count": 21
    }
   ]
  }
 ]
}
